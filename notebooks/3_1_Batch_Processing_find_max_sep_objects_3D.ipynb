{
 "cells": [
  {
   "cell_type": "markdown",
   "id": "e3061817-2524-435b-80c7-311137941bc6",
   "metadata": {},
   "source": [
    "# Batch Processing: Find Local Max and Separate Foci"
   ]
  },
  {
   "cell_type": "markdown",
   "id": "5c21843a-bd4a-4c43-ae3b-37855078544a",
   "metadata": {},
   "source": [
    "**Daryna Yakymenko** <br> <br> \n",
    "31-07-2025\n",
    "\n",
    "*Created for Biological Data Science Summer School, <br> Uzhhorod, Ukraine, July 19 - August 2, 2025*"
   ]
  },
  {
   "cell_type": "code",
   "execution_count": 2,
   "id": "9f13bfee-e6c6-463a-9469-8e42f9f660e5",
   "metadata": {},
   "outputs": [],
   "source": [
    "from skimage.feature import peak_local_max\n",
    "from skimage.io import imread, imshow\n",
    "from skimage.filters import gaussian \n",
    "import matplotlib.pyplot as plt\n",
    "from scipy import ndimage\n",
    "from skimage.segmentation import watershed\n",
    "import ipywidgets as widgets\n",
    "from IPython.display import display\n",
    "import tifffile\n",
    "import numpy as np\n",
    "import pandas as pd\n",
    "import glob\n",
    "import os\n",
    "from datetime import datetime"
   ]
  },
  {
   "cell_type": "code",
   "execution_count": 13,
   "id": "ea35931b-7a2f-44a0-b8f3-6854fbc6475b",
   "metadata": {},
   "outputs": [
    {
     "name": "stdout",
     "output_type": "stream",
     "text": [
      "Folder already exists: C:\\Users\\evgen\\OneDrive\\Desktop\\BDS3_2025\\data\\labels\n",
      "Folder already exists: C:\\Users\\evgen\\OneDrive\\Desktop\\BDS3_2025\\data\\input\n",
      "Folder already exists: C:\\Users\\evgen\\OneDrive\\Desktop\\BDS3_2025\\data\\masks\n",
      "Folder already exists: C:\\Users\\evgen\\OneDrive\\Desktop\\BDS3_2025\\data\\histograms\n"
     ]
    }
   ],
   "source": [
    "today_date = datetime.now().strftime(\"%d_%m_%Y\") # data\n",
    "\n",
    "#output_folder_name = today_date + \"_cells\"\n",
    "\n",
    "current_directory = os.getcwd()\n",
    "#output_folder_path = os.path.join(current_directory, \"output\\\\\", output_folder_name) # pełna ścieżka do kalaloga\n",
    "output_folder_path = os.path.join(current_directory, \"data\", \"labels\")\n",
    "input_folder_path = os.path.join(current_directory, \"data\", \"input\")\n",
    "masks_folder_path = os.path.join(current_directory, \"data\", \"masks\")\n",
    "hist_folder_path = os.path.join(current_directory, \"data\", \"histograms\")\n",
    "\n",
    "\n",
    "folders_to_check = [output_folder_path, input_folder_path,masks_folder_path, hist_folder_path]\n",
    "\n",
    "for folder in folders_to_check:\n",
    "    if not os.path.exists(folder):\n",
    "        os.makedirs(folder)\n",
    "        print(f\"Created folder: {folder}\")\n",
    "    else:\n",
    "        print(f\"Folder already exists: {folder}\")"
   ]
  },
  {
   "cell_type": "code",
   "execution_count": 14,
   "id": "8c103230-cb3a-48c2-a303-0115787733ac",
   "metadata": {},
   "outputs": [
    {
     "name": "stdout",
     "output_type": "stream",
     "text": [
      "Files found:\n",
      "C:\\Users\\evgen\\OneDrive\\Desktop\\BDS3_2025\\data\\input\\2015.01.12_ETP_1h-1h_SII_Pos001_S001_0_C3.tif\n",
      "C:\\Users\\evgen\\OneDrive\\Desktop\\BDS3_2025\\data\\input\\2015.01.17_ETP_1h-1h_G_Pos001_S001_17_C1.tif\n",
      "C:\\Users\\evgen\\OneDrive\\Desktop\\BDS3_2025\\data\\input\\2015.01.17_ETP_1h-1h_G_Pos001_S001_17_C2.tif\n"
     ]
    }
   ],
   "source": [
    "# Listy do przechowywania przetworzonych DataFrame'ów\n",
    "tif_files = [] \n",
    "\n",
    "#Iteration by files in a folder\n",
    "for file_name in os.listdir(input_folder_path): \n",
    "    if file_name.lower().endswith(('.tif', '.tiff')): \n",
    "        file_path = os.path.join(input_folder_path, file_name)\n",
    "        tif_files.append(file_path)  #add full path to a file\n",
    "        \n",
    "print(\"Files found:\")\n",
    "for f in tif_files:\n",
    "    print(f)"
   ]
  },
  {
   "cell_type": "code",
   "execution_count": 17,
   "id": "0340bfcc-3c8e-4d53-9789-77b247bffbba",
   "metadata": {},
   "outputs": [
    {
     "name": "stdout",
     "output_type": "stream",
     "text": [
      "Image name: 2015.01.12_ETP_1h-1h_SII_Pos001_S001_0_C3.tif, shape: (99, 512, 512)\n",
      "Image name: 2015.01.12_ETP_1h-1h_SII_Pos001_S001_0_C3.tif, shape: (99, 512, 512). Mask for the image found ((99, 512, 512))\n",
      "min: 0.0, max: 94.02137915033313\n",
      "Histogram saved to: C:\\Users\\evgen\\OneDrive\\Desktop\\BDS3_2025\\data\\histograms\n",
      "Nr of max found: 195\n",
      "Labels saved for the image 2015.01.12_ETP_1h-1h_SII_Pos001_S001_0_C3.tif.\n",
      "Image name: 2015.01.17_ETP_1h-1h_G_Pos001_S001_17_C1.tif, shape: (99, 512, 512)\n",
      "Image name: 2015.01.17_ETP_1h-1h_G_Pos001_S001_17_C1.tif, shape: (99, 512, 512). Mask found: C:\\Users\\evgen\\OneDrive\\Desktop\\BDS3_2025\\data\\masks\\2015.01.17_ETP_1h-1h_G_Pos001_S001_17_C1.tiff ((99, 512, 512))\n",
      "min: 0.0, max: 0.0\n",
      "Histogram saved to: C:\\Users\\evgen\\OneDrive\\Desktop\\BDS3_2025\\data\\histograms\n",
      "Nr of max found: 0\n",
      "Labels saved for the image 2015.01.17_ETP_1h-1h_G_Pos001_S001_17_C1.tif.\n",
      "Image name: 2015.01.17_ETP_1h-1h_G_Pos001_S001_17_C2.tif, shape: (99, 512, 512)\n",
      "Image name: 2015.01.17_ETP_1h-1h_G_Pos001_S001_17_C2.tif, shape: (99, 512, 512). Mask found: C:\\Users\\evgen\\OneDrive\\Desktop\\BDS3_2025\\data\\masks\\2015.01.17_ETP_1h-1h_G_Pos001_S001_17_C2.tiff ((99, 512, 512))\n",
      "min: 1.5464470669086357e-05, max: 46.58725238914151\n",
      "Histogram saved to: C:\\Users\\evgen\\OneDrive\\Desktop\\BDS3_2025\\data\\histograms\n",
      "Nr of max found: 1806\n",
      "Labels saved for the image 2015.01.17_ETP_1h-1h_G_Pos001_S001_17_C2.tif.\n",
      "All done.\n"
     ]
    }
   ],
   "source": [
    "for file in tif_files: \n",
    "    image = imread(file)\n",
    "    img_name = os.path.basename(file)\n",
    "    base_name, ext = os.path.splitext(img_name)\n",
    "    print(f\"Image name: {img_name}, shape: {image.shape}\")\n",
    "\n",
    "    mask_path = os.path.join(masks_folder_path, img_name)\n",
    "    mask_name = base_name + '.tiff'\n",
    "    mask_path2 = os.path.join(masks_folder_path, mask_name)\n",
    "    \n",
    "    if os.path.exists(mask_path):\n",
    "        binary_mask = imread(mask_path)\n",
    "        print(f\"Image name: {img_name}, shape: {image.shape}. Mask for the image found ({binary_mask.shape})\")\n",
    "    elif os.path.exists(mask_path2):\n",
    "        binary_mask = imread(mask_path2)\n",
    "        print(f\"Image name: {img_name}, shape: {image.shape}. Mask found: {mask_path2} ({binary_mask.shape})\")\n",
    "    else:\n",
    "        print(f\"Missing mask for the image {img_name}!\")\n",
    "        break\n",
    "        \n",
    "    #Gaussian blur - image preprocessing \n",
    "    preprocessed = gaussian(image, sigma=1.5, preserve_range=True)\n",
    "    print(f\"min: {preprocessed.min()}, max: {preprocessed.max()}\")\n",
    "    \n",
    "    #Create histograms of intensities\n",
    "    fig, axs = plt.subplots(1, 2, figsize=(12, 5))\n",
    "\n",
    "    axs[0].hist(preprocessed.ravel(), bins=100)\n",
    "    axs[0].set_title(\"Histogram (linear scale)\")\n",
    "    axs[0].set_xlabel(\"Intensity\")\n",
    "    axs[0].set_ylabel(\"Count\")\n",
    "\n",
    "    axs[1].hist(preprocessed.ravel(), bins=100)\n",
    "    axs[1].set_title(\"Histogram (log scale)\")\n",
    "    axs[1].set_xlabel(\"Intensity\")\n",
    "    axs[1].set_yscale('log')\n",
    "    axs[1].set_xlim(left=0)\n",
    "    plt.tight_layout()\n",
    "    #save as png\n",
    "    save_path = os.path.join(hist_folder_path, img_name.replace('.tif', '_hist.png').replace('.tiff', '_hist.png'))\n",
    "    plt.savefig(save_path)\n",
    "    plt.close()\n",
    "    print(f\"Histogram saved to: {hist_folder_path}\")\n",
    "\n",
    "    coordinates = peak_local_max(preprocessed, threshold_abs=4, footprint=np.ones((4, 4, 4)))\n",
    "    print(f\"Nr of max found: {len(coordinates)}\")\n",
    "\n",
    "    #image = 3D array with intensities\n",
    "    #binary_mask = 3D binary mask (1 - object, 0 - background)\n",
    "    #coordinates = list of coordinates of local maxima (e.g., [(z1,y1,x1), (z2,y2,x2), ...])\n",
    "\n",
    "    #create labels (label image) from seed points\n",
    "    markers = np.zeros_like(binary_mask, dtype=np.int32)\n",
    "    for i, (z, y, x) in enumerate(coordinates, 1):  #enumerate starting from 1\n",
    "        markers[z, y, x] = i\n",
    "\n",
    "    #set the mask where the growth is allowed\n",
    "    mask = binary_mask.astype(bool)\n",
    "\n",
    "    #watershed, with the usage of the original image \n",
    "    labels = watershed(-image, markers=markers, mask=mask)\n",
    "\n",
    "    #to save labels - folder \"./labels\" should be created\n",
    "    labels_path = os.path.join(output_folder_path, img_name.replace('.tif', '_labels.tif').replace('.tiff', '_labels.tif'))\n",
    "    tifffile.imwrite(labels_path, labels.astype(np.uint16))\n",
    "\n",
    "    print(f\"Labels saved for the image {img_name}.\")\n",
    "\n",
    "print(f\"All done.\")"
   ]
  }
 ],
 "metadata": {
  "kernelspec": {
   "display_name": "Python 3 (ipykernel)",
   "language": "python",
   "name": "python3"
  },
  "language_info": {
   "codemirror_mode": {
    "name": "ipython",
    "version": 3
   },
   "file_extension": ".py",
   "mimetype": "text/x-python",
   "name": "python",
   "nbconvert_exporter": "python",
   "pygments_lexer": "ipython3",
   "version": "3.10.18"
  }
 },
 "nbformat": 4,
 "nbformat_minor": 5
}
