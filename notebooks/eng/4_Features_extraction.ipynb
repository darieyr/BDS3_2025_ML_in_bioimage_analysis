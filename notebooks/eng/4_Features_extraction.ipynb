{
 "cells": [
  {
   "cell_type": "markdown",
   "id": "d232240e-5b93-46e3-9e09-ff2bc6b73293",
   "metadata": {},
   "source": [
    "# Features extraction from 3D fluorescent foci"
   ]
  },
  {
   "cell_type": "markdown",
   "id": "db0903a7-1533-4b32-a89f-1bbb63790632",
   "metadata": {},
   "source": [
    "**Daryna Yakymenko** <br> <br> \n",
    "31-07-2025\n",
    "\n",
    "*Created for Biological Data Science Summer School, <br> Uzhhorod, Ukraine, July 19 - August 2, 2025*"
   ]
  },
  {
   "cell_type": "code",
   "execution_count": 18,
   "id": "59e80192-3a5f-4d07-83a7-6af16f703fd8",
   "metadata": {},
   "outputs": [],
   "source": [
    "import numpy as np\n",
    "from skimage.io import imread, imshow\n",
    "from skimage.measure import regionprops_table\n",
    "import pandas as pd\n",
    "from scipy.stats import entropy\n",
    "from skimage.measure import regionprops"
   ]
  },
  {
   "cell_type": "code",
   "execution_count": 13,
   "id": "6f566708-22fb-4ce8-8407-3aae3e7b8e95",
   "metadata": {},
   "outputs": [
    {
     "name": "stdout",
     "output_type": "stream",
     "text": [
      "0.25.2\n"
     ]
    }
   ],
   "source": [
    "import skimage\n",
    "print(skimage.__version__)"
   ]
  },
  {
   "cell_type": "code",
   "execution_count": 29,
   "id": "4c86520a-23aa-42af-9d31-ef3c37b8c558",
   "metadata": {},
   "outputs": [],
   "source": [
    "# Wczytanie 3D surowego obrazu (np. TIFF z wieloma warstwami)\n",
    "image = imread(r\"./data/input/2015.01.12_ETP_1h-1h_SII_Pos001_S001_0_C3.tif\")  # (Zależnie od formatu, może być (Z,Y,X))\n",
    "\n",
    "# Wczytanie label map (etykiety obiektów)\n",
    "labels = imread(r\"./data/labels/2015.01.12_ETP_1h-1h_SII_Pos001_S001_0_C3_labels.tif\")  # 3D tablica z etykietami, obiekty >0"
   ]
  },
  {
   "cell_type": "code",
   "execution_count": 40,
   "id": "b7cbd608-6f89-4cd1-8211-1726ba17ecd4",
   "metadata": {},
   "outputs": [],
   "source": [
    "def  objects_features(labels, image):\n",
    "    props = regionprops_table(\n",
    "        labels, \n",
    "        intensity_image=image,\n",
    "        properties=('label', 'area', 'centroid', 'mean_intensity', 'max_intensity', 'min_intensity','intensity_std')\n",
    "    )\n",
    "    \n",
    "    df_features = pd.DataFrame(props)\n",
    "\n",
    "    #Entropy\n",
    "    shape = np.array(labels.shape)\n",
    "    center = shape / 2\n",
    "\n",
    "    def entropy(intensities): #Shannon entropy for the histogram dictribution\n",
    "        if len(intensities) == 0:\n",
    "            return 0\n",
    "        hist_range = (float(intensities.min()), float(intensities.max()))\n",
    "        if hist_range[0] == hist_range[1]:\n",
    "            hist_range = (hist_range[0], hist_range[0] + 1e-6)\n",
    "        hist, _ = np.histogram(intensities, bins=256, range=hist_range, density=True)\n",
    "        hist = hist[hist > 0]\n",
    "        return -np.sum(hist * np.log2(hist))\n",
    "\n",
    "    entropy_list = []\n",
    "    sphericity_list = []\n",
    "\n",
    "    # regionprops => surface_area\n",
    "    props_full = regionprops(labels, intensity_image=image)\n",
    "\n",
    "    for region in props_full:\n",
    "        label = region.label\n",
    "        mask = labels == label\n",
    "        intensities = image[mask]\n",
    "        entropy_list.append(entropy(intensities))\n",
    "\n",
    "        #assess sphericity\n",
    "        if hasattr(region, \"surface_area\"):\n",
    "            V = region.area\n",
    "            A = region.surface_area\n",
    "            if A > 0:\n",
    "                phi = (np.pi**(1/3))*(6*V)**(2/3)/A\n",
    "            else:\n",
    "                phi = np.nan\n",
    "        else:\n",
    "            phi = np.nan  # if skimage < 0.19\n",
    "\n",
    "        sphericity_list.append(phi)\n",
    "\n",
    "    df_features = pd.DataFrame(props)\n",
    "    df_features.rename(columns={\"area\": \"volume_vox\"}, inplace=True)\n",
    "\n",
    "    df_features['entropy'] = entropy_list\n",
    "    df_features['sphericity'] = sphericity_list\n",
    "\n",
    "    # total_intensity = mean_intensity * volume_vox\n",
    "    df_features[\"total_intensity\"] = df_features[\"mean_intensity\"] * df_features[\"volume_vox\"]\n",
    "\n",
    "    background = np.median(image[labels == 0])\n",
    "    df_features[\"background_corrected_intensity\"] = (\n",
    "    df_features[\"total_intensity\"] - background * df_features[\"volume_vox\"])\n",
    "\n",
    "    voxel_volume_um3 = 0.06 * 0.06 * 0.12\n",
    "    df_features[\"volume_um3\"] = df_features[\"volume_vox\"] * voxel_volume_um3\n",
    "    return df_features"
   ]
  },
  {
   "cell_type": "code",
   "execution_count": 41,
   "id": "7fc1ad4e-ce80-4669-8561-66102ee94b51",
   "metadata": {},
   "outputs": [
    {
     "name": "stdout",
     "output_type": "stream",
     "text": [
      "CPU times: total: 3.92 s\n",
      "Wall time: 3.95 s\n"
     ]
    }
   ],
   "source": [
    "%time df = objects_features(labels, image)"
   ]
  },
  {
   "cell_type": "code",
   "execution_count": 38,
   "id": "faf593f2-3495-424a-bcfd-86789b585eb3",
   "metadata": {},
   "outputs": [],
   "source": [
    "df.to_csv(\"./data/object_features.csv\", index=False)"
   ]
  },
  {
   "cell_type": "code",
   "execution_count": 39,
   "id": "8dd83934-4188-4325-a08e-c0748b9bf55f",
   "metadata": {},
   "outputs": [
    {
     "data": {
      "text/html": [
       "<div>\n",
       "<style scoped>\n",
       "    .dataframe tbody tr th:only-of-type {\n",
       "        vertical-align: middle;\n",
       "    }\n",
       "\n",
       "    .dataframe tbody tr th {\n",
       "        vertical-align: top;\n",
       "    }\n",
       "\n",
       "    .dataframe thead th {\n",
       "        text-align: right;\n",
       "    }\n",
       "</style>\n",
       "<table border=\"1\" class=\"dataframe\">\n",
       "  <thead>\n",
       "    <tr style=\"text-align: right;\">\n",
       "      <th></th>\n",
       "      <th>label</th>\n",
       "      <th>volume_vox</th>\n",
       "      <th>centroid-0</th>\n",
       "      <th>centroid-1</th>\n",
       "      <th>centroid-2</th>\n",
       "      <th>mean_intensity</th>\n",
       "      <th>max_intensity</th>\n",
       "      <th>min_intensity</th>\n",
       "      <th>intensity_std</th>\n",
       "      <th>entropy</th>\n",
       "      <th>sphericity</th>\n",
       "      <th>total_intensity</th>\n",
       "      <th>background_corrected_intensity</th>\n",
       "      <th>volume_um3</th>\n",
       "    </tr>\n",
       "  </thead>\n",
       "  <tbody>\n",
       "    <tr>\n",
       "      <th>0</th>\n",
       "      <td>1</td>\n",
       "      <td>892.0</td>\n",
       "      <td>54.252242</td>\n",
       "      <td>198.862108</td>\n",
       "      <td>198.477578</td>\n",
       "      <td>30.910314</td>\n",
       "      <td>200.0</td>\n",
       "      <td>0.0</td>\n",
       "      <td>35.957231</td>\n",
       "      <td>7.187043</td>\n",
       "      <td>NaN</td>\n",
       "      <td>27572.0</td>\n",
       "      <td>27572.0</td>\n",
       "      <td>0.385344</td>\n",
       "    </tr>\n",
       "    <tr>\n",
       "      <th>1</th>\n",
       "      <td>2</td>\n",
       "      <td>1204.0</td>\n",
       "      <td>45.354651</td>\n",
       "      <td>30.614618</td>\n",
       "      <td>127.901163</td>\n",
       "      <td>37.416113</td>\n",
       "      <td>160.0</td>\n",
       "      <td>0.0</td>\n",
       "      <td>33.796274</td>\n",
       "      <td>9.327431</td>\n",
       "      <td>NaN</td>\n",
       "      <td>45049.0</td>\n",
       "      <td>45049.0</td>\n",
       "      <td>0.520128</td>\n",
       "    </tr>\n",
       "    <tr>\n",
       "      <th>2</th>\n",
       "      <td>3</td>\n",
       "      <td>936.0</td>\n",
       "      <td>53.991453</td>\n",
       "      <td>135.886752</td>\n",
       "      <td>28.801282</td>\n",
       "      <td>33.924145</td>\n",
       "      <td>150.0</td>\n",
       "      <td>0.0</td>\n",
       "      <td>31.508573</td>\n",
       "      <td>9.496843</td>\n",
       "      <td>NaN</td>\n",
       "      <td>31753.0</td>\n",
       "      <td>31753.0</td>\n",
       "      <td>0.404352</td>\n",
       "    </tr>\n",
       "    <tr>\n",
       "      <th>3</th>\n",
       "      <td>4</td>\n",
       "      <td>1196.0</td>\n",
       "      <td>50.260870</td>\n",
       "      <td>140.798495</td>\n",
       "      <td>10.142977</td>\n",
       "      <td>21.843645</td>\n",
       "      <td>99.0</td>\n",
       "      <td>2.0</td>\n",
       "      <td>16.391218</td>\n",
       "      <td>10.934842</td>\n",
       "      <td>NaN</td>\n",
       "      <td>26125.0</td>\n",
       "      <td>26125.0</td>\n",
       "      <td>0.516672</td>\n",
       "    </tr>\n",
       "    <tr>\n",
       "      <th>4</th>\n",
       "      <td>5</td>\n",
       "      <td>620.0</td>\n",
       "      <td>55.711290</td>\n",
       "      <td>256.804839</td>\n",
       "      <td>316.366129</td>\n",
       "      <td>20.574194</td>\n",
       "      <td>90.0</td>\n",
       "      <td>0.0</td>\n",
       "      <td>20.136854</td>\n",
       "      <td>11.630000</td>\n",
       "      <td>NaN</td>\n",
       "      <td>12756.0</td>\n",
       "      <td>12756.0</td>\n",
       "      <td>0.267840</td>\n",
       "    </tr>\n",
       "  </tbody>\n",
       "</table>\n",
       "</div>"
      ],
      "text/plain": [
       "   label  volume_vox  centroid-0  centroid-1  centroid-2  mean_intensity  \\\n",
       "0      1       892.0   54.252242  198.862108  198.477578       30.910314   \n",
       "1      2      1204.0   45.354651   30.614618  127.901163       37.416113   \n",
       "2      3       936.0   53.991453  135.886752   28.801282       33.924145   \n",
       "3      4      1196.0   50.260870  140.798495   10.142977       21.843645   \n",
       "4      5       620.0   55.711290  256.804839  316.366129       20.574194   \n",
       "\n",
       "   max_intensity  min_intensity  intensity_std    entropy  sphericity  \\\n",
       "0          200.0            0.0      35.957231   7.187043         NaN   \n",
       "1          160.0            0.0      33.796274   9.327431         NaN   \n",
       "2          150.0            0.0      31.508573   9.496843         NaN   \n",
       "3           99.0            2.0      16.391218  10.934842         NaN   \n",
       "4           90.0            0.0      20.136854  11.630000         NaN   \n",
       "\n",
       "   total_intensity  background_corrected_intensity  volume_um3  \n",
       "0          27572.0                         27572.0    0.385344  \n",
       "1          45049.0                         45049.0    0.520128  \n",
       "2          31753.0                         31753.0    0.404352  \n",
       "3          26125.0                         26125.0    0.516672  \n",
       "4          12756.0                         12756.0    0.267840  "
      ]
     },
     "execution_count": 39,
     "metadata": {},
     "output_type": "execute_result"
    }
   ],
   "source": [
    "df.head()"
   ]
  }
 ],
 "metadata": {
  "kernelspec": {
   "display_name": "Python 3 (ipykernel)",
   "language": "python",
   "name": "python3"
  },
  "language_info": {
   "codemirror_mode": {
    "name": "ipython",
    "version": 3
   },
   "file_extension": ".py",
   "mimetype": "text/x-python",
   "name": "python",
   "nbconvert_exporter": "python",
   "pygments_lexer": "ipython3",
   "version": "3.10.18"
  }
 },
 "nbformat": 4,
 "nbformat_minor": 5
}
