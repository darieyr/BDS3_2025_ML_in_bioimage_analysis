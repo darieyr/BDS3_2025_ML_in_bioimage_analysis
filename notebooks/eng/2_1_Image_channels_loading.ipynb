{
  "nbformat": 4,
  "nbformat_minor": 0,
  "metadata": {
    "colab": {
      "provenance": [],
      "include_colab_link": true
    },
    "kernelspec": {
      "name": "python3",
      "display_name": "Python 3"
    },
    "language_info": {
      "name": "python"
    }
  },
  "cells": [
    {
      "cell_type": "markdown",
      "metadata": {
        "id": "view-in-github",
        "colab_type": "text"
      },
      "source": [
        "<a href=\"https://colab.research.google.com/github/darieyr/BDS3_2025_ML_in_bioimage_analysis/blob/main/notebooks/eng/2_1_Image_channels_loading.ipynb\" target=\"_parent\"><img src=\"https://colab.research.google.com/assets/colab-badge.svg\" alt=\"Open In Colab\"/></a>"
      ]
    },
    {
      "cell_type": "markdown",
      "source": [
        "## Load bunch of images with channels saved in separate files\n"
      ],
      "metadata": {
        "id": "51hrOK7Sirnw"
      }
    },
    {
      "cell_type": "markdown",
      "source": [
        "\n",
        "**29-07-2025**<br>\n",
        "\n",
        "Created for Biological Data School (BDS^3) 2025 <br>\n",
        "\n",
        "**Autor:** *Daryna Yakymenko*"
      ],
      "metadata": {
        "id": "0NFUnFpei3Ws"
      }
    },
    {
      "cell_type": "code",
      "source": [
        "from google.colab import drive\n",
        "import matplotlib.pyplot as plt\n",
        "import re\n",
        "import os\n",
        "import tifffile as tiff\n",
        "from tifffile import imread\n",
        "import numpy as np"
      ],
      "metadata": {
        "id": "d3OVsKy4g31D"
      },
      "execution_count": null,
      "outputs": []
    },
    {
      "cell_type": "code",
      "source": [
        "#from google.colab import drive\n",
        "drive.mount('/content/drive')"
      ],
      "metadata": {
        "colab": {
          "base_uri": "https://localhost:8080/"
        },
        "id": "B9lVdKdfg9eb",
        "outputId": "b58a6303-7d38-4f3e-d4ce-551eb9faa769"
      },
      "execution_count": null,
      "outputs": [
        {
          "output_type": "stream",
          "name": "stdout",
          "text": [
            "Drive already mounted at /content/drive; to attempt to forcibly remount, call drive.mount(\"/content/drive\", force_remount=True).\n"
          ]
        }
      ]
    },
    {
      "cell_type": "code",
      "source": [
        "#Our path\n",
        "folder_path = \"/content/drive/MyDrive/BDS3_2025_data/ETP /\"\n",
        "#Choose all the files in .tiff format\n",
        "file_list = [f for f in os.listdir(folder_path) if f.endswith('.tif')]"
      ],
      "metadata": {
        "id": "1x_S3F9QhKMD"
      },
      "execution_count": null,
      "outputs": []
    },
    {
      "cell_type": "code",
      "execution_count": null,
      "metadata": {
        "id": "2vo53zrpgxfY",
        "colab": {
          "base_uri": "https://localhost:8080/"
        },
        "outputId": "6e23b8da-7d11-4131-933e-dc696c114b87"
      },
      "outputs": [
        {
          "output_type": "stream",
          "name": "stdout",
          "text": [
            "CPU times: user 3 µs, sys: 0 ns, total: 3 µs\n",
            "Wall time: 9.54 µs\n"
          ]
        }
      ],
      "source": [
        "%time\n",
        "# Extract unique base names (without _C1, _C2, _C3 before .tif)\n",
        "base_names = set()\n",
        "for f in file_list:\n",
        "    if '_C' in f:\n",
        "        base_name = f.split('_C')[0]\n",
        "        base_names.add(base_name)\n",
        "\n",
        "#Sort base names for consistency:\n",
        "base_names = sorted(list(base_names))\n",
        "\n",
        "#Template for extracting cycle phase name from the file name:\n",
        "pattern = re.compile(r'1h-1h_(.+?)_Pos') #with usage of RegEx packade (re)\n",
        "\n",
        "#Data storage list: each item is [C1, C2, C3]\n",
        "dict = {}\n",
        "\n",
        "for name in base_names:\n",
        "    match = pattern.search(name)\n",
        "    if not match:\n",
        "        continue\n",
        "    phase = match.group(1)\n",
        "\n",
        "    c1_path = os.path.join(folder_path, f\"{name}_C1.tif\")\n",
        "    c2_path = os.path.join(folder_path, f\"{name}_C2.tif\")\n",
        "    c3_path = os.path.join(folder_path, f\"{name}_C3.tif\")\n",
        "\n",
        "    if all(os.path.exists(p) for p in [c1_path, c2_path, c3_path]):\n",
        "        #add to dictionary\n",
        "        if phase not in dict:\n",
        "            dict[phase] = []\n",
        "        dict[phase].append([c1_path, c2_path, c3_path])\n",
        "    else:\n",
        "        print(f\"Lack of a channel for: {name}\")\n",
        "#results format will be like:\n",
        "#{'G': [[c1_path, c2_path, c3_path], ...], 'SIII': [...], ...}"
      ]
    },
    {
      "cell_type": "code",
      "source": [
        "print(\"Phases:\")\n",
        "for phase in dict:\n",
        "    print(f\"- {phase}\")"
      ],
      "metadata": {
        "colab": {
          "base_uri": "https://localhost:8080/"
        },
        "id": "Lvhfp7tn5cGI",
        "outputId": "8b8dec34-4ba5-4a0f-c24a-8d4e56e70640"
      },
      "execution_count": null,
      "outputs": [
        {
          "output_type": "stream",
          "name": "stdout",
          "text": [
            "Phases:\n",
            "- SIII\n",
            "- SII\n",
            "- SIV-V\n",
            "- SI\n",
            "- G\n"
          ]
        }
      ]
    },
    {
      "cell_type": "code",
      "source": [
        "for phase in dict:\n",
        "    count = len(dict[phase])\n",
        "    print(f\"Phase '{phase}' contains {count} samples(sample_index: 0)\")"
      ],
      "metadata": {
        "colab": {
          "base_uri": "https://localhost:8080/"
        },
        "id": "qulDC2-F5g7I",
        "outputId": "6a1aa0e5-45aa-4536-9ef1-0c7301e18a92"
      },
      "execution_count": null,
      "outputs": [
        {
          "output_type": "stream",
          "name": "stdout",
          "text": [
            "Phase 'SIII' contains 1 samples(sample_index: 0)\n",
            "Phase 'SII' contains 1 samples(sample_index: 0)\n",
            "Phase 'SIV-V' contains 1 samples(sample_index: 0)\n",
            "Phase 'SI' contains 1 samples(sample_index: 0)\n",
            "Phase 'G' contains 1 samples(sample_index: 0)\n"
          ]
        }
      ]
    },
    {
      "cell_type": "code",
      "source": [
        "#show first image -> [0], second channel - [1]\n",
        "image_path = dict[\"SIII\"][0][1] #dict[phase][sample_index][channel]\n",
        "our_image = imread(image_path)"
      ],
      "metadata": {
        "id": "37K3HcVmh0UT"
      },
      "execution_count": null,
      "outputs": []
    },
    {
      "cell_type": "code",
      "source": [
        "our_image.shape"
      ],
      "metadata": {
        "colab": {
          "base_uri": "https://localhost:8080/"
        },
        "id": "EOOMMJ1YiTuC",
        "outputId": "ae45d377-95db-4862-b7ac-b5cf781b2ce4"
      },
      "execution_count": null,
      "outputs": [
        {
          "output_type": "execute_result",
          "data": {
            "text/plain": [
              "(99, 512, 512)"
            ]
          },
          "metadata": {},
          "execution_count": 61
        }
      ]
    },
    {
      "cell_type": "code",
      "source": [
        "fig = plt.figure(figsize=(5, 5))\n",
        "plt.imshow(our_image[55, :, :], cmap = \"Grays_r\")"
      ],
      "metadata": {
        "colab": {
          "base_uri": "https://localhost:8080/",
          "height": 467
        },
        "id": "PMbv_ap6iBUU",
        "outputId": "82b11bb7-dc20-4d92-8c2e-820490c5261b"
      },
      "execution_count": null,
      "outputs": [
        {
          "output_type": "execute_result",
          "data": {
            "text/plain": [
              "<matplotlib.image.AxesImage at 0x7f40d9d9fd10>"
            ]
          },
          "metadata": {},
          "execution_count": 62
        },
        {
          "output_type": "display_data",
          "data": {
            "text/plain": [
              "<Figure size 500x500 with 1 Axes>"
            ],
            "image/png": "[encoded data removed]"
          },
          "metadata": {}
        }
      ]
    },
    {
      "cell_type": "code",
      "source": [
        "def process_images(image_data):\n",
        "    for image in image_data:\n",
        "        print(imread(image).shape)\n",
        "    #return (image.shape)\n",
        "\n",
        "#to call the function, you need:\n",
        "shape = process_images(dict[\"G\"][0])\n",
        "#print(shape)\n"
      ],
      "metadata": {
        "colab": {
          "base_uri": "https://localhost:8080/"
        },
        "id": "0mN4iVnqmA3F",
        "outputId": "59fa8074-b2a2-447b-8a5d-65477af64265"
      },
      "execution_count": null,
      "outputs": [
        {
          "output_type": "stream",
          "name": "stdout",
          "text": [
            "(99, 512, 512)\n",
            "(99, 512, 512)\n",
            "(99, 512, 512)\n"
          ]
        }
      ]
    }
  ]
}
