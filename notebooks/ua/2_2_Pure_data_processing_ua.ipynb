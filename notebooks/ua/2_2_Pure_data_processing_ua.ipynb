{
  "cells": [
    {
      "cell_type": "markdown",
      "metadata": {
        "id": "view-in-github",
        "colab_type": "text"
      },
      "source": [
        "<a href=\"https://colab.research.google.com/github/darieyr/BDS3_2025_ML_in_bioimage_analysis/blob/main/notebooks/ua/2_2_Pure_data_processing_ua.ipynb\" target=\"_parent\"><img src=\"https://colab.research.google.com/assets/colab-badge.svg\" alt=\"Open In Colab\"/></a>"
      ]
    },
    {
      "cell_type": "markdown",
      "metadata": {
        "id": "-z6arRCamr0b"
      },
      "source": [
        "# **Аналіз мікроскопічних зображень за допомогою алгоритмів на основі машинного навчання**"
      ]
    },
    {
      "cell_type": "markdown",
      "metadata": {
        "id": "Qbm-oBulXJWI"
      },
      "source": [
        "\n",
        "**15-07-2025**<br>\n",
        "\n",
        "Створено для Biological Data School (BDS^3) 2025 <br>\n",
        "\n",
        "**Автор:** *Дарина Якименко*"
      ]
    },
    {
      "cell_type": "markdown",
      "metadata": {
        "id": "xt3VFwrAbHxl"
      },
      "source": [
        "# Завантаження пакетів і залежностей"
      ]
    },
    {
      "cell_type": "markdown",
      "metadata": {
        "id": "tUtXSU11QsdL"
      },
      "source": [
        "Більшість необхідних для виконання цієї частини проєкту бібліотек вже попередньо встановлені в середовищі Google Colaboratry.\n",
        "Однак декілька із них все ж необхідно заінсталювати вручну:"
      ]
    },
    {
      "cell_type": "code",
      "execution_count": null,
      "metadata": {
        "colab": {
          "base_uri": "https://localhost:8080/"
        },
        "id": "5FsyU5i-a8N8",
        "outputId": "063c4936-5922-4eda-f222-b09a4f93b331"
      },
      "outputs": [
        {
          "name": "stdout",
          "output_type": "stream",
          "text": [
            "\u001b[33mWARNING: bioimageio-core 0.6.10 does not provide the extra 'torch'\u001b[0m\u001b[33m\n",
            "\u001b[0m"
          ]
        }
      ],
      "source": [
        "!pip install --quiet zarr\n",
        "!pip install --quiet -U \"xarray<2024.5.0\" \"bioimageio.core[torch]>=0.6.8,<0.7\""
      ]
    },
    {
      "cell_type": "markdown",
      "metadata": {
        "id": "ojmQZqjeRcri"
      },
      "source": [
        "Імпортуємо потрібні нам пакети/бібліотеки в середовище праці."
      ]
    },
    {
      "cell_type": "markdown",
      "metadata": {
        "id": "3frSM8ZLRo-5"
      },
      "source": [
        "Короткий опис пакетів:\n",
        "\n",
        "\n",
        "\n",
        "*  *matplotlib. pyplot* - інтерфейс на основі matplotlib для простих випадків програмного створення графіків та їх інтерактивного дослідження. Дозволяж будувати графіки подібні до створюваних у MATLAB, відкривати їх на екрані. Виконує функції менеджера графічного інтерфейсу фігур/графіків.\n",
        "\n",
        "*  *numpy* - базовий пакет для наукових обчислень, що дозволяє створювати N-вимірні масиви об'єктів, застосовувати корисні функції з лінійної алгебри, перетворення Фур'є та генерації випадкових чисел, створювати власні складні функції і т.д.\n",
        "\n",
        "*  *zarr* - забезпечує створення стиснутих, розбитих на фрагменти, N-вимірних масивів, призначених для використання в паралельних обчисленнях.\n",
        "\n",
        "*  *dask* - призначений для виконання паралельних і розподілених обчислень.\n",
        "\n",
        "*  *bioimageio* - спеціальні основні утиліти Python для ресурсів bioimage.io (зокрема, DL-моделей).\n",
        "\n",
        "*  *imageio* - простий інтерфейс для читання та запису широкого спектру даних зображень, включаючи анімовані зображення, об'ємні дані та наукові формати.\n",
        "\n",
        "*  *tifffile* - зберігання масивів NumPy у файлах TIFF (Tagged Image File Format) та вчитування зображень і метаданих із файлів типу TIFF, що використовуються в біовізуалізації.\n",
        "\n"
      ]
    },
    {
      "cell_type": "code",
      "execution_count": null,
      "metadata": {
        "id": "uaiQ3V-6a_6Y"
      },
      "outputs": [],
      "source": [
        "import matplotlib.pyplot as plt\n",
        "import zarr\n",
        "import dask\n",
        "import dask.array as da\n",
        "import numpy as np\n",
        "import bioimageio.core\n",
        "from bioimageio.core import Tensor, Sample, create_prediction_pipeline\n",
        "from bioimageio.spec.utils import load_array\n",
        "from dask import delayed\n",
        "import imageio\n",
        "from tifffile import imread\n",
        "from google.colab import drive\n",
        "from mpl_toolkits.mplot3d import Axes3D\n",
        "import re\n",
        "import os\n",
        "import tifffile as tiff\n",
        "from skimage.filters import threshold_otsu"
      ]
    },
    {
      "cell_type": "markdown",
      "metadata": {
        "id": "zBA9FqE8bPKg"
      },
      "source": [
        "# Функції"
      ]
    },
    {
      "cell_type": "code",
      "execution_count": null,
      "metadata": {
        "id": "4-9ZV0VNiVIo"
      },
      "outputs": [],
      "source": [
        "#Function to interact with a 3D image\n",
        "%matplotlib inline\n",
        "from ipywidgets import *\n",
        "\n",
        "def update(image, z=0):\n",
        "    fig = plt.figure(figsize=(10, 10))\n",
        "    plt.subplot(121)\n",
        "    c = 0\n",
        "    t = 0\n",
        "    plt.imshow(image[t, c, z, :, :])\n",
        "    fig.canvas.flush_events()\n",
        "\n",
        "def update3ch(image, z=0):\n",
        "    fig = plt.figure(figsize=(6, 6))\n",
        "    rgb = np.stack([\n",
        "        image[0, 1, z],  # channel 0 -> Green\n",
        "        image[0, 0, z],  # channel 1 -> Red\n",
        "        image[0, 2, z],  # channel 2 -> Blue\n",
        "    ], axis=-1)\n",
        "\n",
        "    #Values normalization, if they are not in [0,1]\n",
        "    rgb = rgb.astype(np.float32)\n",
        "    rgb -= rgb.min()\n",
        "    rgb /= rgb.max()\n",
        "\n",
        "    plt.imshow(rgb)\n",
        "    plt.title(f\"Z = {z}\")\n",
        "    plt.axis(\"off\")\n",
        "    plt.show()\n",
        "\n",
        "def update3ch_together(image, z=0):\n",
        "    fig, axes = plt.subplots(1, 3, figsize=(15, 5))\n",
        "\n",
        "    channel_names = ['Green=EdU', 'Red=gammaH2AX', 'Blue=53BP1']\n",
        "    for c in range(3):\n",
        "        axes[c].imshow(image[0, c, z, :, :], cmap='gray')\n",
        "        axes[c].set_title(f'{channel_names[c]} channel - Z={z}')\n",
        "        axes[c].axis('off')\n",
        "\n",
        "    plt.tight_layout()\n",
        "    plt.show()\n",
        "\n",
        "#Display the results of masking (probabilities prediction)\n",
        "def display(i=0):\n",
        "    prediction, sample, inp_id, outp_id, name = results[i]\n",
        "    pred_array = np.asarray(prediction.members[outp_id].data)\n",
        "    fig = plt.figure(figsize=(10, 10))\n",
        "    plt.subplot(121)\n",
        "    plt.imshow(pred_array[0, 0, :, :])\n",
        "    plt.title(name)\n",
        "    fig.canvas.flush_events()\n",
        "\n",
        "binarized_results = []\n",
        "\n",
        "# Function to display and collect binarized results\n",
        "def display_bin(i=0):\n",
        "    prediction, sample, inp_id, outp_id, name = results[i]\n",
        "    pred_array = np.asarray(prediction.members[outp_id].data)\n",
        "    binary_pred = pred_array[0, 0, :, :] >= 0.5\n",
        "    binarized_results.append(binary_pred)  # Append binarized 2D result (mask)\n",
        "\n",
        "    fig = plt.figure(figsize=(10, 10))\n",
        "    plt.subplot(121)\n",
        "    plt.imshow(binary_pred[:, :])\n",
        "    plt.title(name)\n",
        "    fig.canvas.flush_events()\n"
      ]
    },
    {
      "cell_type": "code",
      "execution_count": null,
      "metadata": {
        "id": "r8uUv4bDjBrt"
      },
      "outputs": [],
      "source": [
        "# Function to handle model inference\n",
        "def run_model_inference(bmz_model, arr):\n",
        "    # load model\n",
        "    model_resource = bioimageio.core.load_description(bmz_model)\n",
        "\n",
        "    # load model's test input image\n",
        "    test_input_image = load_array(model_resource.inputs[0].test_tensor)\n",
        "\n",
        "    # match test data type with the data type of the model input\n",
        "    arr = arr.astype(test_input_image.dtype)\n",
        "\n",
        "    # create input tensor\n",
        "    input_tensor = Tensor.from_numpy(arr, dims=tuple(model_resource.inputs[0].axes))\n",
        "\n",
        "    # create collection of tensors (sample)\n",
        "    inp_id = model_resource.inputs[0].id\n",
        "    outp_id = model_resource.outputs[0].id\n",
        "    sample = Sample(members={inp_id: input_tensor}, stat={}, id=\"id\")\n",
        "\n",
        "    # The prediction_pipeline function is used to run a prediction with a given model\n",
        "    # It applies the pre-processing, if indicated in the model rdf.yaml,\n",
        "    # runs inference with the model and applies the post-processing, again if specified in the model rdf.yaml.\n",
        "    prediction_pipeline = create_prediction_pipeline(model_resource)\n",
        "\n",
        "    # Use the new prediction pipeline to run a prediction. The prediction pipeline returns a Sample object\n",
        "    prediction = prediction_pipeline.predict_sample_without_blocking(sample)\n",
        "\n",
        "    return prediction, sample, inp_id, outp_id"
      ]
    },
    {
      "cell_type": "code",
      "execution_count": null,
      "metadata": {
        "id": "qXlsiTxDoiNS"
      },
      "outputs": [],
      "source": [
        "def create_a_mask(image, z):\n",
        "    #plane = image_3D[z, :, :].compute() # convert the Dask array into a Numpy array\n",
        "    prediction, sample, inp_id, outp_id = run_model_inference(bmz_model_id, image)\n",
        "    name = \"z:%s\" % (z)\n",
        "    return prediction, sample, inp_id, outp_id, name"
      ]
    },
    {
      "cell_type": "markdown",
      "metadata": {
        "id": "pLz8jqSRbRz8"
      },
      "source": [
        "# Обробка даних за допомогою обраного моделю"
      ]
    },
    {
      "cell_type": "markdown",
      "metadata": {
        "id": "GNOIloGUXr2j"
      },
      "source": [
        "Спочатку отримаймо доступ до даних з Google Drive:"
      ]
    },
    {
      "cell_type": "code",
      "execution_count": null,
      "metadata": {
        "colab": {
          "base_uri": "https://localhost:8080/"
        },
        "id": "KNNjAkPAXrMq",
        "outputId": "6caab876-3231-4313-a696-9ae9358068ab"
      },
      "outputs": [
        {
          "name": "stdout",
          "output_type": "stream",
          "text": [
            "Mounted at /content/drive\n"
          ]
        }
      ],
      "source": [
        "#from google.colab import drive\n",
        "drive.mount('/content/drive')"
      ]
    },
    {
      "cell_type": "markdown",
      "metadata": {
        "id": "YP5JUipgX8dX"
      },
      "source": [
        "Файли будуть доступні за стежкою: \"/content/drive/MyDrive/\""
      ]
    },
    {
      "cell_type": "code",
      "execution_count": null,
      "metadata": {
        "id": "E_uRZ7VV7VW5"
      },
      "outputs": [],
      "source": [
        "#Our path\n",
        "folder_path = \"/content/drive/MyDrive/BDS3_2025_data/ETP \" #change for your path\n",
        "#Choose all the files in .tiff format\n",
        "file_list = [f for f in os.listdir(folder_path) if f.endswith('.tif')]"
      ]
    },
    {
      "cell_type": "code",
      "execution_count": null,
      "metadata": {
        "colab": {
          "base_uri": "https://localhost:8080/"
        },
        "id": "0a01qqKF7VZ4",
        "outputId": "9159e142-1bea-496b-a089-2246b6862442"
      },
      "outputs": [
        {
          "name": "stdout",
          "output_type": "stream",
          "text": [
            "CPU times: user 3 µs, sys: 1e+03 ns, total: 4 µs\n",
            "Wall time: 6.91 µs\n"
          ]
        }
      ],
      "source": [
        "%time\n",
        "# Extract unique base names (without _C1, _C2, _C3 before .tif)\n",
        "base_names = set()\n",
        "for f in file_list:\n",
        "    if '_C' in f:\n",
        "        base_name = f.split('_C')[0]\n",
        "        base_names.add(base_name)\n",
        "\n",
        "#Sort base names for consistency:\n",
        "base_names = sorted(list(base_names))\n",
        "\n",
        "#Template for extracting cycle phase name from the file name:\n",
        "pattern = re.compile(r'1h-1h_(.+?)_Pos') #with usage of RegEx packade (re)\n",
        "\n",
        "#Data storage list: each item is [C1, C2, C3]\n",
        "dict = {}\n",
        "\n",
        "for name in base_names:\n",
        "    match = pattern.search(name)\n",
        "    if not match:\n",
        "        continue\n",
        "    phase = match.group(1)\n",
        "\n",
        "    c1_path = os.path.join(folder_path, f\"{name}_C1.tif\")\n",
        "    c2_path = os.path.join(folder_path, f\"{name}_C2.tif\")\n",
        "    c3_path = os.path.join(folder_path, f\"{name}_C3.tif\")\n",
        "\n",
        "    if all(os.path.exists(p) for p in [c1_path, c2_path, c3_path]):\n",
        "        #add to dictionary\n",
        "        if phase not in dict:\n",
        "            dict[phase] = []\n",
        "        dict[phase].append([c1_path, c2_path, c3_path])\n",
        "    else:\n",
        "        print(f\"Lack of a channel for: {name}\")\n",
        "#results format will be like:\n",
        "#{'G': [[c1_path, c2_path, c3_path], ...], 'SIII': [...], ...}"
      ]
    },
    {
      "cell_type": "code",
      "execution_count": null,
      "metadata": {
        "colab": {
          "base_uri": "https://localhost:8080/"
        },
        "id": "b9nouBax7Vcu",
        "outputId": "63b8ebe5-b469-4545-d370-11990ad7a32d"
      },
      "outputs": [
        {
          "name": "stdout",
          "output_type": "stream",
          "text": [
            "Phases:\n",
            "- SIII\n",
            "- SII\n",
            "- SIV-V\n",
            "- SI\n",
            "- G\n"
          ]
        }
      ],
      "source": [
        "print(\"Phases:\")\n",
        "for phase in dict:\n",
        "    phases = []\n",
        "    phases.append(phase)\n",
        "    print(f\"- {phase}\")"
      ]
    },
    {
      "cell_type": "code",
      "execution_count": null,
      "metadata": {
        "colab": {
          "base_uri": "https://localhost:8080/"
        },
        "id": "JcIHzJgeHY61",
        "outputId": "cbb7aa70-1f86-4d6a-b619-aae8404f9910"
      },
      "outputs": [
        {
          "name": "stdout",
          "output_type": "stream",
          "text": [
            "Phase 'SIII' contains 1 samples(sample_index: 0)\n",
            "Phase 'SII' contains 1 samples(sample_index: 0)\n",
            "Phase 'SIV-V' contains 1 samples(sample_index: 0)\n",
            "Phase 'SI' contains 1 samples(sample_index: 0)\n",
            "Phase 'G' contains 1 samples(sample_index: 0)\n"
          ]
        }
      ],
      "source": [
        "for phase in dict:\n",
        "    count = len(dict[phase])\n",
        "    print(f\"Phase '{phase}' contains {count} samples(sample_index: 0)\")"
      ]
    },
    {
      "cell_type": "code",
      "execution_count": null,
      "metadata": {
        "id": "2blnKLce7Vfa"
      },
      "outputs": [],
      "source": [
        "#show first image -> [0], second channel - [1]\n",
        "image_path = dict[\"SIII\"][0][2] #dict[phase][sample_index][channel]\n",
        "our_image = imread(image_path)"
      ]
    },
    {
      "cell_type": "code",
      "execution_count": null,
      "metadata": {
        "colab": {
          "base_uri": "https://localhost:8080/"
        },
        "id": "SYB70XuvMaAy",
        "outputId": "f4e2323a-ad76-4c66-a8d4-995312fb9b24"
      },
      "outputs": [
        {
          "data": {
            "text/plain": [
              "(99, 512, 512)"
            ]
          },
          "execution_count": 14,
          "metadata": {},
          "output_type": "execute_result"
        }
      ],
      "source": [
        "our_image.shape"
      ]
    },
    {
      "cell_type": "code",
      "execution_count": null,
      "metadata": {
        "colab": {
          "base_uri": "https://localhost:8080/"
        },
        "id": "s4WRByIiSgsw",
        "outputId": "1e27941b-02f9-462f-ecce-789f03e30440"
      },
      "outputs": [
        {
          "name": "stdout",
          "output_type": "stream",
          "text": [
            "Wed Jul 30 08:44:10 2025\n"
          ]
        }
      ],
      "source": [
        "import time\n",
        "print(time.ctime())"
      ]
    },
    {
      "cell_type": "code",
      "execution_count": null,
      "metadata": {
        "colab": {
          "base_uri": "https://localhost:8080/"
        },
        "id": "uSMNaoP6ViAd",
        "outputId": "905182f6-a52c-4f90-8062-9671d1312a58"
      },
      "outputs": [
        {
          "name": "stdout",
          "output_type": "stream",
          "text": [
            "Folder 'masks' already exists.\n",
            "Folder '/content/drive/MyDrive/masks' created successfully!\n"
          ]
        }
      ],
      "source": [
        "bmz_model_id =  \"affable-shark\"\n",
        "\n",
        "#folder_name = \"predictions\"\n",
        "#if not os.path.exists(folder_name):\n",
        "    #os.makedirs(folder_name)\n",
        "    #print(f\"Folder '{folder_name}' created successfully!\")\n",
        "#else:\n",
        "    #print(f\"Folder '{folder_name}' already exists.\")\n",
        "\n",
        "\n",
        "folder_name = \"masks\"\n",
        "if not os.path.exists(folder_name):\n",
        "    os.makedirs(folder_name)\n",
        "    print(f\"Folder '{folder_name}' created successfully!\")\n",
        "else:\n",
        "    print(f\"Folder '{folder_name}' already exists.\")\n",
        "\n",
        "folder_name = \"/content/drive/MyDrive/masks\"\n",
        "if not os.path.exists(folder_name):\n",
        "    os.makedirs(folder_name)\n",
        "    print(f\"Folder '{folder_name}' created successfully!\")\n",
        "else:\n",
        "    print(f\"Folder '{folder_name}' already exists.\")"
      ]
    },
    {
      "cell_type": "code",
      "execution_count": null,
      "metadata": {
        "id": "oP3iBTQvMX3I"
      },
      "outputs": [],
      "source": [
        "def process_images(image_data):\n",
        "    for image in image_data:\n",
        "        img = imread(image)\n",
        "        print(img.shape)\n",
        "\n",
        "        #sample_ch = f.split(folder_path[0])\n",
        "        #sample_ch = os.path.basename(image)\n",
        "        sample_ch = os.path.splitext(os.path.basename(image))[0]\n",
        "        print(sample_ch)\n",
        "        #print (f\"Image name: {sample_ch}\")\n",
        "\n",
        "        #save image as zarr\n",
        "        zarr_path = \"./zarr_files/\" + sample_ch + \".zarr\"\n",
        "        #print(zarr_path)\n",
        "        zarr.save(zarr_path, img)\n",
        "        print(\"Saved as Zarr:\", zarr_path)\n",
        "        z = zarr.open(zarr_path, mode='r')\n",
        "        z_dask = da.from_zarr(z)\n",
        "        print(f\"Z_dask shape: {z_dask.shape}\")\n",
        "\n",
        "        lazy_results = []\n",
        "\n",
        "        for z in range(z_dask.shape[0]):\n",
        "          r = delayed(create_a_mask)(z_dask[z, :, :] , z)\n",
        "          lazy_results.append(r)\n",
        "\n",
        "        print(time.ctime())\n",
        "        results = dask.compute(*lazy_results)\n",
        "        print(time.ctime())\n",
        "\n",
        "        #save prediction\n",
        "        #prediction_stack = np.stack(results, axis=0)\n",
        "        #output_path = \"./predictions/\" + sample_ch + \".tif\"\n",
        "        #tiff.imwrite(output_path, prediction_stack.astype(np.uint8))\n",
        "\n",
        "        #masks\n",
        "        # List to store binarized planes\n",
        "        binarized_results = []\n",
        "\n",
        "          # Iterate over all planes\n",
        "        for i in range(len(results)):\n",
        "          prediction, sample, inp_id, outp_id, name = results[i]\n",
        "          pred_array = np.asarray(prediction.members[outp_id].data)\n",
        "          # Extract the 2D plane\n",
        "          plane = pred_array[0, 0, :, :]\n",
        "          # Binarize using Otsu’s method\n",
        "          #threshold = threshold_otsu(plane)\n",
        "          threshold = 0.5\n",
        "          binary_plane = plane >= threshold  # True (1) for foreground, False (0) for background\n",
        "\n",
        "          binarized_results.append(binary_plane.astype(np.uint8))  # Convert to uint8 (0 and 1)\n",
        "          # Convert list to 3D array\n",
        "        mask_3d = np.stack(binarized_results, axis=0)  # Stack along Z-axis\n",
        "        drive_output_dir = \"/content/drive/MyDrive/masks\"\n",
        "        os.makedirs(drive_output_dir, exist_ok=True)\n",
        "        output_path = os.path.join(drive_output_dir, f\"{sample_ch}.tiff\")\n",
        "        imageio.volsave(output_path, mask_3d.astype(np.uint8))\n",
        "\n",
        "        mask_path = \"./masks/\" + sample_ch + \".tif\"\n",
        "        imageio.volsave(mask_path, mask_3d.astype(np.uint8))\n",
        "        print(\"Saved binarized 3D mask.\")\n",
        "\n",
        "    return print(\"Finally!\")"
      ]
    },
    {
      "cell_type": "code",
      "execution_count": null,
      "metadata": {
        "colab": {
          "background_save": true,
          "base_uri": "https://localhost:8080/"
        },
        "id": "xQhf8On9MeaE",
        "outputId": "15e931c4-166d-4076-c0ae-4ff98c0ec0e2"
      },
      "outputs": [
        {
          "name": "stdout",
          "output_type": "stream",
          "text": [
            "(99, 512, 512)\n",
            "2015.01.17_ETP_1h-1h_G_Pos001_S001_17_C1\n",
            "Saved as Zarr: ./zarr_files/2015.01.17_ETP_1h-1h_G_Pos001_S001_17_C1.zarr\n",
            "Z_dask shape: (99, 512, 512)\n",
            "Wed Jul 30 08:45:39 2025\n"
          ]
        },
        {
          "name": "stderr",
          "output_type": "stream",
          "text": [
            "\u001b[32m2025-07-30 08:45:40.924\u001b[0m | \u001b[1mINFO    \u001b[0m | \u001b[36mbioimageio.spec._internal.io_utils\u001b[0m:\u001b[36mopen_bioimageio_yaml\u001b[0m:\u001b[36m112\u001b[0m - \u001b[1mloading affable-shark from https://uk1s3.embassy.ebi.ac.uk/public-datasets/bioimage.io/affable-shark/1.2/files/rdf.yaml\u001b[0m\n",
            "Downloading data from 'https://uk1s3.embassy.ebi.ac.uk/public-datasets/bioimage.io/affable-shark/1.2/files/rdf.yaml' to file '/root/.cache/bioimageio/a9089c4a932954227e300606fff4c424-rdf.yaml'.\n",
            "100%|█████████████████████████████████████| 4.06k/4.06k [00:00<00:00, 2.63MB/s]\n",
            "Downloading data from 'https://uk1s3.embassy.ebi.ac.uk/public-datasets/bioimage.io/affable-shark/1.2/files/zero_mean_unit_variance.ijm' to file '/root/.cache/bioimageio/5ab6d42cb36097a2f1a2d6bd4b7aaa00-zero_mean_unit_variance.ijm'.\n",
            "100%|██████████████████████████████████████████| 845/845 [00:00<00:00, 866kB/s]\n",
            "computing SHA256 of 5ab6d42cb36097a2f1a2d6bd4b7aaa00-zero_mean_unit_variance.ijm (result: 767f2c3a50e36365c30b9e46e57fcf82e606d337e8a48d4a2440dc512813d186): 100%|██████████| 1/1 [00:00<00:00, 790.04it/s] \n",
            "Downloading data from 'https://uk1s3.embassy.ebi.ac.uk/public-datasets/bioimage.io/affable-shark/1.2/files/documentation.md' to file '/root/.cache/bioimageio/8e11e9dbbd025121286c94b4a920b299-documentation.md'.\n",
            "100%|█████████████████████████████████████| 1.57k/1.57k [00:00<00:00, 1.64MB/s]\n",
            "SHA256 hash of downloaded file: 9b8330e6fae8403efc7a44bb7365186c14fb6222b608791baab7a4e0352dbdcd\n",
            "Use this value as the 'known_hash' argument of 'pooch.retrieve' to ensure that the file hasn't changed if it is downloaded again in the future.\n",
            "Downloading data from 'https://uk1s3.embassy.ebi.ac.uk/public-datasets/bioimage.io/affable-shark/1.2/files/test_input_0.npy' to file '/root/.cache/bioimageio/6dc70c5e9bb37397e9bf7bcae981c9df-test_input_0.npy'.\n",
            "100%|████████████████████████████████████████| 262k/262k [00:00<00:00, 206MB/s]\n",
            "computing SHA256 of 6dc70c5e9bb37397e9bf7bcae981c9df-test_input_0.npy (result: c29bd6e16e3f7856217b407ba948222b1c2a0da41922a0f79297e25588614fe2): 100%|██████████| 3/3 [00:00<00:00, 1085.30it/s]\n",
            "Downloading data from 'https://uk1s3.embassy.ebi.ac.uk/public-datasets/bioimage.io/affable-shark/1.2/files/sample_input_0.tif' to file '/root/.cache/bioimageio/c3df660664e78b6be6c77b6041cd6c54-sample_input_0.tif'.\n",
            "\u001b[32m2025-07-30 08:45:43.039\u001b[0m | \u001b[1mINFO    \u001b[0m | \u001b[36mbioimageio.spec._internal.io_utils\u001b[0m:\u001b[36mopen_bioimageio_yaml\u001b[0m:\u001b[36m112\u001b[0m - \u001b[1mloading affable-shark from https://uk1s3.embassy.ebi.ac.uk/public-datasets/bioimage.io/affable-shark/1.2/files/rdf.yaml\u001b[0m\n",
            "Downloading data from 'https://uk1s3.embassy.ebi.ac.uk/public-datasets/bioimage.io/affable-shark/1.2/files/sample_input_0.tif' to file '/root/.cache/bioimageio/c3df660664e78b6be6c77b6041cd6c54-sample_input_0.tif'.\n",
            "  0%|                                              | 0.00/65.8k [00:00<?, ?B/s]\n",
            "100%|█████████████████████████████████████| 65.8k/65.8k [00:00<00:00, 69.3MB/s]\n",
            "computing SHA256 of c3df660664e78b6be6c77b6041cd6c54-sample_input_0.tif (result: a24b3c708b6ca6825494eb7c5a4d221335fb3eef5eb9d03f4108907cdaad2bf9): 100%|██████████| 1/1 [00:00<00:00, 350.37it/s]\n",
            "Downloading data from 'https://uk1s3.embassy.ebi.ac.uk/public-datasets/bioimage.io/affable-shark/1.2/files/test_output_0.npy' to file '/root/.cache/bioimageio/c26b682648430ce0b63223994e2b6caf-test_output_0.npy'.\n",
            "\n",
            " 26%|██████████                            | 17.4k/65.8k [00:00<00:00, 118kB/s]\u001b[A\n",
            " 76%|████████████████████████████▉         | 50.2k/65.8k [00:00<00:00, 176kB/s]\u001b[A\n",
            "100%|█████████████████████████████████████| 65.8k/65.8k [00:00<00:00, 31.7MB/s]\n",
            "Downloading data from 'https://uk1s3.embassy.ebi.ac.uk/public-datasets/bioimage.io/affable-shark/1.2/files/test_output_0.npy' to file '/root/.cache/bioimageio/c26b682648430ce0b63223994e2b6caf-test_output_0.npy'.\n",
            "  6%|██▌                                    | 33.8k/524k [00:00<00:02, 223kB/s]\n",
            "100%|████████████████████████████████████████| 524k/524k [00:00<00:00, 367MB/s]\n",
            "computing SHA256 of c26b682648430ce0b63223994e2b6caf-test_output_0.npy (result: 510181f38930e59e4fd8ecc03d6ea7c980eb6609759655f2d4a41fe36108d5f5): 100%|██████████| 5/5 [00:00<00:00, 980.66it/s] \n",
            "Downloading data from 'https://uk1s3.embassy.ebi.ac.uk/public-datasets/bioimage.io/affable-shark/1.2/files/sample_output_0.tif' to file '/root/.cache/bioimageio/b4ad645a4712f4634058e1a55f68f5f3-sample_output_0.tif'.\n",
            "\n",
            "  3%|█▎                                     | 17.4k/524k [00:00<00:04, 116kB/s]\u001b[A\n",
            " 10%|███▋                                   | 50.2k/524k [00:00<00:02, 176kB/s]\u001b[A\n",
            "  0%|                                               | 0.00/525k [00:00<?, ?B/s]\n",
            "  6%|██▌                                    | 33.8k/525k [00:00<00:02, 224kB/s]\n",
            " 31%|████████████▌                           | 165k/525k [00:00<00:00, 599kB/s]\n",
            "100%|████████████████████████████████████████| 525k/525k [00:00<00:00, 432MB/s]\n",
            "computing SHA256 of b4ad645a4712f4634058e1a55f68f5f3-sample_output_0.tif (result: e8f99aabe8405427f515eba23a49f58ba50302f57d1fdfd07026e1984f836c5e): 100%|██████████| 5/5 [00:00<00:00, 693.09it/s] \n",
            "Downloading data from 'https://uk1s3.embassy.ebi.ac.uk/public-datasets/bioimage.io/affable-shark/1.2/files/unet.py' to file '/root/.cache/bioimageio/00532adacd479925496a0f28b4929256-unet.py'.\n",
            "\n",
            " 53%|█████████████████████▎                  | 280k/524k [00:01<00:00, 297kB/s]\u001b[A\n",
            "  0%|                                              | 0.00/20.9k [00:00<?, ?B/s]\n",
            "100%|█████████████████████████████████████| 20.9k/20.9k [00:00<00:00, 3.66MB/s]\n",
            "computing SHA256 of 00532adacd479925496a0f28b4929256-unet.py (result: 7f5b15948e8e2c91f78dcff34fbf30af517073e91ba487f3edb982b948d099b3): 100%|██████████| 1/1 [00:00<00:00, 489.59it/s] \n",
            "Downloading data from 'https://uk1s3.embassy.ebi.ac.uk/public-datasets/bioimage.io/affable-shark/1.2/files/weights.pt' to file '/root/.cache/bioimageio/92086e39b9390c98c2cf8c6155ffd1fc-weights.pt'.\n",
            "\n",
            " 94%|█████████████████████████████████████▌  | 493k/524k [00:01<00:00, 418kB/s]\u001b[A\n",
            "100%|████████████████████████████████████████| 524k/524k [00:00<00:00, 277MB/s]\n",
            "Downloading data from 'https://uk1s3.embassy.ebi.ac.uk/public-datasets/bioimage.io/affable-shark/1.2/files/weights.pt' to file '/root/.cache/bioimageio/92086e39b9390c98c2cf8c6155ffd1fc-weights.pt'.\n",
            "  0%|                                       | 17.4k/116M [00:00<16:46, 115kB/s]\n",
            "  0%|                                       | 50.2k/116M [00:00<11:08, 173kB/s]\n",
            "  0%|                                       | 99.3k/116M [00:00<08:01, 240kB/s]\n",
            "  0%|                                        | 132k/116M [00:00<08:23, 230kB/s]\n",
            "  0%|                                        | 181k/116M [00:00<07:19, 263kB/s]\n",
            "  0%|                                        | 230k/116M [00:00<06:49, 282kB/s]\n",
            "  0%|                                        | 280k/116M [00:01<06:31, 295kB/s]\n",
            "  0%|                                        | 345k/116M [00:01<05:42, 337kB/s]\n",
            "  0%|▏                                       | 411k/116M [00:01<05:15, 365kB/s]\n",
            "  0%|▏                                       | 493k/116M [00:01<04:37, 415kB/s]\n",
            "  0%|▏                                       | 574k/116M [00:01<04:15, 451kB/s]\n",
            "  1%|▏                                       | 656k/116M [00:01<04:01, 476kB/s]\n",
            "  1%|▏                                       | 722k/116M [00:01<03:24, 561kB/s]\u001b[A\n",
            "  1%|▎                                       | 869k/116M [00:02<03:17, 582kB/s]\n",
            "  1%|▎                                       | 968k/116M [00:01<02:47, 684kB/s]\u001b[A\n",
            "  1%|▎                                      | 1.00M/116M [00:02<02:53, 662kB/s]\n",
            "  1%|▍                                      | 1.13M/116M [00:02<02:39, 719kB/s]\n",
            "  1%|▍                                      | 1.28M/116M [00:02<02:24, 790kB/s]\n",
            "  1%|▍                                      | 1.44M/116M [00:02<02:11, 873kB/s]\n",
            "  1%|▌                                      | 1.62M/116M [00:02<01:58, 966kB/s]\n",
            "  2%|▌                                     | 1.82M/116M [00:03<01:47, 1.06MB/s]\n",
            "  2%|▋                                     | 2.03M/116M [00:03<01:37, 1.16MB/s]\n",
            "  2%|▋                                     | 2.28M/116M [00:03<01:28, 1.29MB/s]\n",
            "  2%|▊                                     | 2.54M/116M [00:03<01:20, 1.41MB/s]\n",
            "  2%|▉                                     | 2.80M/116M [00:03<01:26, 1.30MB/s]\n",
            "  3%|█                                     | 3.15M/116M [00:03<01:12, 1.56MB/s]\n",
            "  3%|█▎                                    | 3.97M/116M [00:03<00:46, 2.40MB/s]\u001b[A\n",
            "  3%|█                                     | 3.38M/116M [00:04<01:12, 1.54MB/s]\n",
            "  3%|█▏                                    | 3.61M/116M [00:04<01:12, 1.54MB/s]\n",
            "  3%|█▎                                    | 3.85M/116M [00:04<01:12, 1.55MB/s]\n",
            "  4%|█▎                                    | 4.11M/116M [00:04<01:10, 1.57MB/s]\n",
            "  4%|█▍                                    | 4.36M/116M [00:04<01:08, 1.62MB/s]\n",
            "  4%|█▌                                    | 4.64M/116M [00:04<01:08, 1.62MB/s]\n",
            "  6%|██▍                                   | 7.50M/116M [00:04<00:27, 3.97MB/s]\u001b[A\n",
            "  4%|█▌                                    | 4.90M/116M [00:05<01:07, 1.65MB/s]\n",
            "  4%|█▋                                    | 5.18M/116M [00:05<01:05, 1.69MB/s]\n",
            "  5%|█▊                                    | 5.46M/116M [00:05<01:03, 1.75MB/s]\n",
            "  5%|█▉                                    | 5.75M/116M [00:05<01:01, 1.78MB/s]\n",
            "  5%|█▉                                    | 6.03M/116M [00:05<00:59, 1.84MB/s]\n",
            " 10%|███▋                                  | 11.3M/116M [00:05<00:22, 4.67MB/s]\u001b[A\n",
            "  6%|██▏                                   | 6.64M/116M [00:05<00:58, 1.87MB/s]\n",
            "  6%|██▎                                   | 6.93M/116M [00:06<00:56, 1.93MB/s]\n",
            " 11%|████▎                                 | 13.3M/116M [00:05<00:23, 4.40MB/s]\u001b[A\n",
            "  6%|██▍                                   | 7.24M/116M [00:06<00:56, 1.92MB/s]\n",
            "  7%|██▍                                   | 7.54M/116M [00:06<00:54, 1.98MB/s]\n",
            "  7%|██▌                                   | 7.85M/116M [00:06<00:54, 1.97MB/s]\n",
            "  7%|██▋                                   | 8.16M/116M [00:06<00:54, 1.97MB/s]\n",
            "  7%|██▊                                   | 8.47M/116M [00:06<00:53, 1.99MB/s]\n",
            " 14%|█████▏                                | 16.0M/116M [00:06<00:26, 3.73MB/s]\u001b[A\n",
            "  8%|██▉                                   | 8.78M/116M [00:06<00:53, 2.00MB/s]\n",
            "  8%|██▉                                   | 9.09M/116M [00:07<00:53, 2.00MB/s]\n",
            "  8%|███                                   | 9.41M/116M [00:07<00:52, 2.02MB/s]\n",
            " 15%|█████▊                                | 17.7M/116M [00:07<00:25, 3.78MB/s]\u001b[A\n",
            "  8%|███▏                                  | 9.72M/116M [00:07<00:51, 2.04MB/s]\n",
            "  9%|███▎                                  | 10.0M/116M [00:07<00:51, 2.04MB/s]\n",
            "  9%|███▍                                  | 10.3M/116M [00:07<00:51, 2.06MB/s]\n",
            "  9%|███▍                                  | 10.6M/116M [00:07<00:47, 2.23MB/s]\n",
            "  9%|███▌                                  | 10.9M/116M [00:08<00:52, 2.00MB/s]\n",
            " 18%|██████▋                               | 20.4M/116M [00:07<00:24, 3.92MB/s]\u001b[A\n",
            " 10%|███▋                                  | 11.1M/116M [00:08<00:53, 1.95MB/s]\n",
            " 10%|███▊                                  | 11.4M/116M [00:08<00:52, 1.98MB/s]\n",
            " 10%|███▊                                  | 11.7M/116M [00:08<00:52, 1.99MB/s]\n",
            " 19%|███████▎                              | 22.3M/116M [00:08<00:22, 4.10MB/s]\u001b[A\n",
            " 10%|███▉                                  | 12.1M/116M [00:08<00:51, 2.03MB/s]\n",
            " 11%|████                                  | 12.4M/116M [00:08<00:50, 2.03MB/s]\n",
            " 11%|████▏                                 | 12.7M/116M [00:08<00:49, 2.08MB/s]\n",
            " 11%|████▏                                 | 12.9M/116M [00:08<00:49, 2.08MB/s]\n",
            " 11%|████▎                                 | 13.2M/116M [00:09<00:49, 2.07MB/s]\n",
            " 12%|████▍                                 | 13.4M/116M [00:09<00:49, 2.08MB/s]\n",
            " 22%|████████▎                             | 25.5M/116M [00:09<00:21, 4.11MB/s]\u001b[A\n",
            " 12%|████▍                                 | 13.6M/116M [00:09<00:50, 2.01MB/s]\n",
            " 12%|████▌                                 | 14.0M/116M [00:09<00:49, 2.06MB/s]\n",
            " 12%|████▋                                 | 14.3M/116M [00:09<00:48, 2.11MB/s]\n",
            " 13%|████▊                                 | 14.6M/116M [00:09<00:46, 2.18MB/s]\n",
            " 13%|████▊                                 | 14.9M/116M [00:09<00:46, 2.17MB/s]\n",
            " 13%|████▉                                 | 15.1M/116M [00:10<00:46, 2.18MB/s]\n",
            " 13%|█████                                 | 15.4M/116M [00:10<00:45, 2.20MB/s]\n",
            " 25%|█████████▌                            | 29.2M/116M [00:09<00:21, 4.07MB/s]\u001b[A\n",
            " 14%|█████▏                                | 15.7M/116M [00:10<00:47, 2.12MB/s]\n",
            " 14%|█████▎                                | 16.0M/116M [00:10<00:46, 2.16MB/s]\n",
            " 14%|█████▎                                | 16.4M/116M [00:10<00:45, 2.20MB/s]\n",
            " 14%|█████▍                                | 16.7M/116M [00:10<00:42, 2.31MB/s]\n",
            " 15%|█████▌                                | 16.9M/116M [00:10<00:43, 2.29MB/s]\n",
            " 28%|██████████▌                           | 32.0M/116M [00:10<00:20, 4.10MB/s]\u001b[A\n",
            " 15%|█████▋                                | 17.2M/116M [00:10<00:44, 2.23MB/s]\n",
            " 15%|█████▊                                | 17.6M/116M [00:11<00:43, 2.25MB/s]\n",
            " 16%|█████▉                                | 18.0M/116M [00:11<00:42, 2.28MB/s]\n",
            " 29%|███████████▏                          | 33.9M/116M [00:11<00:20, 4.04MB/s]\u001b[A\n",
            " 16%|██████                                | 18.6M/116M [00:11<00:38, 2.53MB/s]\n",
            " 30%|███████████▍                          | 34.8M/116M [00:11<00:20, 4.02MB/s]\u001b[A\n",
            " 16%|██████▏                               | 18.9M/116M [00:11<00:42, 2.29MB/s]\n",
            " 17%|██████▎                               | 19.3M/116M [00:11<00:41, 2.33MB/s]\n",
            " 17%|██████▍                               | 19.6M/116M [00:11<00:38, 2.47MB/s]\n",
            " 17%|██████▌                               | 19.9M/116M [00:12<00:39, 2.43MB/s]\n",
            " 17%|██████▌                               | 20.2M/116M [00:12<00:38, 2.49MB/s]\n",
            " 18%|██████▋                               | 20.4M/116M [00:12<00:38, 2.45MB/s]\n",
            " 18%|██████▊                               | 20.8M/116M [00:12<00:37, 2.54MB/s]\n",
            " 18%|██████▉                               | 21.0M/116M [00:12<00:37, 2.50MB/s]\n",
            " 34%|████████████▊                         | 39.1M/116M [00:12<00:18, 4.25MB/s]\u001b[A\n",
            " 18%|███████                               | 21.4M/116M [00:12<00:37, 2.55MB/s]\n",
            " 19%|███████▏                              | 21.8M/116M [00:12<00:33, 2.84MB/s]\n",
            " 19%|███████▏                              | 22.1M/116M [00:12<00:36, 2.58MB/s]\n",
            " 19%|███████▎                              | 22.5M/116M [00:13<00:33, 2.76MB/s]\n",
            " 20%|███████▍                              | 22.7M/116M [00:13<00:34, 2.73MB/s]\n",
            " 20%|███████▌                              | 23.1M/116M [00:13<00:32, 2.88MB/s]\n",
            " 20%|███████▋                              | 23.4M/116M [00:13<00:32, 2.81MB/s]\n",
            " 21%|███████▊                              | 23.9M/116M [00:13<00:30, 3.04MB/s]\n",
            " 21%|███████▉                              | 24.2M/116M [00:13<00:30, 2.96MB/s]\n",
            " 21%|████████                              | 24.6M/116M [00:13<00:28, 3.19MB/s]\n",
            " 22%|████████▏                             | 24.9M/116M [00:13<00:29, 3.08MB/s]\n",
            " 22%|████████▎                             | 25.4M/116M [00:13<00:27, 3.33MB/s]\n",
            " 22%|████████▍                             | 25.7M/116M [00:14<00:27, 3.23MB/s]\n",
            " 23%|████████▌                             | 26.2M/116M [00:14<00:25, 3.52MB/s]\n",
            " 23%|████████▋                             | 26.6M/116M [00:14<00:26, 3.40MB/s]\n",
            " 23%|████████▉                             | 27.1M/116M [00:14<00:24, 3.67MB/s]\n",
            " 41%|███████████████▍                      | 47.1M/116M [00:14<00:15, 4.56MB/s]\u001b[A\n",
            " 24%|████████▉                             | 27.4M/116M [00:14<00:25, 3.53MB/s]\n",
            " 24%|█████████▏                            | 28.0M/116M [00:14<00:22, 3.89MB/s]\n",
            " 24%|█████████▎                            | 28.4M/116M [00:14<00:23, 3.77MB/s]\n",
            " 25%|█████████▍                            | 28.9M/116M [00:14<00:20, 4.26MB/s]\n",
            " 25%|█████████▋                            | 29.3M/116M [00:14<00:22, 3.92MB/s]\n",
            " 26%|█████████▊                            | 29.9M/116M [00:15<00:20, 4.26MB/s]\n",
            " 26%|█████████▉                            | 30.4M/116M [00:15<00:20, 4.16MB/s]\n",
            " 27%|██████████▏                           | 31.0M/116M [00:15<00:18, 4.50MB/s]\n",
            " 27%|██████████▎                           | 31.5M/116M [00:15<00:19, 4.41MB/s]\n",
            " 28%|██████████▌                           | 32.1M/116M [00:15<00:16, 5.03MB/s]\n",
            " 28%|██████████▋                           | 32.6M/116M [00:15<00:17, 4.63MB/s]\n",
            " 29%|██████████▉                           | 33.3M/116M [00:15<00:16, 5.02MB/s]\n",
            " 29%|███████████                           | 33.8M/116M [00:15<00:16, 5.02MB/s]\n",
            " 30%|███████████▎                          | 34.6M/116M [00:16<00:14, 5.54MB/s]\n",
            " 30%|███████████▌                          | 35.1M/116M [00:16<00:15, 5.15MB/s]\n",
            " 31%|███████████▊                          | 35.9M/116M [00:16<00:14, 5.60MB/s]\n",
            " 32%|███████████▉                          | 36.5M/116M [00:16<00:14, 5.48MB/s]\n",
            " 32%|████████████▎                         | 37.4M/116M [00:16<00:13, 5.95MB/s]\n",
            " 34%|████████████▋                         | 38.8M/116M [00:16<00:11, 6.75MB/s]\n",
            " 50%|███████████████████▏                  | 58.5M/116M [00:16<00:10, 5.29MB/s]\u001b[A\n",
            " 34%|████████████▉                         | 39.5M/116M [00:16<00:12, 6.05MB/s]\n",
            " 35%|█████████████▎                        | 40.5M/116M [00:16<00:11, 6.59MB/s]\n",
            " 36%|█████████████▊                        | 42.1M/116M [00:17<00:10, 7.10MB/s]\n",
            " 37%|██████████████                        | 42.8M/116M [00:17<00:10, 7.03MB/s]\n",
            " 38%|██████████████▍                       | 43.9M/116M [00:17<00:09, 7.86MB/s]\n",
            " 39%|██████████████▋                       | 44.7M/116M [00:17<00:09, 7.16MB/s]\n",
            " 40%|███████████████                       | 45.8M/116M [00:17<00:08, 7.89MB/s]\n",
            " 40%|███████████████▎                      | 46.6M/116M [00:17<00:09, 7.65MB/s]\n",
            " 41%|███████████████▋                      | 47.8M/116M [00:17<00:08, 8.38MB/s]\n",
            " 42%|███████████████▉                      | 48.6M/116M [00:17<00:08, 8.26MB/s]\n",
            " 43%|████████████████▎                     | 49.6M/116M [00:18<00:07, 8.67MB/s]\n",
            " 44%|████████████████▌                     | 50.6M/116M [00:18<00:07, 9.03MB/s]\n",
            " 45%|████████████████▉                     | 51.5M/116M [00:18<00:07, 8.77MB/s]\n",
            " 46%|█████████████████▎                    | 52.9M/116M [00:18<00:06, 9.66MB/s]\n",
            " 46%|█████████████████▋                    | 53.8M/116M [00:18<00:06, 9.24MB/s]\n",
            " 48%|██████████████████▏                   | 55.2M/116M [00:18<00:05, 10.2MB/s]\n",
            " 49%|██████████████████▍                   | 56.3M/116M [00:18<00:06, 9.82MB/s]\n",
            " 50%|██████████████████▉                   | 57.8M/116M [00:18<00:05, 10.8MB/s]\n",
            " 51%|███████████████████▎                  | 58.8M/116M [00:18<00:05, 10.3MB/s]\n",
            " 52%|███████████████████▊                  | 60.4M/116M [00:19<00:04, 11.4MB/s]\n",
            " 53%|████████████████████▏                 | 61.6M/116M [00:19<00:04, 10.9MB/s]\n",
            " 55%|████████████████████▋                 | 63.2M/116M [00:19<00:04, 12.3MB/s]\n",
            " 63%|███████████████████████▊              | 72.4M/116M [00:19<00:07, 5.44MB/s]\u001b[A\n",
            " 56%|█████████████████████▏                | 64.4M/116M [00:19<00:04, 11.2MB/s]\n",
            " 57%|█████████████████████▋                | 66.1M/116M [00:19<00:03, 12.7MB/s]\n",
            " 58%|██████████████████████                | 67.4M/116M [00:19<00:03, 12.3MB/s]\n",
            " 59%|██████████████████████▌               | 68.7M/116M [00:19<00:03, 12.5MB/s]\n",
            " 61%|███████████████████████               | 70.3M/116M [00:19<00:03, 13.6MB/s]\n",
            " 62%|███████████████████████▌              | 71.7M/116M [00:19<00:03, 12.9MB/s]\n",
            " 63%|████████████████████████              | 73.4M/116M [00:20<00:03, 14.0MB/s]\n",
            " 66%|█████████████████████████             | 76.3M/116M [00:20<00:02, 14.0MB/s]\n",
            " 67%|█████████████████████████▌            | 78.0M/116M [00:20<00:02, 14.9MB/s]\n",
            " 69%|██████████████████████████▏           | 79.7M/116M [00:20<00:02, 15.2MB/s]\n",
            " 70%|██████████████████████████▋           | 81.2M/116M [00:20<00:02, 15.0MB/s]\n",
            " 72%|███████████████████████████▎          | 83.1M/116M [00:20<00:02, 16.0MB/s]\n",
            " 73%|███████████████████████████▊          | 84.7M/116M [00:20<00:01, 16.2MB/s]\n",
            " 75%|████████████████████████████▎         | 86.3M/116M [00:20<00:01, 16.0MB/s]\n",
            " 76%|█████████████████████████████         | 88.4M/116M [00:21<00:01, 17.2MB/s]\n",
            " 78%|█████████████████████████████▌        | 90.1M/116M [00:21<00:01, 17.2MB/s]\n",
            " 79%|██████████████████████████████▏       | 91.9M/116M [00:21<00:01, 17.1MB/s]\n",
            " 81%|██████████████████████████████▊       | 94.0M/116M [00:21<00:01, 18.3MB/s]\n",
            " 83%|███████████████████████████████▍      | 95.9M/116M [00:21<00:01, 18.3MB/s]\n",
            " 84%|████████████████████████████████      | 97.7M/116M [00:21<00:00, 18.2MB/s]\n",
            " 86%|████████████████████████████████▋     | 99.6M/116M [00:21<00:00, 18.4MB/s]\n",
            " 88%|██████████████████████████████████▎    | 102M/116M [00:21<00:00, 19.4MB/s]\n",
            " 90%|██████████████████████████████████▉    | 104M/116M [00:21<00:00, 19.5MB/s]\n",
            " 92%|███████████████████████████████████▋   | 106M/116M [00:21<00:00, 20.2MB/s]\n",
            " 94%|████████████████████████████████████▌  | 109M/116M [00:22<00:00, 21.6MB/s]\n",
            " 96%|█████████████████████████████████████▎ | 111M/116M [00:22<00:00, 20.7MB/s]\n",
            " 98%|██████████████████████████████████████▏| 113M/116M [00:22<00:00, 22.2MB/s]\n",
            "100%|████████████████████████████████████████| 116M/116M [00:00<00:00, 135GB/s]\n",
            "\n",
            " 79%|█████████████████████████████▉        | 91.1M/116M [00:22<00:04, 6.12MB/s]\u001b[A\n",
            " 79%|██████████████████████████████▏       | 91.8M/116M [00:22<00:03, 6.26MB/s]\u001b[A\n",
            " 80%|██████████████████████████████▎       | 92.5M/116M [00:22<00:03, 6.30MB/s]\u001b[A\n",
            "computing SHA256 of 92086e39b9390c98c2cf8c6155ffd1fc-weights.pt:   0%|          | 0/884 [00:00<?, ?it/s]\n",
            "computing SHA256 of 92086e39b9390c98c2cf8c6155ffd1fc-weights.pt:  22%|██▏       | 194/884 [00:00<00:00, 1934.15it/s]\n",
            "computing SHA256 of 92086e39b9390c98c2cf8c6155ffd1fc-weights.pt:  44%|████▍     | 388/884 [00:00<00:00, 1915.81it/s]\n",
            "computing SHA256 of 92086e39b9390c98c2cf8c6155ffd1fc-weights.pt:  66%|██████▌   | 580/884 [00:00<00:00, 1864.99it/s]\n",
            "computing SHA256 of 92086e39b9390c98c2cf8c6155ffd1fc-weights.pt:  88%|████████▊ | 776/884 [00:00<00:00, 1898.81it/s]\n",
            "computing SHA256 of 92086e39b9390c98c2cf8c6155ffd1fc-weights.pt (result: 608f52cd7f5119f7a7b8272395b0c169714e8be34536eaf159820f72a1d6a5b7): 100%|██████████| 884/884 [00:00<00:00, 1851.46it/s]\n",
            "Downloading data from 'https://uk1s3.embassy.ebi.ac.uk/public-datasets/bioimage.io/affable-shark/1.2/files/weights-torchscript.pt' to file '/root/.cache/bioimageio/6be9f17f63edc67afbfc5040dd848ba2-weights-torchscript.pt'.\n",
            "\n",
            " 84%|███████████████████████████████▉      | 97.1M/116M [00:23<00:03, 6.18MB/s]\u001b[A\n",
            " 84%|████████████████████████████████      | 97.8M/116M [00:23<00:02, 6.25MB/s]\u001b[A\n",
            " 85%|████████████████████████████████▎     | 98.4M/116M [00:23<00:02, 6.19MB/s]\u001b[A\n",
            "  0%|                                               | 0.00/116M [00:00<?, ?B/s]\n",
            "  0%|                                       | 17.4k/116M [00:00<16:46, 115kB/s]\n",
            " 87%|█████████████████████████████████▊     | 100M/116M [00:23<00:02, 6.31MB/s]\u001b[A\n",
            "  0%|                                       | 50.2k/116M [00:00<11:07, 173kB/s]\n",
            "  0%|                                       | 82.9k/116M [00:00<10:04, 191kB/s]\n",
            " 89%|██████████████████████████████████▌    | 102M/116M [00:24<00:02, 6.25MB/s]\u001b[A\n",
            "  0%|                                        | 132k/116M [00:00<08:00, 241kB/s]\n",
            "  0%|                                        | 165k/116M [00:00<08:21, 231kB/s]\n",
            " 90%|███████████████████████████████████▏   | 104M/116M [00:24<00:01, 6.20MB/s]\u001b[A\n",
            "  0%|                                        | 214k/116M [00:00<07:21, 262kB/s]\n",
            "  0%|                                        | 263k/116M [00:01<06:52, 280kB/s]\n",
            " 92%|███████████████████████████████████▊   | 106M/116M [00:24<00:01, 6.13MB/s]\u001b[A\n",
            "  0%|                                        | 312k/116M [00:01<06:33, 294kB/s]\n",
            "  0%|▏                                       | 378k/116M [00:01<05:47, 333kB/s]\n",
            "  0%|▏                                       | 443k/116M [00:01<05:16, 365kB/s]\n",
            " 94%|████████████████████████████████████▋  | 109M/116M [00:25<00:01, 6.16MB/s]\u001b[A\n",
            "  0%|▏                                       | 525k/116M [00:01<04:39, 412kB/s]\n",
            "  1%|▏                                       | 607k/116M [00:01<04:16, 449kB/s]\n",
            " 96%|█████████████████████████████████████▍ | 111M/116M [00:25<00:00, 6.14MB/s]\u001b[A\n",
            "  1%|▏                                       | 706k/116M [00:02<03:49, 503kB/s]\n",
            "  1%|▎                                       | 804k/116M [00:02<03:29, 548kB/s]\n",
            " 98%|██████████████████████████████████████ | 113M/116M [00:25<00:00, 6.22MB/s]\u001b[A\n",
            "  1%|▎                                       | 902k/116M [00:02<03:16, 584kB/s]\n",
            "  1%|▎                                      | 1.03M/116M [00:02<02:54, 658kB/s]\n",
            " 99%|██████████████████████████████████████▋| 115M/116M [00:26<00:00, 6.42MB/s]\u001b[A\n",
            "100%|██████████████████████████████████████▉| 116M/116M [00:26<00:00, 6.37MB/s]\u001b[A\n",
            "100%|███████████████████████████████████████| 116M/116M [00:00<00:00, 38.0GB/s]\n",
            "  2%|▌                                     | 1.85M/116M [00:03<01:47, 1.06MB/s]Downloading data from 'https://uk1s3.embassy.ebi.ac.uk/public-datasets/bioimage.io/affable-shark/1.2/files/weights-torchscript.pt' to file '/root/.cache/bioimageio/6be9f17f63edc67afbfc5040dd848ba2-weights-torchscript.pt'.\n",
            "  2%|▊                                     | 2.33M/116M [00:03<01:26, 1.31MB/s]\n",
            "  2%|▊                                     | 2.59M/116M [00:03<01:19, 1.43MB/s]\n",
            "  2%|▉                                     | 2.88M/116M [00:03<01:11, 1.57MB/s]\n",
            "  3%|█                                     | 3.21M/116M [00:03<01:04, 1.74MB/s]\n",
            "  3%|█▏                                    | 3.56M/116M [00:04<00:58, 1.92MB/s]\n",
            "  3%|█▎                                    | 3.95M/116M [00:04<00:52, 2.11MB/s]\n",
            "  4%|█▍                                    | 4.39M/116M [00:04<00:48, 2.32MB/s]\n",
            "  4%|█▌                                    | 4.83M/116M [00:04<00:40, 2.77MB/s]\n",
            "  9%|███▌                                  | 10.9M/116M [00:00<00:05, 20.4MB/s]\u001b[A\n",
            "  4%|█▋                                    | 5.13M/116M [00:04<00:43, 2.57MB/s]\n",
            "  5%|█▊                                    | 5.60M/116M [00:04<00:35, 3.08MB/s]\n",
            "  5%|█▉                                    | 5.98M/116M [00:04<00:35, 3.09MB/s]\n",
            "  6%|██▏                                   | 6.62M/116M [00:05<00:30, 3.53MB/s]\n",
            "  6%|██▎                                   | 7.08M/116M [00:05<00:28, 3.79MB/s]\n",
            "  7%|██▌                                   | 7.72M/116M [00:05<00:27, 3.98MB/s]\n",
            "  7%|██▊                                   | 8.47M/116M [00:05<00:22, 4.86MB/s]\n",
            "  8%|██▉                                   | 8.98M/116M [00:05<00:23, 4.52MB/s]\n",
            "  8%|███▏                                  | 9.80M/116M [00:05<00:19, 5.46MB/s]\n",
            "  9%|███▍                                  | 10.4M/116M [00:05<00:19, 5.29MB/s]\n",
            " 10%|███▋                                  | 11.3M/116M [00:05<00:16, 6.22MB/s]\n",
            " 10%|███▉                                  | 12.1M/116M [00:05<00:16, 6.40MB/s]\n",
            " 11%|████▏                                 | 12.9M/116M [00:06<00:15, 6.85MB/s]\n",
            " 12%|████▌                                 | 14.1M/116M [00:06<00:13, 7.62MB/s]\n",
            " 13%|████▉                                 | 14.9M/116M [00:06<00:12, 7.80MB/s]\n",
            " 14%|█████▏                                | 16.0M/116M [00:06<00:11, 8.56MB/s]\n",
            " 15%|█████▋                                | 17.2M/116M [00:06<00:10, 9.41MB/s]\n",
            " 16%|█████▉                                | 18.1M/116M [00:06<00:10, 9.45MB/s]\n",
            " 18%|██████▊                               | 20.6M/116M [00:06<00:08, 10.9MB/s]\n",
            " 19%|███████▏                              | 22.0M/116M [00:06<00:08, 11.7MB/s]\n",
            " 20%|███████▋                              | 23.5M/116M [00:07<00:07, 12.6MB/s]\n",
            " 23%|████████▋                             | 26.5M/116M [00:07<00:06, 14.1MB/s]\n",
            " 24%|█████████▏                            | 27.9M/116M [00:07<00:06, 13.9MB/s]\n",
            " 27%|██████████▏                           | 31.1M/116M [00:07<00:05, 14.9MB/s]\n",
            " 28%|██████████▋                           | 32.6M/116M [00:07<00:05, 14.6MB/s]\n",
            " 30%|███████████▏                          | 34.2M/116M [00:07<00:05, 15.0MB/s]\n",
            " 31%|███████████▊                          | 36.0M/116M [00:07<00:05, 15.9MB/s]\n",
            " 34%|████████████▉                         | 39.5M/116M [00:08<00:04, 16.6MB/s]\n",
            " 36%|█████████████▍                        | 41.2M/116M [00:08<00:04, 16.1MB/s]\n",
            " 92%|███████████████████████████████████▉   | 107M/116M [00:04<00:00, 14.8MB/s]\u001b[A\n",
            " 37%|██████████████                        | 42.9M/116M [00:08<00:04, 16.2MB/s]\n",
            " 38%|██████████████▌                       | 44.5M/116M [00:08<00:04, 16.2MB/s]\n",
            " 40%|███████████████▏                      | 46.1M/116M [00:08<00:04, 15.3MB/s]\n",
            " 41%|███████████████▋                      | 47.7M/116M [00:08<00:04, 15.4MB/s]\n",
            " 43%|████████████████▏                     | 49.3M/116M [00:08<00:04, 15.2MB/s]\n",
            "100%|███████████████████████████████████████| 116M/116M [00:00<00:00, 16.8GB/s]\n",
            " 62%|███████████████████████▍              | 71.6M/116M [00:09<00:01, 30.8MB/s]\n",
            " 65%|████████████████████████▌             | 75.0M/116M [00:09<00:01, 31.7MB/s]\n",
            " 71%|███████████████████████████           | 82.7M/116M [00:09<00:00, 35.2MB/s]\n",
            "computing SHA256 of 6be9f17f63edc67afbfc5040dd848ba2-weights-torchscript.pt:  27%|██▋       | 236/885 [00:00<00:00, 1091.53it/s]\u001b[A\n",
            " 74%|████████████████████████████▎         | 86.2M/116M [00:09<00:00, 30.0MB/s]\n",
            " 77%|█████████████████████████████▎        | 89.4M/116M [00:09<00:00, 30.6MB/s]\n",
            " 80%|██████████████████████████████▎       | 92.6M/116M [00:10<00:00, 30.6MB/s]\n",
            " 83%|███████████████████████████████▍      | 95.9M/116M [00:10<00:00, 31.3MB/s]\n",
            "computing SHA256 of 6be9f17f63edc67afbfc5040dd848ba2-weights-torchscript.pt (result: 8410950508655a300793b389c815dc30b1334062fc1dadb1e15e55a93cbb99a0): 100%|██████████| 885/885 [00:00<00:00, 1242.50it/s]\n",
            "100%|███████████████████████████████████████| 116M/116M [00:00<00:00, 55.6GB/s]\n",
            "\u001b[32m2025-07-30 08:46:45.527\u001b[0m | \u001b[1mINFO    \u001b[0m | \u001b[36mbioimageio.spec._internal.io_utils\u001b[0m:\u001b[36mopen_bioimageio_yaml\u001b[0m:\u001b[36m112\u001b[0m - \u001b[1mloading affable-shark from https://uk1s3.embassy.ebi.ac.uk/public-datasets/bioimage.io/affable-shark/1.2/files/rdf.yaml\u001b[0m\n",
            "\u001b[32m2025-07-30 08:46:45.571\u001b[0m | \u001b[1mINFO    \u001b[0m | \u001b[36mbioimageio.spec._internal.io_utils\u001b[0m:\u001b[36mopen_bioimageio_yaml\u001b[0m:\u001b[36m112\u001b[0m - \u001b[1mloading affable-shark from https://uk1s3.embassy.ebi.ac.uk/public-datasets/bioimage.io/affable-shark/1.2/files/rdf.yaml\u001b[0m\n",
            "\u001b[32m2025-07-30 08:47:05.619\u001b[0m | \u001b[1mINFO    \u001b[0m | \u001b[36mbioimageio.spec._internal.io_utils\u001b[0m:\u001b[36mopen_bioimageio_yaml\u001b[0m:\u001b[36m112\u001b[0m - \u001b[1mloading affable-shark from https://uk1s3.embassy.ebi.ac.uk/public-datasets/bioimage.io/affable-shark/1.2/files/rdf.yaml\u001b[0m\n",
            "\u001b[32m2025-07-30 08:47:05.757\u001b[0m | \u001b[1mINFO    \u001b[0m | \u001b[36mbioimageio.spec._internal.io_utils\u001b[0m:\u001b[36mopen_bioimageio_yaml\u001b[0m:\u001b[36m112\u001b[0m - \u001b[1mloading affable-shark from https://uk1s3.embassy.ebi.ac.uk/public-datasets/bioimage.io/affable-shark/1.2/files/rdf.yaml\u001b[0m\n",
            "\u001b[32m2025-07-30 08:47:26.300\u001b[0m | \u001b[1mINFO    \u001b[0m | \u001b[36mbioimageio.spec._internal.io_utils\u001b[0m:\u001b[36mopen_bioimageio_yaml\u001b[0m:\u001b[36m112\u001b[0m - \u001b[1mloading affable-shark from https://uk1s3.embassy.ebi.ac.uk/public-datasets/bioimage.io/affable-shark/1.2/files/rdf.yaml\u001b[0m\n",
            "\u001b[32m2025-07-30 08:47:26.488\u001b[0m | \u001b[1mINFO    \u001b[0m | \u001b[36mbioimageio.spec._internal.io_utils\u001b[0m:\u001b[36mopen_bioimageio_yaml\u001b[0m:\u001b[36m112\u001b[0m - \u001b[1mloading affable-shark from https://uk1s3.embassy.ebi.ac.uk/public-datasets/bioimage.io/affable-shark/1.2/files/rdf.yaml\u001b[0m\n",
            "\u001b[32m2025-07-30 08:47:47.060\u001b[0m | \u001b[1mINFO    \u001b[0m | \u001b[36mbioimageio.spec._internal.io_utils\u001b[0m:\u001b[36mopen_bioimageio_yaml\u001b[0m:\u001b[36m112\u001b[0m - \u001b[1mloading affable-shark from https://uk1s3.embassy.ebi.ac.uk/public-datasets/bioimage.io/affable-shark/1.2/files/rdf.yaml\u001b[0m\n",
            "\u001b[32m2025-07-30 08:47:47.444\u001b[0m | \u001b[1mINFO    \u001b[0m | \u001b[36mbioimageio.spec._internal.io_utils\u001b[0m:\u001b[36mopen_bioimageio_yaml\u001b[0m:\u001b[36m112\u001b[0m - \u001b[1mloading affable-shark from https://uk1s3.embassy.ebi.ac.uk/public-datasets/bioimage.io/affable-shark/1.2/files/rdf.yaml\u001b[0m\n",
            "\u001b[32m2025-07-30 08:48:06.762\u001b[0m | \u001b[1mINFO    \u001b[0m | \u001b[36mbioimageio.spec._internal.io_utils\u001b[0m:\u001b[36mopen_bioimageio_yaml\u001b[0m:\u001b[36m112\u001b[0m - \u001b[1mloading affable-shark from https://uk1s3.embassy.ebi.ac.uk/public-datasets/bioimage.io/affable-shark/1.2/files/rdf.yaml\u001b[0m\n",
            "\u001b[32m2025-07-30 08:48:07.251\u001b[0m | \u001b[1mINFO    \u001b[0m | \u001b[36mbioimageio.spec._internal.io_utils\u001b[0m:\u001b[36mopen_bioimageio_yaml\u001b[0m:\u001b[36m112\u001b[0m - \u001b[1mloading affable-shark from https://uk1s3.embassy.ebi.ac.uk/public-datasets/bioimage.io/affable-shark/1.2/files/rdf.yaml\u001b[0m\n",
            "\u001b[32m2025-07-30 08:48:27.302\u001b[0m | \u001b[1mINFO    \u001b[0m | \u001b[36mbioimageio.spec._internal.io_utils\u001b[0m:\u001b[36mopen_bioimageio_yaml\u001b[0m:\u001b[36m112\u001b[0m - \u001b[1mloading affable-shark from https://uk1s3.embassy.ebi.ac.uk/public-datasets/bioimage.io/affable-shark/1.2/files/rdf.yaml\u001b[0m\n",
            "\u001b[32m2025-07-30 08:48:28.627\u001b[0m | \u001b[1mINFO    \u001b[0m | \u001b[36mbioimageio.spec._internal.io_utils\u001b[0m:\u001b[36mopen_bioimageio_yaml\u001b[0m:\u001b[36m112\u001b[0m - \u001b[1mloading affable-shark from https://uk1s3.embassy.ebi.ac.uk/public-datasets/bioimage.io/affable-shark/1.2/files/rdf.yaml\u001b[0m\n",
            "\u001b[32m2025-07-30 08:48:47.841\u001b[0m | \u001b[1mINFO    \u001b[0m | \u001b[36mbioimageio.spec._internal.io_utils\u001b[0m:\u001b[36mopen_bioimageio_yaml\u001b[0m:\u001b[36m112\u001b[0m - \u001b[1mloading affable-shark from https://uk1s3.embassy.ebi.ac.uk/public-datasets/bioimage.io/affable-shark/1.2/files/rdf.yaml\u001b[0m\n",
            "\u001b[32m2025-07-30 08:48:48.967\u001b[0m | \u001b[1mINFO    \u001b[0m | \u001b[36mbioimageio.spec._internal.io_utils\u001b[0m:\u001b[36mopen_bioimageio_yaml\u001b[0m:\u001b[36m112\u001b[0m - \u001b[1mloading affable-shark from https://uk1s3.embassy.ebi.ac.uk/public-datasets/bioimage.io/affable-shark/1.2/files/rdf.yaml\u001b[0m\n",
            "\u001b[32m2025-07-30 08:49:07.837\u001b[0m | \u001b[1mINFO    \u001b[0m | \u001b[36mbioimageio.spec._internal.io_utils\u001b[0m:\u001b[36mopen_bioimageio_yaml\u001b[0m:\u001b[36m112\u001b[0m - \u001b[1mloading affable-shark from https://uk1s3.embassy.ebi.ac.uk/public-datasets/bioimage.io/affable-shark/1.2/files/rdf.yaml\u001b[0m\n",
            "\u001b[32m2025-07-30 08:49:08.668\u001b[0m | \u001b[1mINFO    \u001b[0m | \u001b[36mbioimageio.spec._internal.io_utils\u001b[0m:\u001b[36mopen_bioimageio_yaml\u001b[0m:\u001b[36m112\u001b[0m - \u001b[1mloading affable-shark from https://uk1s3.embassy.ebi.ac.uk/public-datasets/bioimage.io/affable-shark/1.2/files/rdf.yaml\u001b[0m\n",
            "\u001b[32m2025-07-30 08:49:28.477\u001b[0m | \u001b[1mINFO    \u001b[0m | \u001b[36mbioimageio.spec._internal.io_utils\u001b[0m:\u001b[36mopen_bioimageio_yaml\u001b[0m:\u001b[36m112\u001b[0m - \u001b[1mloading affable-shark from https://uk1s3.embassy.ebi.ac.uk/public-datasets/bioimage.io/affable-shark/1.2/files/rdf.yaml\u001b[0m\n",
            "\u001b[32m2025-07-30 08:49:30.119\u001b[0m | \u001b[1mINFO    \u001b[0m | \u001b[36mbioimageio.spec._internal.io_utils\u001b[0m:\u001b[36mopen_bioimageio_yaml\u001b[0m:\u001b[36m112\u001b[0m - \u001b[1mloading affable-shark from https://uk1s3.embassy.ebi.ac.uk/public-datasets/bioimage.io/affable-shark/1.2/files/rdf.yaml\u001b[0m\n",
            "\u001b[32m2025-07-30 08:49:50.835\u001b[0m | \u001b[1mINFO    \u001b[0m | \u001b[36mbioimageio.spec._internal.io_utils\u001b[0m:\u001b[36mopen_bioimageio_yaml\u001b[0m:\u001b[36m112\u001b[0m - \u001b[1mloading affable-shark from https://uk1s3.embassy.ebi.ac.uk/public-datasets/bioimage.io/affable-shark/1.2/files/rdf.yaml\u001b[0m\n",
            "\u001b[32m2025-07-30 08:49:52.551\u001b[0m | \u001b[1mINFO    \u001b[0m | \u001b[36mbioimageio.spec._internal.io_utils\u001b[0m:\u001b[36mopen_bioimageio_yaml\u001b[0m:\u001b[36m112\u001b[0m - \u001b[1mloading affable-shark from https://uk1s3.embassy.ebi.ac.uk/public-datasets/bioimage.io/affable-shark/1.2/files/rdf.yaml\u001b[0m\n",
            "\u001b[32m2025-07-30 08:50:10.556\u001b[0m | \u001b[1mINFO    \u001b[0m | \u001b[36mbioimageio.spec._internal.io_utils\u001b[0m:\u001b[36mopen_bioimageio_yaml\u001b[0m:\u001b[36m112\u001b[0m - \u001b[1mloading affable-shark from https://uk1s3.embassy.ebi.ac.uk/public-datasets/bioimage.io/affable-shark/1.2/files/rdf.yaml\u001b[0m\n",
            "\u001b[32m2025-07-30 08:50:12.079\u001b[0m | \u001b[1mINFO    \u001b[0m | \u001b[36mbioimageio.spec._internal.io_utils\u001b[0m:\u001b[36mopen_bioimageio_yaml\u001b[0m:\u001b[36m112\u001b[0m - \u001b[1mloading affable-shark from https://uk1s3.embassy.ebi.ac.uk/public-datasets/bioimage.io/affable-shark/1.2/files/rdf.yaml\u001b[0m\n",
            "\u001b[32m2025-07-30 08:50:31.338\u001b[0m | \u001b[1mINFO    \u001b[0m | \u001b[36mbioimageio.spec._internal.io_utils\u001b[0m:\u001b[36mopen_bioimageio_yaml\u001b[0m:\u001b[36m112\u001b[0m - \u001b[1mloading affable-shark from https://uk1s3.embassy.ebi.ac.uk/public-datasets/bioimage.io/affable-shark/1.2/files/rdf.yaml\u001b[0m\n",
            "\u001b[32m2025-07-30 08:50:33.805\u001b[0m | \u001b[1mINFO    \u001b[0m | \u001b[36mbioimageio.spec._internal.io_utils\u001b[0m:\u001b[36mopen_bioimageio_yaml\u001b[0m:\u001b[36m112\u001b[0m - \u001b[1mloading affable-shark from https://uk1s3.embassy.ebi.ac.uk/public-datasets/bioimage.io/affable-shark/1.2/files/rdf.yaml\u001b[0m\n",
            "\u001b[32m2025-07-30 08:50:51.642\u001b[0m | \u001b[1mINFO    \u001b[0m | \u001b[36mbioimageio.spec._internal.io_utils\u001b[0m:\u001b[36mopen_bioimageio_yaml\u001b[0m:\u001b[36m112\u001b[0m - \u001b[1mloading affable-shark from https://uk1s3.embassy.ebi.ac.uk/public-datasets/bioimage.io/affable-shark/1.2/files/rdf.yaml\u001b[0m\n",
            "\u001b[32m2025-07-30 08:50:53.760\u001b[0m | \u001b[1mINFO    \u001b[0m | \u001b[36mbioimageio.spec._internal.io_utils\u001b[0m:\u001b[36mopen_bioimageio_yaml\u001b[0m:\u001b[36m112\u001b[0m - \u001b[1mloading affable-shark from https://uk1s3.embassy.ebi.ac.uk/public-datasets/bioimage.io/affable-shark/1.2/files/rdf.yaml\u001b[0m\n",
            "\u001b[32m2025-07-30 08:51:11.344\u001b[0m | \u001b[1mINFO    \u001b[0m | \u001b[36mbioimageio.spec._internal.io_utils\u001b[0m:\u001b[36mopen_bioimageio_yaml\u001b[0m:\u001b[36m112\u001b[0m - \u001b[1mloading affable-shark from https://uk1s3.embassy.ebi.ac.uk/public-datasets/bioimage.io/affable-shark/1.2/files/rdf.yaml\u001b[0m\n",
            "\u001b[32m2025-07-30 08:51:13.200\u001b[0m | \u001b[1mINFO    \u001b[0m | \u001b[36mbioimageio.spec._internal.io_utils\u001b[0m:\u001b[36mopen_bioimageio_yaml\u001b[0m:\u001b[36m112\u001b[0m - \u001b[1mloading affable-shark from https://uk1s3.embassy.ebi.ac.uk/public-datasets/bioimage.io/affable-shark/1.2/files/rdf.yaml\u001b[0m\n",
            "\u001b[32m2025-07-30 08:51:31.568\u001b[0m | \u001b[1mINFO    \u001b[0m | \u001b[36mbioimageio.spec._internal.io_utils\u001b[0m:\u001b[36mopen_bioimageio_yaml\u001b[0m:\u001b[36m112\u001b[0m - \u001b[1mloading affable-shark from https://uk1s3.embassy.ebi.ac.uk/public-datasets/bioimage.io/affable-shark/1.2/files/rdf.yaml\u001b[0m\n",
            "\u001b[32m2025-07-30 08:51:34.728\u001b[0m | \u001b[1mINFO    \u001b[0m | \u001b[36mbioimageio.spec._internal.io_utils\u001b[0m:\u001b[36mopen_bioimageio_yaml\u001b[0m:\u001b[36m112\u001b[0m - \u001b[1mloading affable-shark from https://uk1s3.embassy.ebi.ac.uk/public-datasets/bioimage.io/affable-shark/1.2/files/rdf.yaml\u001b[0m\n",
            "\u001b[32m2025-07-30 08:51:52.681\u001b[0m | \u001b[1mINFO    \u001b[0m | \u001b[36mbioimageio.spec._internal.io_utils\u001b[0m:\u001b[36mopen_bioimageio_yaml\u001b[0m:\u001b[36m112\u001b[0m - \u001b[1mloading affable-shark from https://uk1s3.embassy.ebi.ac.uk/public-datasets/bioimage.io/affable-shark/1.2/files/rdf.yaml\u001b[0m\n",
            "\u001b[32m2025-07-30 08:51:54.710\u001b[0m | \u001b[1mINFO    \u001b[0m | \u001b[36mbioimageio.spec._internal.io_utils\u001b[0m:\u001b[36mopen_bioimageio_yaml\u001b[0m:\u001b[36m112\u001b[0m - \u001b[1mloading affable-shark from https://uk1s3.embassy.ebi.ac.uk/public-datasets/bioimage.io/affable-shark/1.2/files/rdf.yaml\u001b[0m\n",
            "\u001b[32m2025-07-30 08:52:12.340\u001b[0m | \u001b[1mINFO    \u001b[0m | \u001b[36mbioimageio.spec._internal.io_utils\u001b[0m:\u001b[36mopen_bioimageio_yaml\u001b[0m:\u001b[36m112\u001b[0m - \u001b[1mloading affable-shark from https://uk1s3.embassy.ebi.ac.uk/public-datasets/bioimage.io/affable-shark/1.2/files/rdf.yaml\u001b[0m\n",
            "\u001b[32m2025-07-30 08:52:14.299\u001b[0m | \u001b[1mINFO    \u001b[0m | \u001b[36mbioimageio.spec._internal.io_utils\u001b[0m:\u001b[36mopen_bioimageio_yaml\u001b[0m:\u001b[36m112\u001b[0m - \u001b[1mloading affable-shark from https://uk1s3.embassy.ebi.ac.uk/public-datasets/bioimage.io/affable-shark/1.2/files/rdf.yaml\u001b[0m\n",
            "\u001b[32m2025-07-30 08:52:32.360\u001b[0m | \u001b[1mINFO    \u001b[0m | \u001b[36mbioimageio.spec._internal.io_utils\u001b[0m:\u001b[36mopen_bioimageio_yaml\u001b[0m:\u001b[36m112\u001b[0m - \u001b[1mloading affable-shark from https://uk1s3.embassy.ebi.ac.uk/public-datasets/bioimage.io/affable-shark/1.2/files/rdf.yaml\u001b[0m\n",
            "\u001b[32m2025-07-30 08:52:35.359\u001b[0m | \u001b[1mINFO    \u001b[0m | \u001b[36mbioimageio.spec._internal.io_utils\u001b[0m:\u001b[36mopen_bioimageio_yaml\u001b[0m:\u001b[36m112\u001b[0m - \u001b[1mloading affable-shark from https://uk1s3.embassy.ebi.ac.uk/public-datasets/bioimage.io/affable-shark/1.2/files/rdf.yaml\u001b[0m\n",
            "\u001b[32m2025-07-30 08:52:53.724\u001b[0m | \u001b[1mINFO    \u001b[0m | \u001b[36mbioimageio.spec._internal.io_utils\u001b[0m:\u001b[36mopen_bioimageio_yaml\u001b[0m:\u001b[36m112\u001b[0m - \u001b[1mloading affable-shark from https://uk1s3.embassy.ebi.ac.uk/public-datasets/bioimage.io/affable-shark/1.2/files/rdf.yaml\u001b[0m\n",
            "\u001b[32m2025-07-30 08:52:55.419\u001b[0m | \u001b[1mINFO    \u001b[0m | \u001b[36mbioimageio.spec._internal.io_utils\u001b[0m:\u001b[36mopen_bioimageio_yaml\u001b[0m:\u001b[36m112\u001b[0m - \u001b[1mloading affable-shark from https://uk1s3.embassy.ebi.ac.uk/public-datasets/bioimage.io/affable-shark/1.2/files/rdf.yaml\u001b[0m\n",
            "\u001b[32m2025-07-30 08:53:13.364\u001b[0m | \u001b[1mINFO    \u001b[0m | \u001b[36mbioimageio.spec._internal.io_utils\u001b[0m:\u001b[36mopen_bioimageio_yaml\u001b[0m:\u001b[36m112\u001b[0m - \u001b[1mloading affable-shark from https://uk1s3.embassy.ebi.ac.uk/public-datasets/bioimage.io/affable-shark/1.2/files/rdf.yaml\u001b[0m\n",
            "\u001b[32m2025-07-30 08:53:14.960\u001b[0m | \u001b[1mINFO    \u001b[0m | \u001b[36mbioimageio.spec._internal.io_utils\u001b[0m:\u001b[36mopen_bioimageio_yaml\u001b[0m:\u001b[36m112\u001b[0m - \u001b[1mloading affable-shark from https://uk1s3.embassy.ebi.ac.uk/public-datasets/bioimage.io/affable-shark/1.2/files/rdf.yaml\u001b[0m\n",
            "\u001b[32m2025-07-30 08:53:32.904\u001b[0m | \u001b[1mINFO    \u001b[0m | \u001b[36mbioimageio.spec._internal.io_utils\u001b[0m:\u001b[36mopen_bioimageio_yaml\u001b[0m:\u001b[36m112\u001b[0m - \u001b[1mloading affable-shark from https://uk1s3.embassy.ebi.ac.uk/public-datasets/bioimage.io/affable-shark/1.2/files/rdf.yaml\u001b[0m\n",
            "\u001b[32m2025-07-30 08:53:35.627\u001b[0m | \u001b[1mINFO    \u001b[0m | \u001b[36mbioimageio.spec._internal.io_utils\u001b[0m:\u001b[36mopen_bioimageio_yaml\u001b[0m:\u001b[36m112\u001b[0m - \u001b[1mloading affable-shark from https://uk1s3.embassy.ebi.ac.uk/public-datasets/bioimage.io/affable-shark/1.2/files/rdf.yaml\u001b[0m\n",
            "\u001b[32m2025-07-30 08:53:54.665\u001b[0m | \u001b[1mINFO    \u001b[0m | \u001b[36mbioimageio.spec._internal.io_utils\u001b[0m:\u001b[36mopen_bioimageio_yaml\u001b[0m:\u001b[36m112\u001b[0m - \u001b[1mloading affable-shark from https://uk1s3.embassy.ebi.ac.uk/public-datasets/bioimage.io/affable-shark/1.2/files/rdf.yaml\u001b[0m\n",
            "\u001b[32m2025-07-30 08:53:56.277\u001b[0m | \u001b[1mINFO    \u001b[0m | \u001b[36mbioimageio.spec._internal.io_utils\u001b[0m:\u001b[36mopen_bioimageio_yaml\u001b[0m:\u001b[36m112\u001b[0m - \u001b[1mloading affable-shark from https://uk1s3.embassy.ebi.ac.uk/public-datasets/bioimage.io/affable-shark/1.2/files/rdf.yaml\u001b[0m\n",
            "\u001b[32m2025-07-30 08:54:14.203\u001b[0m | \u001b[1mINFO    \u001b[0m | \u001b[36mbioimageio.spec._internal.io_utils\u001b[0m:\u001b[36mopen_bioimageio_yaml\u001b[0m:\u001b[36m112\u001b[0m - \u001b[1mloading affable-shark from https://uk1s3.embassy.ebi.ac.uk/public-datasets/bioimage.io/affable-shark/1.2/files/rdf.yaml\u001b[0m\n",
            "\u001b[32m2025-07-30 08:54:15.904\u001b[0m | \u001b[1mINFO    \u001b[0m | \u001b[36mbioimageio.spec._internal.io_utils\u001b[0m:\u001b[36mopen_bioimageio_yaml\u001b[0m:\u001b[36m112\u001b[0m - \u001b[1mloading affable-shark from https://uk1s3.embassy.ebi.ac.uk/public-datasets/bioimage.io/affable-shark/1.2/files/rdf.yaml\u001b[0m\n",
            "\u001b[32m2025-07-30 08:54:36.290\u001b[0m | \u001b[1mINFO    \u001b[0m | \u001b[36mbioimageio.spec._internal.io_utils\u001b[0m:\u001b[36mopen_bioimageio_yaml\u001b[0m:\u001b[36m112\u001b[0m - \u001b[1mloading affable-shark from https://uk1s3.embassy.ebi.ac.uk/public-datasets/bioimage.io/affable-shark/1.2/files/rdf.yaml\u001b[0m\n",
            "\u001b[32m2025-07-30 08:54:38.311\u001b[0m | \u001b[1mINFO    \u001b[0m | \u001b[36mbioimageio.spec._internal.io_utils\u001b[0m:\u001b[36mopen_bioimageio_yaml\u001b[0m:\u001b[36m112\u001b[0m - \u001b[1mloading affable-shark from https://uk1s3.embassy.ebi.ac.uk/public-datasets/bioimage.io/affable-shark/1.2/files/rdf.yaml\u001b[0m\n",
            "\u001b[32m2025-07-30 08:54:58.026\u001b[0m | \u001b[1mINFO    \u001b[0m | \u001b[36mbioimageio.spec._internal.io_utils\u001b[0m:\u001b[36mopen_bioimageio_yaml\u001b[0m:\u001b[36m112\u001b[0m - \u001b[1mloading affable-shark from https://uk1s3.embassy.ebi.ac.uk/public-datasets/bioimage.io/affable-shark/1.2/files/rdf.yaml\u001b[0m\n",
            "\u001b[32m2025-07-30 08:54:59.220\u001b[0m | \u001b[1mINFO    \u001b[0m | \u001b[36mbioimageio.spec._internal.io_utils\u001b[0m:\u001b[36mopen_bioimageio_yaml\u001b[0m:\u001b[36m112\u001b[0m - \u001b[1mloading affable-shark from https://uk1s3.embassy.ebi.ac.uk/public-datasets/bioimage.io/affable-shark/1.2/files/rdf.yaml\u001b[0m\n",
            "\u001b[32m2025-07-30 08:55:17.609\u001b[0m | \u001b[1mINFO    \u001b[0m | \u001b[36mbioimageio.spec._internal.io_utils\u001b[0m:\u001b[36mopen_bioimageio_yaml\u001b[0m:\u001b[36m112\u001b[0m - \u001b[1mloading affable-shark from https://uk1s3.embassy.ebi.ac.uk/public-datasets/bioimage.io/affable-shark/1.2/files/rdf.yaml\u001b[0m\n",
            "\u001b[32m2025-07-30 08:55:18.981\u001b[0m | \u001b[1mINFO    \u001b[0m | \u001b[36mbioimageio.spec._internal.io_utils\u001b[0m:\u001b[36mopen_bioimageio_yaml\u001b[0m:\u001b[36m112\u001b[0m - \u001b[1mloading affable-shark from https://uk1s3.embassy.ebi.ac.uk/public-datasets/bioimage.io/affable-shark/1.2/files/rdf.yaml\u001b[0m\n",
            "\u001b[32m2025-07-30 08:55:37.446\u001b[0m | \u001b[1mINFO    \u001b[0m | \u001b[36mbioimageio.spec._internal.io_utils\u001b[0m:\u001b[36mopen_bioimageio_yaml\u001b[0m:\u001b[36m112\u001b[0m - \u001b[1mloading affable-shark from https://uk1s3.embassy.ebi.ac.uk/public-datasets/bioimage.io/affable-shark/1.2/files/rdf.yaml\u001b[0m\n",
            "\u001b[32m2025-07-30 08:55:39.212\u001b[0m | \u001b[1mINFO    \u001b[0m | \u001b[36mbioimageio.spec._internal.io_utils\u001b[0m:\u001b[36mopen_bioimageio_yaml\u001b[0m:\u001b[36m112\u001b[0m - \u001b[1mloading affable-shark from https://uk1s3.embassy.ebi.ac.uk/public-datasets/bioimage.io/affable-shark/1.2/files/rdf.yaml\u001b[0m\n",
            "\u001b[32m2025-07-30 08:55:59.186\u001b[0m | \u001b[1mINFO    \u001b[0m | \u001b[36mbioimageio.spec._internal.io_utils\u001b[0m:\u001b[36mopen_bioimageio_yaml\u001b[0m:\u001b[36m112\u001b[0m - \u001b[1mloading affable-shark from https://uk1s3.embassy.ebi.ac.uk/public-datasets/bioimage.io/affable-shark/1.2/files/rdf.yaml\u001b[0m\n",
            "\u001b[32m2025-07-30 08:56:00.348\u001b[0m | \u001b[1mINFO    \u001b[0m | \u001b[36mbioimageio.spec._internal.io_utils\u001b[0m:\u001b[36mopen_bioimageio_yaml\u001b[0m:\u001b[36m112\u001b[0m - \u001b[1mloading affable-shark from https://uk1s3.embassy.ebi.ac.uk/public-datasets/bioimage.io/affable-shark/1.2/files/rdf.yaml\u001b[0m\n",
            "\u001b[32m2025-07-30 08:56:18.783\u001b[0m | \u001b[1mINFO    \u001b[0m | \u001b[36mbioimageio.spec._internal.io_utils\u001b[0m:\u001b[36mopen_bioimageio_yaml\u001b[0m:\u001b[36m112\u001b[0m - \u001b[1mloading affable-shark from https://uk1s3.embassy.ebi.ac.uk/public-datasets/bioimage.io/affable-shark/1.2/files/rdf.yaml\u001b[0m\n",
            "\u001b[32m2025-07-30 08:56:20.068\u001b[0m | \u001b[1mINFO    \u001b[0m | \u001b[36mbioimageio.spec._internal.io_utils\u001b[0m:\u001b[36mopen_bioimageio_yaml\u001b[0m:\u001b[36m112\u001b[0m - \u001b[1mloading affable-shark from https://uk1s3.embassy.ebi.ac.uk/public-datasets/bioimage.io/affable-shark/1.2/files/rdf.yaml\u001b[0m\n",
            "\u001b[32m2025-07-30 08:56:38.533\u001b[0m | \u001b[1mINFO    \u001b[0m | \u001b[36mbioimageio.spec._internal.io_utils\u001b[0m:\u001b[36mopen_bioimageio_yaml\u001b[0m:\u001b[36m112\u001b[0m - \u001b[1mloading affable-shark from https://uk1s3.embassy.ebi.ac.uk/public-datasets/bioimage.io/affable-shark/1.2/files/rdf.yaml\u001b[0m\n",
            "\u001b[32m2025-07-30 08:56:40.596\u001b[0m | \u001b[1mINFO    \u001b[0m | \u001b[36mbioimageio.spec._internal.io_utils\u001b[0m:\u001b[36mopen_bioimageio_yaml\u001b[0m:\u001b[36m112\u001b[0m - \u001b[1mloading affable-shark from https://uk1s3.embassy.ebi.ac.uk/public-datasets/bioimage.io/affable-shark/1.2/files/rdf.yaml\u001b[0m\n",
            "\u001b[32m2025-07-30 08:57:00.151\u001b[0m | \u001b[1mINFO    \u001b[0m | \u001b[36mbioimageio.spec._internal.io_utils\u001b[0m:\u001b[36mopen_bioimageio_yaml\u001b[0m:\u001b[36m112\u001b[0m - \u001b[1mloading affable-shark from https://uk1s3.embassy.ebi.ac.uk/public-datasets/bioimage.io/affable-shark/1.2/files/rdf.yaml\u001b[0m\n",
            "\u001b[32m2025-07-30 08:57:01.373\u001b[0m | \u001b[1mINFO    \u001b[0m | \u001b[36mbioimageio.spec._internal.io_utils\u001b[0m:\u001b[36mopen_bioimageio_yaml\u001b[0m:\u001b[36m112\u001b[0m - \u001b[1mloading affable-shark from https://uk1s3.embassy.ebi.ac.uk/public-datasets/bioimage.io/affable-shark/1.2/files/rdf.yaml\u001b[0m\n",
            "\u001b[32m2025-07-30 08:57:19.856\u001b[0m | \u001b[1mINFO    \u001b[0m | \u001b[36mbioimageio.spec._internal.io_utils\u001b[0m:\u001b[36mopen_bioimageio_yaml\u001b[0m:\u001b[36m112\u001b[0m - \u001b[1mloading affable-shark from https://uk1s3.embassy.ebi.ac.uk/public-datasets/bioimage.io/affable-shark/1.2/files/rdf.yaml\u001b[0m\n",
            "\u001b[32m2025-07-30 08:57:20.888\u001b[0m | \u001b[1mINFO    \u001b[0m | \u001b[36mbioimageio.spec._internal.io_utils\u001b[0m:\u001b[36mopen_bioimageio_yaml\u001b[0m:\u001b[36m112\u001b[0m - \u001b[1mloading affable-shark from https://uk1s3.embassy.ebi.ac.uk/public-datasets/bioimage.io/affable-shark/1.2/files/rdf.yaml\u001b[0m\n",
            "\u001b[32m2025-07-30 08:57:39.710\u001b[0m | \u001b[1mINFO    \u001b[0m | \u001b[36mbioimageio.spec._internal.io_utils\u001b[0m:\u001b[36mopen_bioimageio_yaml\u001b[0m:\u001b[36m112\u001b[0m - \u001b[1mloading affable-shark from https://uk1s3.embassy.ebi.ac.uk/public-datasets/bioimage.io/affable-shark/1.2/files/rdf.yaml\u001b[0m\n",
            "\u001b[32m2025-07-30 08:57:41.194\u001b[0m | \u001b[1mINFO    \u001b[0m | \u001b[36mbioimageio.spec._internal.io_utils\u001b[0m:\u001b[36mopen_bioimageio_yaml\u001b[0m:\u001b[36m112\u001b[0m - \u001b[1mloading affable-shark from https://uk1s3.embassy.ebi.ac.uk/public-datasets/bioimage.io/affable-shark/1.2/files/rdf.yaml\u001b[0m\n",
            "\u001b[32m2025-07-30 08:58:01.123\u001b[0m | \u001b[1mINFO    \u001b[0m | \u001b[36mbioimageio.spec._internal.io_utils\u001b[0m:\u001b[36mopen_bioimageio_yaml\u001b[0m:\u001b[36m112\u001b[0m - \u001b[1mloading affable-shark from https://uk1s3.embassy.ebi.ac.uk/public-datasets/bioimage.io/affable-shark/1.2/files/rdf.yaml\u001b[0m\n",
            "\u001b[32m2025-07-30 08:58:02.025\u001b[0m | \u001b[1mINFO    \u001b[0m | \u001b[36mbioimageio.spec._internal.io_utils\u001b[0m:\u001b[36mopen_bioimageio_yaml\u001b[0m:\u001b[36m112\u001b[0m - \u001b[1mloading affable-shark from https://uk1s3.embassy.ebi.ac.uk/public-datasets/bioimage.io/affable-shark/1.2/files/rdf.yaml\u001b[0m\n",
            "\u001b[32m2025-07-30 08:58:20.916\u001b[0m | \u001b[1mINFO    \u001b[0m | \u001b[36mbioimageio.spec._internal.io_utils\u001b[0m:\u001b[36mopen_bioimageio_yaml\u001b[0m:\u001b[36m112\u001b[0m - \u001b[1mloading affable-shark from https://uk1s3.embassy.ebi.ac.uk/public-datasets/bioimage.io/affable-shark/1.2/files/rdf.yaml\u001b[0m\n",
            "\u001b[32m2025-07-30 08:58:21.704\u001b[0m | \u001b[1mINFO    \u001b[0m | \u001b[36mbioimageio.spec._internal.io_utils\u001b[0m:\u001b[36mopen_bioimageio_yaml\u001b[0m:\u001b[36m112\u001b[0m - \u001b[1mloading affable-shark from https://uk1s3.embassy.ebi.ac.uk/public-datasets/bioimage.io/affable-shark/1.2/files/rdf.yaml\u001b[0m\n",
            "\u001b[32m2025-07-30 08:58:40.562\u001b[0m | \u001b[1mINFO    \u001b[0m | \u001b[36mbioimageio.spec._internal.io_utils\u001b[0m:\u001b[36mopen_bioimageio_yaml\u001b[0m:\u001b[36m112\u001b[0m - \u001b[1mloading affable-shark from https://uk1s3.embassy.ebi.ac.uk/public-datasets/bioimage.io/affable-shark/1.2/files/rdf.yaml\u001b[0m\n",
            "\u001b[32m2025-07-30 08:58:41.893\u001b[0m | \u001b[1mINFO    \u001b[0m | \u001b[36mbioimageio.spec._internal.io_utils\u001b[0m:\u001b[36mopen_bioimageio_yaml\u001b[0m:\u001b[36m112\u001b[0m - \u001b[1mloading affable-shark from https://uk1s3.embassy.ebi.ac.uk/public-datasets/bioimage.io/affable-shark/1.2/files/rdf.yaml\u001b[0m\n",
            "\u001b[32m2025-07-30 08:59:04.294\u001b[0m | \u001b[1mINFO    \u001b[0m | \u001b[36mbioimageio.spec._internal.io_utils\u001b[0m:\u001b[36mopen_bioimageio_yaml\u001b[0m:\u001b[36m112\u001b[0m - \u001b[1mloading affable-shark from https://uk1s3.embassy.ebi.ac.uk/public-datasets/bioimage.io/affable-shark/1.2/files/rdf.yaml\u001b[0m\n",
            "\u001b[32m2025-07-30 08:59:05.032\u001b[0m | \u001b[1mINFO    \u001b[0m | \u001b[36mbioimageio.spec._internal.io_utils\u001b[0m:\u001b[36mopen_bioimageio_yaml\u001b[0m:\u001b[36m112\u001b[0m - \u001b[1mloading affable-shark from https://uk1s3.embassy.ebi.ac.uk/public-datasets/bioimage.io/affable-shark/1.2/files/rdf.yaml\u001b[0m\n",
            "\u001b[32m2025-07-30 08:59:24.123\u001b[0m | \u001b[1mINFO    \u001b[0m | \u001b[36mbioimageio.spec._internal.io_utils\u001b[0m:\u001b[36mopen_bioimageio_yaml\u001b[0m:\u001b[36m112\u001b[0m - \u001b[1mloading affable-shark from https://uk1s3.embassy.ebi.ac.uk/public-datasets/bioimage.io/affable-shark/1.2/files/rdf.yaml\u001b[0m\n",
            "\u001b[32m2025-07-30 08:59:24.820\u001b[0m | \u001b[1mINFO    \u001b[0m | \u001b[36mbioimageio.spec._internal.io_utils\u001b[0m:\u001b[36mopen_bioimageio_yaml\u001b[0m:\u001b[36m112\u001b[0m - \u001b[1mloading affable-shark from https://uk1s3.embassy.ebi.ac.uk/public-datasets/bioimage.io/affable-shark/1.2/files/rdf.yaml\u001b[0m\n",
            "\u001b[32m2025-07-30 08:59:44.026\u001b[0m | \u001b[1mINFO    \u001b[0m | \u001b[36mbioimageio.spec._internal.io_utils\u001b[0m:\u001b[36mopen_bioimageio_yaml\u001b[0m:\u001b[36m112\u001b[0m - \u001b[1mloading affable-shark from https://uk1s3.embassy.ebi.ac.uk/public-datasets/bioimage.io/affable-shark/1.2/files/rdf.yaml\u001b[0m\n",
            "\u001b[32m2025-07-30 08:59:45.655\u001b[0m | \u001b[1mINFO    \u001b[0m | \u001b[36mbioimageio.spec._internal.io_utils\u001b[0m:\u001b[36mopen_bioimageio_yaml\u001b[0m:\u001b[36m112\u001b[0m - \u001b[1mloading affable-shark from https://uk1s3.embassy.ebi.ac.uk/public-datasets/bioimage.io/affable-shark/1.2/files/rdf.yaml\u001b[0m\n",
            "\u001b[32m2025-07-30 09:00:05.421\u001b[0m | \u001b[1mINFO    \u001b[0m | \u001b[36mbioimageio.spec._internal.io_utils\u001b[0m:\u001b[36mopen_bioimageio_yaml\u001b[0m:\u001b[36m112\u001b[0m - \u001b[1mloading affable-shark from https://uk1s3.embassy.ebi.ac.uk/public-datasets/bioimage.io/affable-shark/1.2/files/rdf.yaml\u001b[0m\n",
            "\u001b[32m2025-07-30 09:00:06.335\u001b[0m | \u001b[1mINFO    \u001b[0m | \u001b[36mbioimageio.spec._internal.io_utils\u001b[0m:\u001b[36mopen_bioimageio_yaml\u001b[0m:\u001b[36m112\u001b[0m - \u001b[1mloading affable-shark from https://uk1s3.embassy.ebi.ac.uk/public-datasets/bioimage.io/affable-shark/1.2/files/rdf.yaml\u001b[0m\n",
            "\u001b[32m2025-07-30 09:00:25.006\u001b[0m | \u001b[1mINFO    \u001b[0m | \u001b[36mbioimageio.spec._internal.io_utils\u001b[0m:\u001b[36mopen_bioimageio_yaml\u001b[0m:\u001b[36m112\u001b[0m - \u001b[1mloading affable-shark from https://uk1s3.embassy.ebi.ac.uk/public-datasets/bioimage.io/affable-shark/1.2/files/rdf.yaml\u001b[0m\n",
            "\u001b[32m2025-07-30 09:00:26.071\u001b[0m | \u001b[1mINFO    \u001b[0m | \u001b[36mbioimageio.spec._internal.io_utils\u001b[0m:\u001b[36mopen_bioimageio_yaml\u001b[0m:\u001b[36m112\u001b[0m - \u001b[1mloading affable-shark from https://uk1s3.embassy.ebi.ac.uk/public-datasets/bioimage.io/affable-shark/1.2/files/rdf.yaml\u001b[0m\n",
            "\u001b[32m2025-07-30 09:00:44.872\u001b[0m | \u001b[1mINFO    \u001b[0m | \u001b[36mbioimageio.spec._internal.io_utils\u001b[0m:\u001b[36mopen_bioimageio_yaml\u001b[0m:\u001b[36m112\u001b[0m - \u001b[1mloading affable-shark from https://uk1s3.embassy.ebi.ac.uk/public-datasets/bioimage.io/affable-shark/1.2/files/rdf.yaml\u001b[0m\n",
            "\u001b[32m2025-07-30 09:00:47.118\u001b[0m | \u001b[1mINFO    \u001b[0m | \u001b[36mbioimageio.spec._internal.io_utils\u001b[0m:\u001b[36mopen_bioimageio_yaml\u001b[0m:\u001b[36m112\u001b[0m - \u001b[1mloading affable-shark from https://uk1s3.embassy.ebi.ac.uk/public-datasets/bioimage.io/affable-shark/1.2/files/rdf.yaml\u001b[0m\n",
            "\u001b[32m2025-07-30 09:01:06.699\u001b[0m | \u001b[1mINFO    \u001b[0m | \u001b[36mbioimageio.spec._internal.io_utils\u001b[0m:\u001b[36mopen_bioimageio_yaml\u001b[0m:\u001b[36m112\u001b[0m - \u001b[1mloading affable-shark from https://uk1s3.embassy.ebi.ac.uk/public-datasets/bioimage.io/affable-shark/1.2/files/rdf.yaml\u001b[0m\n",
            "\u001b[32m2025-07-30 09:01:07.724\u001b[0m | \u001b[1mINFO    \u001b[0m | \u001b[36mbioimageio.spec._internal.io_utils\u001b[0m:\u001b[36mopen_bioimageio_yaml\u001b[0m:\u001b[36m112\u001b[0m - \u001b[1mloading affable-shark from https://uk1s3.embassy.ebi.ac.uk/public-datasets/bioimage.io/affable-shark/1.2/files/rdf.yaml\u001b[0m\n",
            "\u001b[32m2025-07-30 09:01:26.419\u001b[0m | \u001b[1mINFO    \u001b[0m | \u001b[36mbioimageio.spec._internal.io_utils\u001b[0m:\u001b[36mopen_bioimageio_yaml\u001b[0m:\u001b[36m112\u001b[0m - \u001b[1mloading affable-shark from https://uk1s3.embassy.ebi.ac.uk/public-datasets/bioimage.io/affable-shark/1.2/files/rdf.yaml\u001b[0m\n",
            "\u001b[32m2025-07-30 09:01:27.290\u001b[0m | \u001b[1mINFO    \u001b[0m | \u001b[36mbioimageio.spec._internal.io_utils\u001b[0m:\u001b[36mopen_bioimageio_yaml\u001b[0m:\u001b[36m112\u001b[0m - \u001b[1mloading affable-shark from https://uk1s3.embassy.ebi.ac.uk/public-datasets/bioimage.io/affable-shark/1.2/files/rdf.yaml\u001b[0m\n",
            "\u001b[32m2025-07-30 09:01:46.034\u001b[0m | \u001b[1mINFO    \u001b[0m | \u001b[36mbioimageio.spec._internal.io_utils\u001b[0m:\u001b[36mopen_bioimageio_yaml\u001b[0m:\u001b[36m112\u001b[0m - \u001b[1mloading affable-shark from https://uk1s3.embassy.ebi.ac.uk/public-datasets/bioimage.io/affable-shark/1.2/files/rdf.yaml\u001b[0m\n",
            "\u001b[32m2025-07-30 09:01:47.634\u001b[0m | \u001b[1mINFO    \u001b[0m | \u001b[36mbioimageio.spec._internal.io_utils\u001b[0m:\u001b[36mopen_bioimageio_yaml\u001b[0m:\u001b[36m112\u001b[0m - \u001b[1mloading affable-shark from https://uk1s3.embassy.ebi.ac.uk/public-datasets/bioimage.io/affable-shark/1.2/files/rdf.yaml\u001b[0m\n",
            "\u001b[32m2025-07-30 09:02:07.607\u001b[0m | \u001b[1mINFO    \u001b[0m | \u001b[36mbioimageio.spec._internal.io_utils\u001b[0m:\u001b[36mopen_bioimageio_yaml\u001b[0m:\u001b[36m112\u001b[0m - \u001b[1mloading affable-shark from https://uk1s3.embassy.ebi.ac.uk/public-datasets/bioimage.io/affable-shark/1.2/files/rdf.yaml\u001b[0m\n",
            "\u001b[32m2025-07-30 09:02:08.733\u001b[0m | \u001b[1mINFO    \u001b[0m | \u001b[36mbioimageio.spec._internal.io_utils\u001b[0m:\u001b[36mopen_bioimageio_yaml\u001b[0m:\u001b[36m112\u001b[0m - \u001b[1mloading affable-shark from https://uk1s3.embassy.ebi.ac.uk/public-datasets/bioimage.io/affable-shark/1.2/files/rdf.yaml\u001b[0m\n",
            "\u001b[32m2025-07-30 09:02:27.179\u001b[0m | \u001b[1mINFO    \u001b[0m | \u001b[36mbioimageio.spec._internal.io_utils\u001b[0m:\u001b[36mopen_bioimageio_yaml\u001b[0m:\u001b[36m112\u001b[0m - \u001b[1mloading affable-shark from https://uk1s3.embassy.ebi.ac.uk/public-datasets/bioimage.io/affable-shark/1.2/files/rdf.yaml\u001b[0m\n",
            "\u001b[32m2025-07-30 09:02:28.612\u001b[0m | \u001b[1mINFO    \u001b[0m | \u001b[36mbioimageio.spec._internal.io_utils\u001b[0m:\u001b[36mopen_bioimageio_yaml\u001b[0m:\u001b[36m112\u001b[0m - \u001b[1mloading affable-shark from https://uk1s3.embassy.ebi.ac.uk/public-datasets/bioimage.io/affable-shark/1.2/files/rdf.yaml\u001b[0m\n",
            "\u001b[32m2025-07-30 09:02:46.945\u001b[0m | \u001b[1mINFO    \u001b[0m | \u001b[36mbioimageio.spec._internal.io_utils\u001b[0m:\u001b[36mopen_bioimageio_yaml\u001b[0m:\u001b[36m112\u001b[0m - \u001b[1mloading affable-shark from https://uk1s3.embassy.ebi.ac.uk/public-datasets/bioimage.io/affable-shark/1.2/files/rdf.yaml\u001b[0m\n",
            "\u001b[32m2025-07-30 09:02:48.894\u001b[0m | \u001b[1mINFO    \u001b[0m | \u001b[36mbioimageio.spec._internal.io_utils\u001b[0m:\u001b[36mopen_bioimageio_yaml\u001b[0m:\u001b[36m112\u001b[0m - \u001b[1mloading affable-shark from https://uk1s3.embassy.ebi.ac.uk/public-datasets/bioimage.io/affable-shark/1.2/files/rdf.yaml\u001b[0m\n",
            "\u001b[32m2025-07-30 09:03:08.457\u001b[0m | \u001b[1mINFO    \u001b[0m | \u001b[36mbioimageio.spec._internal.io_utils\u001b[0m:\u001b[36mopen_bioimageio_yaml\u001b[0m:\u001b[36m112\u001b[0m - \u001b[1mloading affable-shark from https://uk1s3.embassy.ebi.ac.uk/public-datasets/bioimage.io/affable-shark/1.2/files/rdf.yaml\u001b[0m\n"
          ]
        },
        {
          "name": "stdout",
          "output_type": "stream",
          "text": [
            "Wed Jul 30 09:03:20 2025\n",
            "Saved binarized 3D mask.\n",
            "(99, 512, 512)\n",
            "2015.01.17_ETP_1h-1h_G_Pos001_S001_17_C2\n",
            "Saved as Zarr: ./zarr_files/2015.01.17_ETP_1h-1h_G_Pos001_S001_17_C2.zarr\n",
            "Z_dask shape: (99, 512, 512)\n"
          ]
        },
        {
          "name": "stderr",
          "output_type": "stream",
          "text": [
            "\u001b[32m2025-07-30 09:03:22.614\u001b[0m | \u001b[1mINFO    \u001b[0m | \u001b[36mbioimageio.spec._internal.io_utils\u001b[0m:\u001b[36mopen_bioimageio_yaml\u001b[0m:\u001b[36m112\u001b[0m - \u001b[1mloading affable-shark from https://uk1s3.embassy.ebi.ac.uk/public-datasets/bioimage.io/affable-shark/1.2/files/rdf.yaml\u001b[0m\n",
            "\u001b[32m2025-07-30 09:03:22.681\u001b[0m | \u001b[1mINFO    \u001b[0m | \u001b[36mbioimageio.spec._internal.io_utils\u001b[0m:\u001b[36mopen_bioimageio_yaml\u001b[0m:\u001b[36m112\u001b[0m - \u001b[1mloading affable-shark from https://uk1s3.embassy.ebi.ac.uk/public-datasets/bioimage.io/affable-shark/1.2/files/rdf.yaml\u001b[0m\n"
          ]
        },
        {
          "name": "stdout",
          "output_type": "stream",
          "text": [
            "Wed Jul 30 09:03:22 2025\n"
          ]
        },
        {
          "name": "stderr",
          "output_type": "stream",
          "text": [
            "\u001b[32m2025-07-30 09:03:44.678\u001b[0m | \u001b[1mINFO    \u001b[0m | \u001b[36mbioimageio.spec._internal.io_utils\u001b[0m:\u001b[36mopen_bioimageio_yaml\u001b[0m:\u001b[36m112\u001b[0m - \u001b[1mloading affable-shark from https://uk1s3.embassy.ebi.ac.uk/public-datasets/bioimage.io/affable-shark/1.2/files/rdf.yaml\u001b[0m\n",
            "\u001b[32m2025-07-30 09:03:45.095\u001b[0m | \u001b[1mINFO    \u001b[0m | \u001b[36mbioimageio.spec._internal.io_utils\u001b[0m:\u001b[36mopen_bioimageio_yaml\u001b[0m:\u001b[36m112\u001b[0m - \u001b[1mloading affable-shark from https://uk1s3.embassy.ebi.ac.uk/public-datasets/bioimage.io/affable-shark/1.2/files/rdf.yaml\u001b[0m\n",
            "\u001b[32m2025-07-30 09:04:04.466\u001b[0m | \u001b[1mINFO    \u001b[0m | \u001b[36mbioimageio.spec._internal.io_utils\u001b[0m:\u001b[36mopen_bioimageio_yaml\u001b[0m:\u001b[36m112\u001b[0m - \u001b[1mloading affable-shark from https://uk1s3.embassy.ebi.ac.uk/public-datasets/bioimage.io/affable-shark/1.2/files/rdf.yaml\u001b[0m\n",
            "\u001b[32m2025-07-30 09:04:04.915\u001b[0m | \u001b[1mINFO    \u001b[0m | \u001b[36mbioimageio.spec._internal.io_utils\u001b[0m:\u001b[36mopen_bioimageio_yaml\u001b[0m:\u001b[36m112\u001b[0m - \u001b[1mloading affable-shark from https://uk1s3.embassy.ebi.ac.uk/public-datasets/bioimage.io/affable-shark/1.2/files/rdf.yaml\u001b[0m\n",
            "\u001b[32m2025-07-30 09:04:26.209\u001b[0m | \u001b[1mINFO    \u001b[0m | \u001b[36mbioimageio.spec._internal.io_utils\u001b[0m:\u001b[36mopen_bioimageio_yaml\u001b[0m:\u001b[36m112\u001b[0m - \u001b[1mloading affable-shark from https://uk1s3.embassy.ebi.ac.uk/public-datasets/bioimage.io/affable-shark/1.2/files/rdf.yaml\u001b[0m\n",
            "\u001b[32m2025-07-30 09:04:26.532\u001b[0m | \u001b[1mINFO    \u001b[0m | \u001b[36mbioimageio.spec._internal.io_utils\u001b[0m:\u001b[36mopen_bioimageio_yaml\u001b[0m:\u001b[36m112\u001b[0m - \u001b[1mloading affable-shark from https://uk1s3.embassy.ebi.ac.uk/public-datasets/bioimage.io/affable-shark/1.2/files/rdf.yaml\u001b[0m\n",
            "\u001b[32m2025-07-30 09:04:46.004\u001b[0m | \u001b[1mINFO    \u001b[0m | \u001b[36mbioimageio.spec._internal.io_utils\u001b[0m:\u001b[36mopen_bioimageio_yaml\u001b[0m:\u001b[36m112\u001b[0m - \u001b[1mloading affable-shark from https://uk1s3.embassy.ebi.ac.uk/public-datasets/bioimage.io/affable-shark/1.2/files/rdf.yaml\u001b[0m\n",
            "\u001b[32m2025-07-30 09:04:46.270\u001b[0m | \u001b[1mINFO    \u001b[0m | \u001b[36mbioimageio.spec._internal.io_utils\u001b[0m:\u001b[36mopen_bioimageio_yaml\u001b[0m:\u001b[36m112\u001b[0m - \u001b[1mloading affable-shark from https://uk1s3.embassy.ebi.ac.uk/public-datasets/bioimage.io/affable-shark/1.2/files/rdf.yaml\u001b[0m\n",
            "\u001b[32m2025-07-30 09:05:05.423\u001b[0m | \u001b[1mINFO    \u001b[0m | \u001b[36mbioimageio.spec._internal.io_utils\u001b[0m:\u001b[36mopen_bioimageio_yaml\u001b[0m:\u001b[36m112\u001b[0m - \u001b[1mloading affable-shark from https://uk1s3.embassy.ebi.ac.uk/public-datasets/bioimage.io/affable-shark/1.2/files/rdf.yaml\u001b[0m\n",
            "\u001b[32m2025-07-30 09:05:06.523\u001b[0m | \u001b[1mINFO    \u001b[0m | \u001b[36mbioimageio.spec._internal.io_utils\u001b[0m:\u001b[36mopen_bioimageio_yaml\u001b[0m:\u001b[36m112\u001b[0m - \u001b[1mloading affable-shark from https://uk1s3.embassy.ebi.ac.uk/public-datasets/bioimage.io/affable-shark/1.2/files/rdf.yaml\u001b[0m\n",
            "\u001b[32m2025-07-30 09:05:28.775\u001b[0m | \u001b[1mINFO    \u001b[0m | \u001b[36mbioimageio.spec._internal.io_utils\u001b[0m:\u001b[36mopen_bioimageio_yaml\u001b[0m:\u001b[36m112\u001b[0m - \u001b[1mloading affable-shark from https://uk1s3.embassy.ebi.ac.uk/public-datasets/bioimage.io/affable-shark/1.2/files/rdf.yaml\u001b[0m\n",
            "\u001b[32m2025-07-30 09:05:29.487\u001b[0m | \u001b[1mINFO    \u001b[0m | \u001b[36mbioimageio.spec._internal.io_utils\u001b[0m:\u001b[36mopen_bioimageio_yaml\u001b[0m:\u001b[36m112\u001b[0m - \u001b[1mloading affable-shark from https://uk1s3.embassy.ebi.ac.uk/public-datasets/bioimage.io/affable-shark/1.2/files/rdf.yaml\u001b[0m\n",
            "\u001b[32m2025-07-30 09:05:48.680\u001b[0m | \u001b[1mINFO    \u001b[0m | \u001b[36mbioimageio.spec._internal.io_utils\u001b[0m:\u001b[36mopen_bioimageio_yaml\u001b[0m:\u001b[36m112\u001b[0m - \u001b[1mloading affable-shark from https://uk1s3.embassy.ebi.ac.uk/public-datasets/bioimage.io/affable-shark/1.2/files/rdf.yaml\u001b[0m\n",
            "\u001b[32m2025-07-30 09:05:49.356\u001b[0m | \u001b[1mINFO    \u001b[0m | \u001b[36mbioimageio.spec._internal.io_utils\u001b[0m:\u001b[36mopen_bioimageio_yaml\u001b[0m:\u001b[36m112\u001b[0m - \u001b[1mloading affable-shark from https://uk1s3.embassy.ebi.ac.uk/public-datasets/bioimage.io/affable-shark/1.2/files/rdf.yaml\u001b[0m\n",
            "\u001b[32m2025-07-30 09:06:09.457\u001b[0m | \u001b[1mINFO    \u001b[0m | \u001b[36mbioimageio.spec._internal.io_utils\u001b[0m:\u001b[36mopen_bioimageio_yaml\u001b[0m:\u001b[36m112\u001b[0m - \u001b[1mloading affable-shark from https://uk1s3.embassy.ebi.ac.uk/public-datasets/bioimage.io/affable-shark/1.2/files/rdf.yaml\u001b[0m\n",
            "\u001b[32m2025-07-30 09:06:10.872\u001b[0m | \u001b[1mINFO    \u001b[0m | \u001b[36mbioimageio.spec._internal.io_utils\u001b[0m:\u001b[36mopen_bioimageio_yaml\u001b[0m:\u001b[36m112\u001b[0m - \u001b[1mloading affable-shark from https://uk1s3.embassy.ebi.ac.uk/public-datasets/bioimage.io/affable-shark/1.2/files/rdf.yaml\u001b[0m\n",
            "\u001b[32m2025-07-30 09:06:29.750\u001b[0m | \u001b[1mINFO    \u001b[0m | \u001b[36mbioimageio.spec._internal.io_utils\u001b[0m:\u001b[36mopen_bioimageio_yaml\u001b[0m:\u001b[36m112\u001b[0m - \u001b[1mloading affable-shark from https://uk1s3.embassy.ebi.ac.uk/public-datasets/bioimage.io/affable-shark/1.2/files/rdf.yaml\u001b[0m\n",
            "\u001b[32m2025-07-30 09:06:30.797\u001b[0m | \u001b[1mINFO    \u001b[0m | \u001b[36mbioimageio.spec._internal.io_utils\u001b[0m:\u001b[36mopen_bioimageio_yaml\u001b[0m:\u001b[36m112\u001b[0m - \u001b[1mloading affable-shark from https://uk1s3.embassy.ebi.ac.uk/public-datasets/bioimage.io/affable-shark/1.2/files/rdf.yaml\u001b[0m\n",
            "\u001b[32m2025-07-30 09:06:49.615\u001b[0m | \u001b[1mINFO    \u001b[0m | \u001b[36mbioimageio.spec._internal.io_utils\u001b[0m:\u001b[36mopen_bioimageio_yaml\u001b[0m:\u001b[36m112\u001b[0m - \u001b[1mloading affable-shark from https://uk1s3.embassy.ebi.ac.uk/public-datasets/bioimage.io/affable-shark/1.2/files/rdf.yaml\u001b[0m\n",
            "\u001b[32m2025-07-30 09:06:50.373\u001b[0m | \u001b[1mINFO    \u001b[0m | \u001b[36mbioimageio.spec._internal.io_utils\u001b[0m:\u001b[36mopen_bioimageio_yaml\u001b[0m:\u001b[36m112\u001b[0m - \u001b[1mloading affable-shark from https://uk1s3.embassy.ebi.ac.uk/public-datasets/bioimage.io/affable-shark/1.2/files/rdf.yaml\u001b[0m\n",
            "\u001b[32m2025-07-30 09:07:12.287\u001b[0m | \u001b[1mINFO    \u001b[0m | \u001b[36mbioimageio.spec._internal.io_utils\u001b[0m:\u001b[36mopen_bioimageio_yaml\u001b[0m:\u001b[36m112\u001b[0m - \u001b[1mloading affable-shark from https://uk1s3.embassy.ebi.ac.uk/public-datasets/bioimage.io/affable-shark/1.2/files/rdf.yaml\u001b[0m\n",
            "\u001b[32m2025-07-30 09:07:12.792\u001b[0m | \u001b[1mINFO    \u001b[0m | \u001b[36mbioimageio.spec._internal.io_utils\u001b[0m:\u001b[36mopen_bioimageio_yaml\u001b[0m:\u001b[36m112\u001b[0m - \u001b[1mloading affable-shark from https://uk1s3.embassy.ebi.ac.uk/public-datasets/bioimage.io/affable-shark/1.2/files/rdf.yaml\u001b[0m\n",
            "\u001b[32m2025-07-30 09:07:32.369\u001b[0m | \u001b[1mINFO    \u001b[0m | \u001b[36mbioimageio.spec._internal.io_utils\u001b[0m:\u001b[36mopen_bioimageio_yaml\u001b[0m:\u001b[36m112\u001b[0m - \u001b[1mloading affable-shark from https://uk1s3.embassy.ebi.ac.uk/public-datasets/bioimage.io/affable-shark/1.2/files/rdf.yaml\u001b[0m\n",
            "\u001b[32m2025-07-30 09:07:32.453\u001b[0m | \u001b[1mINFO    \u001b[0m | \u001b[36mbioimageio.spec._internal.io_utils\u001b[0m:\u001b[36mopen_bioimageio_yaml\u001b[0m:\u001b[36m112\u001b[0m - \u001b[1mloading affable-shark from https://uk1s3.embassy.ebi.ac.uk/public-datasets/bioimage.io/affable-shark/1.2/files/rdf.yaml\u001b[0m\n",
            "\u001b[32m2025-07-30 09:07:51.709\u001b[0m | \u001b[1mINFO    \u001b[0m | \u001b[36mbioimageio.spec._internal.io_utils\u001b[0m:\u001b[36mopen_bioimageio_yaml\u001b[0m:\u001b[36m112\u001b[0m - \u001b[1mloading affable-shark from https://uk1s3.embassy.ebi.ac.uk/public-datasets/bioimage.io/affable-shark/1.2/files/rdf.yaml\u001b[0m\n",
            "\u001b[32m2025-07-30 09:07:52.522\u001b[0m | \u001b[1mINFO    \u001b[0m | \u001b[36mbioimageio.spec._internal.io_utils\u001b[0m:\u001b[36mopen_bioimageio_yaml\u001b[0m:\u001b[36m112\u001b[0m - \u001b[1mloading affable-shark from https://uk1s3.embassy.ebi.ac.uk/public-datasets/bioimage.io/affable-shark/1.2/files/rdf.yaml\u001b[0m\n",
            "\u001b[32m2025-07-30 09:08:15.347\u001b[0m | \u001b[1mINFO    \u001b[0m | \u001b[36mbioimageio.spec._internal.io_utils\u001b[0m:\u001b[36mopen_bioimageio_yaml\u001b[0m:\u001b[36m112\u001b[0m - \u001b[1mloading affable-shark from https://uk1s3.embassy.ebi.ac.uk/public-datasets/bioimage.io/affable-shark/1.2/files/rdf.yaml\u001b[0m\n",
            "\u001b[32m2025-07-30 09:08:16.183\u001b[0m | \u001b[1mINFO    \u001b[0m | \u001b[36mbioimageio.spec._internal.io_utils\u001b[0m:\u001b[36mopen_bioimageio_yaml\u001b[0m:\u001b[36m112\u001b[0m - \u001b[1mloading affable-shark from https://uk1s3.embassy.ebi.ac.uk/public-datasets/bioimage.io/affable-shark/1.2/files/rdf.yaml\u001b[0m\n",
            "\u001b[32m2025-07-30 09:08:35.039\u001b[0m | \u001b[1mINFO    \u001b[0m | \u001b[36mbioimageio.spec._internal.io_utils\u001b[0m:\u001b[36mopen_bioimageio_yaml\u001b[0m:\u001b[36m112\u001b[0m - \u001b[1mloading affable-shark from https://uk1s3.embassy.ebi.ac.uk/public-datasets/bioimage.io/affable-shark/1.2/files/rdf.yaml\u001b[0m\n",
            "\u001b[32m2025-07-30 09:08:35.838\u001b[0m | \u001b[1mINFO    \u001b[0m | \u001b[36mbioimageio.spec._internal.io_utils\u001b[0m:\u001b[36mopen_bioimageio_yaml\u001b[0m:\u001b[36m112\u001b[0m - \u001b[1mloading affable-shark from https://uk1s3.embassy.ebi.ac.uk/public-datasets/bioimage.io/affable-shark/1.2/files/rdf.yaml\u001b[0m\n",
            "\u001b[32m2025-07-30 09:08:54.961\u001b[0m | \u001b[1mINFO    \u001b[0m | \u001b[36mbioimageio.spec._internal.io_utils\u001b[0m:\u001b[36mopen_bioimageio_yaml\u001b[0m:\u001b[36m112\u001b[0m - \u001b[1mloading affable-shark from https://uk1s3.embassy.ebi.ac.uk/public-datasets/bioimage.io/affable-shark/1.2/files/rdf.yaml\u001b[0m\n",
            "\u001b[32m2025-07-30 09:08:56.306\u001b[0m | \u001b[1mINFO    \u001b[0m | \u001b[36mbioimageio.spec._internal.io_utils\u001b[0m:\u001b[36mopen_bioimageio_yaml\u001b[0m:\u001b[36m112\u001b[0m - \u001b[1mloading affable-shark from https://uk1s3.embassy.ebi.ac.uk/public-datasets/bioimage.io/affable-shark/1.2/files/rdf.yaml\u001b[0m\n",
            "\u001b[32m2025-07-30 09:09:16.366\u001b[0m | \u001b[1mINFO    \u001b[0m | \u001b[36mbioimageio.spec._internal.io_utils\u001b[0m:\u001b[36mopen_bioimageio_yaml\u001b[0m:\u001b[36m112\u001b[0m - \u001b[1mloading affable-shark from https://uk1s3.embassy.ebi.ac.uk/public-datasets/bioimage.io/affable-shark/1.2/files/rdf.yaml\u001b[0m\n",
            "\u001b[32m2025-07-30 09:09:16.941\u001b[0m | \u001b[1mINFO    \u001b[0m | \u001b[36mbioimageio.spec._internal.io_utils\u001b[0m:\u001b[36mopen_bioimageio_yaml\u001b[0m:\u001b[36m112\u001b[0m - \u001b[1mloading affable-shark from https://uk1s3.embassy.ebi.ac.uk/public-datasets/bioimage.io/affable-shark/1.2/files/rdf.yaml\u001b[0m\n",
            "\u001b[32m2025-07-30 09:09:35.865\u001b[0m | \u001b[1mINFO    \u001b[0m | \u001b[36mbioimageio.spec._internal.io_utils\u001b[0m:\u001b[36mopen_bioimageio_yaml\u001b[0m:\u001b[36m112\u001b[0m - \u001b[1mloading affable-shark from https://uk1s3.embassy.ebi.ac.uk/public-datasets/bioimage.io/affable-shark/1.2/files/rdf.yaml\u001b[0m\n",
            "\u001b[32m2025-07-30 09:09:36.591\u001b[0m | \u001b[1mINFO    \u001b[0m | \u001b[36mbioimageio.spec._internal.io_utils\u001b[0m:\u001b[36mopen_bioimageio_yaml\u001b[0m:\u001b[36m112\u001b[0m - \u001b[1mloading affable-shark from https://uk1s3.embassy.ebi.ac.uk/public-datasets/bioimage.io/affable-shark/1.2/files/rdf.yaml\u001b[0m\n",
            "\u001b[32m2025-07-30 09:09:55.940\u001b[0m | \u001b[1mINFO    \u001b[0m | \u001b[36mbioimageio.spec._internal.io_utils\u001b[0m:\u001b[36mopen_bioimageio_yaml\u001b[0m:\u001b[36m112\u001b[0m - \u001b[1mloading affable-shark from https://uk1s3.embassy.ebi.ac.uk/public-datasets/bioimage.io/affable-shark/1.2/files/rdf.yaml\u001b[0m\n",
            "\u001b[32m2025-07-30 09:09:57.617\u001b[0m | \u001b[1mINFO    \u001b[0m | \u001b[36mbioimageio.spec._internal.io_utils\u001b[0m:\u001b[36mopen_bioimageio_yaml\u001b[0m:\u001b[36m112\u001b[0m - \u001b[1mloading affable-shark from https://uk1s3.embassy.ebi.ac.uk/public-datasets/bioimage.io/affable-shark/1.2/files/rdf.yaml\u001b[0m\n",
            "\u001b[32m2025-07-30 09:10:17.167\u001b[0m | \u001b[1mINFO    \u001b[0m | \u001b[36mbioimageio.spec._internal.io_utils\u001b[0m:\u001b[36mopen_bioimageio_yaml\u001b[0m:\u001b[36m112\u001b[0m - \u001b[1mloading affable-shark from https://uk1s3.embassy.ebi.ac.uk/public-datasets/bioimage.io/affable-shark/1.2/files/rdf.yaml\u001b[0m\n",
            "\u001b[32m2025-07-30 09:10:17.841\u001b[0m | \u001b[1mINFO    \u001b[0m | \u001b[36mbioimageio.spec._internal.io_utils\u001b[0m:\u001b[36mopen_bioimageio_yaml\u001b[0m:\u001b[36m112\u001b[0m - \u001b[1mloading affable-shark from https://uk1s3.embassy.ebi.ac.uk/public-datasets/bioimage.io/affable-shark/1.2/files/rdf.yaml\u001b[0m\n",
            "\u001b[32m2025-07-30 09:10:36.814\u001b[0m | \u001b[1mINFO    \u001b[0m | \u001b[36mbioimageio.spec._internal.io_utils\u001b[0m:\u001b[36mopen_bioimageio_yaml\u001b[0m:\u001b[36m112\u001b[0m - \u001b[1mloading affable-shark from https://uk1s3.embassy.ebi.ac.uk/public-datasets/bioimage.io/affable-shark/1.2/files/rdf.yaml\u001b[0m\n",
            "\u001b[32m2025-07-30 09:10:37.608\u001b[0m | \u001b[1mINFO    \u001b[0m | \u001b[36mbioimageio.spec._internal.io_utils\u001b[0m:\u001b[36mopen_bioimageio_yaml\u001b[0m:\u001b[36m112\u001b[0m - \u001b[1mloading affable-shark from https://uk1s3.embassy.ebi.ac.uk/public-datasets/bioimage.io/affable-shark/1.2/files/rdf.yaml\u001b[0m\n",
            "\u001b[32m2025-07-30 09:10:57.922\u001b[0m | \u001b[1mINFO    \u001b[0m | \u001b[36mbioimageio.spec._internal.io_utils\u001b[0m:\u001b[36mopen_bioimageio_yaml\u001b[0m:\u001b[36m112\u001b[0m - \u001b[1mloading affable-shark from https://uk1s3.embassy.ebi.ac.uk/public-datasets/bioimage.io/affable-shark/1.2/files/rdf.yaml\u001b[0m\n",
            "\u001b[32m2025-07-30 09:10:59.147\u001b[0m | \u001b[1mINFO    \u001b[0m | \u001b[36mbioimageio.spec._internal.io_utils\u001b[0m:\u001b[36mopen_bioimageio_yaml\u001b[0m:\u001b[36m112\u001b[0m - \u001b[1mloading affable-shark from https://uk1s3.embassy.ebi.ac.uk/public-datasets/bioimage.io/affable-shark/1.2/files/rdf.yaml\u001b[0m\n",
            "\u001b[32m2025-07-30 09:11:18.141\u001b[0m | \u001b[1mINFO    \u001b[0m | \u001b[36mbioimageio.spec._internal.io_utils\u001b[0m:\u001b[36mopen_bioimageio_yaml\u001b[0m:\u001b[36m112\u001b[0m - \u001b[1mloading affable-shark from https://uk1s3.embassy.ebi.ac.uk/public-datasets/bioimage.io/affable-shark/1.2/files/rdf.yaml\u001b[0m\n",
            "\u001b[32m2025-07-30 09:11:19.205\u001b[0m | \u001b[1mINFO    \u001b[0m | \u001b[36mbioimageio.spec._internal.io_utils\u001b[0m:\u001b[36mopen_bioimageio_yaml\u001b[0m:\u001b[36m112\u001b[0m - \u001b[1mloading affable-shark from https://uk1s3.embassy.ebi.ac.uk/public-datasets/bioimage.io/affable-shark/1.2/files/rdf.yaml\u001b[0m\n",
            "\u001b[32m2025-07-30 09:11:37.919\u001b[0m | \u001b[1mINFO    \u001b[0m | \u001b[36mbioimageio.spec._internal.io_utils\u001b[0m:\u001b[36mopen_bioimageio_yaml\u001b[0m:\u001b[36m112\u001b[0m - \u001b[1mloading affable-shark from https://uk1s3.embassy.ebi.ac.uk/public-datasets/bioimage.io/affable-shark/1.2/files/rdf.yaml\u001b[0m\n",
            "\u001b[32m2025-07-30 09:11:38.752\u001b[0m | \u001b[1mINFO    \u001b[0m | \u001b[36mbioimageio.spec._internal.io_utils\u001b[0m:\u001b[36mopen_bioimageio_yaml\u001b[0m:\u001b[36m112\u001b[0m - \u001b[1mloading affable-shark from https://uk1s3.embassy.ebi.ac.uk/public-datasets/bioimage.io/affable-shark/1.2/files/rdf.yaml\u001b[0m\n",
            "\u001b[32m2025-07-30 09:11:58.382\u001b[0m | \u001b[1mINFO    \u001b[0m | \u001b[36mbioimageio.spec._internal.io_utils\u001b[0m:\u001b[36mopen_bioimageio_yaml\u001b[0m:\u001b[36m112\u001b[0m - \u001b[1mloading affable-shark from https://uk1s3.embassy.ebi.ac.uk/public-datasets/bioimage.io/affable-shark/1.2/files/rdf.yaml\u001b[0m\n",
            "\u001b[32m2025-07-30 09:12:00.505\u001b[0m | \u001b[1mINFO    \u001b[0m | \u001b[36mbioimageio.spec._internal.io_utils\u001b[0m:\u001b[36mopen_bioimageio_yaml\u001b[0m:\u001b[36m112\u001b[0m - \u001b[1mloading affable-shark from https://uk1s3.embassy.ebi.ac.uk/public-datasets/bioimage.io/affable-shark/1.2/files/rdf.yaml\u001b[0m\n",
            "\u001b[32m2025-07-30 09:12:19.260\u001b[0m | \u001b[1mINFO    \u001b[0m | \u001b[36mbioimageio.spec._internal.io_utils\u001b[0m:\u001b[36mopen_bioimageio_yaml\u001b[0m:\u001b[36m112\u001b[0m - \u001b[1mloading affable-shark from https://uk1s3.embassy.ebi.ac.uk/public-datasets/bioimage.io/affable-shark/1.2/files/rdf.yaml\u001b[0m\n",
            "\u001b[32m2025-07-30 09:12:20.567\u001b[0m | \u001b[1mINFO    \u001b[0m | \u001b[36mbioimageio.spec._internal.io_utils\u001b[0m:\u001b[36mopen_bioimageio_yaml\u001b[0m:\u001b[36m112\u001b[0m - \u001b[1mloading affable-shark from https://uk1s3.embassy.ebi.ac.uk/public-datasets/bioimage.io/affable-shark/1.2/files/rdf.yaml\u001b[0m\n",
            "\u001b[32m2025-07-30 09:12:39.015\u001b[0m | \u001b[1mINFO    \u001b[0m | \u001b[36mbioimageio.spec._internal.io_utils\u001b[0m:\u001b[36mopen_bioimageio_yaml\u001b[0m:\u001b[36m112\u001b[0m - \u001b[1mloading affable-shark from https://uk1s3.embassy.ebi.ac.uk/public-datasets/bioimage.io/affable-shark/1.2/files/rdf.yaml\u001b[0m\n",
            "\u001b[32m2025-07-30 09:12:40.350\u001b[0m | \u001b[1mINFO    \u001b[0m | \u001b[36mbioimageio.spec._internal.io_utils\u001b[0m:\u001b[36mopen_bioimageio_yaml\u001b[0m:\u001b[36m112\u001b[0m - \u001b[1mloading affable-shark from https://uk1s3.embassy.ebi.ac.uk/public-datasets/bioimage.io/affable-shark/1.2/files/rdf.yaml\u001b[0m\n",
            "\u001b[32m2025-07-30 09:13:01.223\u001b[0m | \u001b[1mINFO    \u001b[0m | \u001b[36mbioimageio.spec._internal.io_utils\u001b[0m:\u001b[36mopen_bioimageio_yaml\u001b[0m:\u001b[36m112\u001b[0m - \u001b[1mloading affable-shark from https://uk1s3.embassy.ebi.ac.uk/public-datasets/bioimage.io/affable-shark/1.2/files/rdf.yaml\u001b[0m\n",
            "\u001b[32m2025-07-30 09:13:04.122\u001b[0m | \u001b[1mINFO    \u001b[0m | \u001b[36mbioimageio.spec._internal.io_utils\u001b[0m:\u001b[36mopen_bioimageio_yaml\u001b[0m:\u001b[36m112\u001b[0m - \u001b[1mloading affable-shark from https://uk1s3.embassy.ebi.ac.uk/public-datasets/bioimage.io/affable-shark/1.2/files/rdf.yaml\u001b[0m\n",
            "\u001b[32m2025-07-30 09:13:22.441\u001b[0m | \u001b[1mINFO    \u001b[0m | \u001b[36mbioimageio.spec._internal.io_utils\u001b[0m:\u001b[36mopen_bioimageio_yaml\u001b[0m:\u001b[36m112\u001b[0m - \u001b[1mloading affable-shark from https://uk1s3.embassy.ebi.ac.uk/public-datasets/bioimage.io/affable-shark/1.2/files/rdf.yaml\u001b[0m\n",
            "\u001b[32m2025-07-30 09:13:23.970\u001b[0m | \u001b[1mINFO    \u001b[0m | \u001b[36mbioimageio.spec._internal.io_utils\u001b[0m:\u001b[36mopen_bioimageio_yaml\u001b[0m:\u001b[36m112\u001b[0m - \u001b[1mloading affable-shark from https://uk1s3.embassy.ebi.ac.uk/public-datasets/bioimage.io/affable-shark/1.2/files/rdf.yaml\u001b[0m\n",
            "\u001b[32m2025-07-30 09:13:41.954\u001b[0m | \u001b[1mINFO    \u001b[0m | \u001b[36mbioimageio.spec._internal.io_utils\u001b[0m:\u001b[36mopen_bioimageio_yaml\u001b[0m:\u001b[36m112\u001b[0m - \u001b[1mloading affable-shark from https://uk1s3.embassy.ebi.ac.uk/public-datasets/bioimage.io/affable-shark/1.2/files/rdf.yaml\u001b[0m\n",
            "\u001b[32m2025-07-30 09:13:43.514\u001b[0m | \u001b[1mINFO    \u001b[0m | \u001b[36mbioimageio.spec._internal.io_utils\u001b[0m:\u001b[36mopen_bioimageio_yaml\u001b[0m:\u001b[36m112\u001b[0m - \u001b[1mloading affable-shark from https://uk1s3.embassy.ebi.ac.uk/public-datasets/bioimage.io/affable-shark/1.2/files/rdf.yaml\u001b[0m\n",
            "\u001b[32m2025-07-30 09:14:01.923\u001b[0m | \u001b[1mINFO    \u001b[0m | \u001b[36mbioimageio.spec._internal.io_utils\u001b[0m:\u001b[36mopen_bioimageio_yaml\u001b[0m:\u001b[36m112\u001b[0m - \u001b[1mloading affable-shark from https://uk1s3.embassy.ebi.ac.uk/public-datasets/bioimage.io/affable-shark/1.2/files/rdf.yaml\u001b[0m\n",
            "\u001b[32m2025-07-30 09:14:05.390\u001b[0m | \u001b[1mINFO    \u001b[0m | \u001b[36mbioimageio.spec._internal.io_utils\u001b[0m:\u001b[36mopen_bioimageio_yaml\u001b[0m:\u001b[36m112\u001b[0m - \u001b[1mloading affable-shark from https://uk1s3.embassy.ebi.ac.uk/public-datasets/bioimage.io/affable-shark/1.2/files/rdf.yaml\u001b[0m\n",
            "\u001b[32m2025-07-30 09:14:23.197\u001b[0m | \u001b[1mINFO    \u001b[0m | \u001b[36mbioimageio.spec._internal.io_utils\u001b[0m:\u001b[36mopen_bioimageio_yaml\u001b[0m:\u001b[36m112\u001b[0m - \u001b[1mloading affable-shark from https://uk1s3.embassy.ebi.ac.uk/public-datasets/bioimage.io/affable-shark/1.2/files/rdf.yaml\u001b[0m\n",
            "\u001b[32m2025-07-30 09:14:25.152\u001b[0m | \u001b[1mINFO    \u001b[0m | \u001b[36mbioimageio.spec._internal.io_utils\u001b[0m:\u001b[36mopen_bioimageio_yaml\u001b[0m:\u001b[36m112\u001b[0m - \u001b[1mloading affable-shark from https://uk1s3.embassy.ebi.ac.uk/public-datasets/bioimage.io/affable-shark/1.2/files/rdf.yaml\u001b[0m\n",
            "\u001b[32m2025-07-30 09:14:42.724\u001b[0m | \u001b[1mINFO    \u001b[0m | \u001b[36mbioimageio.spec._internal.io_utils\u001b[0m:\u001b[36mopen_bioimageio_yaml\u001b[0m:\u001b[36m112\u001b[0m - \u001b[1mloading affable-shark from https://uk1s3.embassy.ebi.ac.uk/public-datasets/bioimage.io/affable-shark/1.2/files/rdf.yaml\u001b[0m\n",
            "\u001b[32m2025-07-30 09:14:44.582\u001b[0m | \u001b[1mINFO    \u001b[0m | \u001b[36mbioimageio.spec._internal.io_utils\u001b[0m:\u001b[36mopen_bioimageio_yaml\u001b[0m:\u001b[36m112\u001b[0m - \u001b[1mloading affable-shark from https://uk1s3.embassy.ebi.ac.uk/public-datasets/bioimage.io/affable-shark/1.2/files/rdf.yaml\u001b[0m\n",
            "\u001b[32m2025-07-30 09:15:02.936\u001b[0m | \u001b[1mINFO    \u001b[0m | \u001b[36mbioimageio.spec._internal.io_utils\u001b[0m:\u001b[36mopen_bioimageio_yaml\u001b[0m:\u001b[36m112\u001b[0m - \u001b[1mloading affable-shark from https://uk1s3.embassy.ebi.ac.uk/public-datasets/bioimage.io/affable-shark/1.2/files/rdf.yaml\u001b[0m\n",
            "\u001b[32m2025-07-30 09:15:05.734\u001b[0m | \u001b[1mINFO    \u001b[0m | \u001b[36mbioimageio.spec._internal.io_utils\u001b[0m:\u001b[36mopen_bioimageio_yaml\u001b[0m:\u001b[36m112\u001b[0m - \u001b[1mloading affable-shark from https://uk1s3.embassy.ebi.ac.uk/public-datasets/bioimage.io/affable-shark/1.2/files/rdf.yaml\u001b[0m\n",
            "\u001b[32m2025-07-30 09:15:23.851\u001b[0m | \u001b[1mINFO    \u001b[0m | \u001b[36mbioimageio.spec._internal.io_utils\u001b[0m:\u001b[36mopen_bioimageio_yaml\u001b[0m:\u001b[36m112\u001b[0m - \u001b[1mloading affable-shark from https://uk1s3.embassy.ebi.ac.uk/public-datasets/bioimage.io/affable-shark/1.2/files/rdf.yaml\u001b[0m\n",
            "\u001b[32m2025-07-30 09:15:25.342\u001b[0m | \u001b[1mINFO    \u001b[0m | \u001b[36mbioimageio.spec._internal.io_utils\u001b[0m:\u001b[36mopen_bioimageio_yaml\u001b[0m:\u001b[36m112\u001b[0m - \u001b[1mloading affable-shark from https://uk1s3.embassy.ebi.ac.uk/public-datasets/bioimage.io/affable-shark/1.2/files/rdf.yaml\u001b[0m\n",
            "\u001b[32m2025-07-30 09:15:43.164\u001b[0m | \u001b[1mINFO    \u001b[0m | \u001b[36mbioimageio.spec._internal.io_utils\u001b[0m:\u001b[36mopen_bioimageio_yaml\u001b[0m:\u001b[36m112\u001b[0m - \u001b[1mloading affable-shark from https://uk1s3.embassy.ebi.ac.uk/public-datasets/bioimage.io/affable-shark/1.2/files/rdf.yaml\u001b[0m\n",
            "\u001b[32m2025-07-30 09:15:44.864\u001b[0m | \u001b[1mINFO    \u001b[0m | \u001b[36mbioimageio.spec._internal.io_utils\u001b[0m:\u001b[36mopen_bioimageio_yaml\u001b[0m:\u001b[36m112\u001b[0m - \u001b[1mloading affable-shark from https://uk1s3.embassy.ebi.ac.uk/public-datasets/bioimage.io/affable-shark/1.2/files/rdf.yaml\u001b[0m\n",
            "\u001b[32m2025-07-30 09:16:03.387\u001b[0m | \u001b[1mINFO    \u001b[0m | \u001b[36mbioimageio.spec._internal.io_utils\u001b[0m:\u001b[36mopen_bioimageio_yaml\u001b[0m:\u001b[36m112\u001b[0m - \u001b[1mloading affable-shark from https://uk1s3.embassy.ebi.ac.uk/public-datasets/bioimage.io/affable-shark/1.2/files/rdf.yaml\u001b[0m\n",
            "\u001b[32m2025-07-30 09:16:05.752\u001b[0m | \u001b[1mINFO    \u001b[0m | \u001b[36mbioimageio.spec._internal.io_utils\u001b[0m:\u001b[36mopen_bioimageio_yaml\u001b[0m:\u001b[36m112\u001b[0m - \u001b[1mloading affable-shark from https://uk1s3.embassy.ebi.ac.uk/public-datasets/bioimage.io/affable-shark/1.2/files/rdf.yaml\u001b[0m\n",
            "\u001b[32m2025-07-30 09:16:24.345\u001b[0m | \u001b[1mINFO    \u001b[0m | \u001b[36mbioimageio.spec._internal.io_utils\u001b[0m:\u001b[36mopen_bioimageio_yaml\u001b[0m:\u001b[36m112\u001b[0m - \u001b[1mloading affable-shark from https://uk1s3.embassy.ebi.ac.uk/public-datasets/bioimage.io/affable-shark/1.2/files/rdf.yaml\u001b[0m\n",
            "\u001b[32m2025-07-30 09:16:25.579\u001b[0m | \u001b[1mINFO    \u001b[0m | \u001b[36mbioimageio.spec._internal.io_utils\u001b[0m:\u001b[36mopen_bioimageio_yaml\u001b[0m:\u001b[36m112\u001b[0m - \u001b[1mloading affable-shark from https://uk1s3.embassy.ebi.ac.uk/public-datasets/bioimage.io/affable-shark/1.2/files/rdf.yaml\u001b[0m\n",
            "\u001b[32m2025-07-30 09:16:43.720\u001b[0m | \u001b[1mINFO    \u001b[0m | \u001b[36mbioimageio.spec._internal.io_utils\u001b[0m:\u001b[36mopen_bioimageio_yaml\u001b[0m:\u001b[36m112\u001b[0m - \u001b[1mloading affable-shark from https://uk1s3.embassy.ebi.ac.uk/public-datasets/bioimage.io/affable-shark/1.2/files/rdf.yaml\u001b[0m\n",
            "\u001b[32m2025-07-30 09:16:45.081\u001b[0m | \u001b[1mINFO    \u001b[0m | \u001b[36mbioimageio.spec._internal.io_utils\u001b[0m:\u001b[36mopen_bioimageio_yaml\u001b[0m:\u001b[36m112\u001b[0m - \u001b[1mloading affable-shark from https://uk1s3.embassy.ebi.ac.uk/public-datasets/bioimage.io/affable-shark/1.2/files/rdf.yaml\u001b[0m\n",
            "\u001b[32m2025-07-30 09:17:03.658\u001b[0m | \u001b[1mINFO    \u001b[0m | \u001b[36mbioimageio.spec._internal.io_utils\u001b[0m:\u001b[36mopen_bioimageio_yaml\u001b[0m:\u001b[36m112\u001b[0m - \u001b[1mloading affable-shark from https://uk1s3.embassy.ebi.ac.uk/public-datasets/bioimage.io/affable-shark/1.2/files/rdf.yaml\u001b[0m\n",
            "\u001b[32m2025-07-30 09:17:06.243\u001b[0m | \u001b[1mINFO    \u001b[0m | \u001b[36mbioimageio.spec._internal.io_utils\u001b[0m:\u001b[36mopen_bioimageio_yaml\u001b[0m:\u001b[36m112\u001b[0m - \u001b[1mloading affable-shark from https://uk1s3.embassy.ebi.ac.uk/public-datasets/bioimage.io/affable-shark/1.2/files/rdf.yaml\u001b[0m\n",
            "\u001b[32m2025-07-30 09:17:26.563\u001b[0m | \u001b[1mINFO    \u001b[0m | \u001b[36mbioimageio.spec._internal.io_utils\u001b[0m:\u001b[36mopen_bioimageio_yaml\u001b[0m:\u001b[36m112\u001b[0m - \u001b[1mloading affable-shark from https://uk1s3.embassy.ebi.ac.uk/public-datasets/bioimage.io/affable-shark/1.2/files/rdf.yaml\u001b[0m\n",
            "\u001b[32m2025-07-30 09:17:28.008\u001b[0m | \u001b[1mINFO    \u001b[0m | \u001b[36mbioimageio.spec._internal.io_utils\u001b[0m:\u001b[36mopen_bioimageio_yaml\u001b[0m:\u001b[36m112\u001b[0m - \u001b[1mloading affable-shark from https://uk1s3.embassy.ebi.ac.uk/public-datasets/bioimage.io/affable-shark/1.2/files/rdf.yaml\u001b[0m\n",
            "\u001b[32m2025-07-30 09:17:45.864\u001b[0m | \u001b[1mINFO    \u001b[0m | \u001b[36mbioimageio.spec._internal.io_utils\u001b[0m:\u001b[36mopen_bioimageio_yaml\u001b[0m:\u001b[36m112\u001b[0m - \u001b[1mloading affable-shark from https://uk1s3.embassy.ebi.ac.uk/public-datasets/bioimage.io/affable-shark/1.2/files/rdf.yaml\u001b[0m\n",
            "\u001b[32m2025-07-30 09:17:47.748\u001b[0m | \u001b[1mINFO    \u001b[0m | \u001b[36mbioimageio.spec._internal.io_utils\u001b[0m:\u001b[36mopen_bioimageio_yaml\u001b[0m:\u001b[36m112\u001b[0m - \u001b[1mloading affable-shark from https://uk1s3.embassy.ebi.ac.uk/public-datasets/bioimage.io/affable-shark/1.2/files/rdf.yaml\u001b[0m\n",
            "\u001b[32m2025-07-30 09:18:05.278\u001b[0m | \u001b[1mINFO    \u001b[0m | \u001b[36mbioimageio.spec._internal.io_utils\u001b[0m:\u001b[36mopen_bioimageio_yaml\u001b[0m:\u001b[36m112\u001b[0m - \u001b[1mloading affable-shark from https://uk1s3.embassy.ebi.ac.uk/public-datasets/bioimage.io/affable-shark/1.2/files/rdf.yaml\u001b[0m\n",
            "\u001b[32m2025-07-30 09:18:08.838\u001b[0m | \u001b[1mINFO    \u001b[0m | \u001b[36mbioimageio.spec._internal.io_utils\u001b[0m:\u001b[36mopen_bioimageio_yaml\u001b[0m:\u001b[36m112\u001b[0m - \u001b[1mloading affable-shark from https://uk1s3.embassy.ebi.ac.uk/public-datasets/bioimage.io/affable-shark/1.2/files/rdf.yaml\u001b[0m\n",
            "\u001b[32m2025-07-30 09:18:26.454\u001b[0m | \u001b[1mINFO    \u001b[0m | \u001b[36mbioimageio.spec._internal.io_utils\u001b[0m:\u001b[36mopen_bioimageio_yaml\u001b[0m:\u001b[36m112\u001b[0m - \u001b[1mloading affable-shark from https://uk1s3.embassy.ebi.ac.uk/public-datasets/bioimage.io/affable-shark/1.2/files/rdf.yaml\u001b[0m\n",
            "\u001b[32m2025-07-30 09:18:28.828\u001b[0m | \u001b[1mINFO    \u001b[0m | \u001b[36mbioimageio.spec._internal.io_utils\u001b[0m:\u001b[36mopen_bioimageio_yaml\u001b[0m:\u001b[36m112\u001b[0m - \u001b[1mloading affable-shark from https://uk1s3.embassy.ebi.ac.uk/public-datasets/bioimage.io/affable-shark/1.2/files/rdf.yaml\u001b[0m\n",
            "\u001b[32m2025-07-30 09:18:45.606\u001b[0m | \u001b[1mINFO    \u001b[0m | \u001b[36mbioimageio.spec._internal.io_utils\u001b[0m:\u001b[36mopen_bioimageio_yaml\u001b[0m:\u001b[36m112\u001b[0m - \u001b[1mloading affable-shark from https://uk1s3.embassy.ebi.ac.uk/public-datasets/bioimage.io/affable-shark/1.2/files/rdf.yaml\u001b[0m\n",
            "\u001b[32m2025-07-30 09:18:48.119\u001b[0m | \u001b[1mINFO    \u001b[0m | \u001b[36mbioimageio.spec._internal.io_utils\u001b[0m:\u001b[36mopen_bioimageio_yaml\u001b[0m:\u001b[36m112\u001b[0m - \u001b[1mloading affable-shark from https://uk1s3.embassy.ebi.ac.uk/public-datasets/bioimage.io/affable-shark/1.2/files/rdf.yaml\u001b[0m\n",
            "\u001b[32m2025-07-30 09:19:05.132\u001b[0m | \u001b[1mINFO    \u001b[0m | \u001b[36mbioimageio.spec._internal.io_utils\u001b[0m:\u001b[36mopen_bioimageio_yaml\u001b[0m:\u001b[36m112\u001b[0m - \u001b[1mloading affable-shark from https://uk1s3.embassy.ebi.ac.uk/public-datasets/bioimage.io/affable-shark/1.2/files/rdf.yaml\u001b[0m\n",
            "\u001b[32m2025-07-30 09:19:08.926\u001b[0m | \u001b[1mINFO    \u001b[0m | \u001b[36mbioimageio.spec._internal.io_utils\u001b[0m:\u001b[36mopen_bioimageio_yaml\u001b[0m:\u001b[36m112\u001b[0m - \u001b[1mloading affable-shark from https://uk1s3.embassy.ebi.ac.uk/public-datasets/bioimage.io/affable-shark/1.2/files/rdf.yaml\u001b[0m\n",
            "\u001b[32m2025-07-30 09:19:26.091\u001b[0m | \u001b[1mINFO    \u001b[0m | \u001b[36mbioimageio.spec._internal.io_utils\u001b[0m:\u001b[36mopen_bioimageio_yaml\u001b[0m:\u001b[36m112\u001b[0m - \u001b[1mloading affable-shark from https://uk1s3.embassy.ebi.ac.uk/public-datasets/bioimage.io/affable-shark/1.2/files/rdf.yaml\u001b[0m\n",
            "\u001b[32m2025-07-30 09:19:28.540\u001b[0m | \u001b[1mINFO    \u001b[0m | \u001b[36mbioimageio.spec._internal.io_utils\u001b[0m:\u001b[36mopen_bioimageio_yaml\u001b[0m:\u001b[36m112\u001b[0m - \u001b[1mloading affable-shark from https://uk1s3.embassy.ebi.ac.uk/public-datasets/bioimage.io/affable-shark/1.2/files/rdf.yaml\u001b[0m\n",
            "\u001b[32m2025-07-30 09:19:45.287\u001b[0m | \u001b[1mINFO    \u001b[0m | \u001b[36mbioimageio.spec._internal.io_utils\u001b[0m:\u001b[36mopen_bioimageio_yaml\u001b[0m:\u001b[36m112\u001b[0m - \u001b[1mloading affable-shark from https://uk1s3.embassy.ebi.ac.uk/public-datasets/bioimage.io/affable-shark/1.2/files/rdf.yaml\u001b[0m\n",
            "\u001b[32m2025-07-30 09:19:47.714\u001b[0m | \u001b[1mINFO    \u001b[0m | \u001b[36mbioimageio.spec._internal.io_utils\u001b[0m:\u001b[36mopen_bioimageio_yaml\u001b[0m:\u001b[36m112\u001b[0m - \u001b[1mloading affable-shark from https://uk1s3.embassy.ebi.ac.uk/public-datasets/bioimage.io/affable-shark/1.2/files/rdf.yaml\u001b[0m\n",
            "\u001b[32m2025-07-30 09:20:04.844\u001b[0m | \u001b[1mINFO    \u001b[0m | \u001b[36mbioimageio.spec._internal.io_utils\u001b[0m:\u001b[36mopen_bioimageio_yaml\u001b[0m:\u001b[36m112\u001b[0m - \u001b[1mloading affable-shark from https://uk1s3.embassy.ebi.ac.uk/public-datasets/bioimage.io/affable-shark/1.2/files/rdf.yaml\u001b[0m\n"
          ]
        },
        {
          "name": "stdout",
          "output_type": "stream",
          "text": [
            "Wed Jul 30 09:20:17 2025\n",
            "Saved binarized 3D mask.\n",
            "(99, 512, 512)\n",
            "2015.01.17_ETP_1h-1h_G_Pos001_S001_17_C3\n",
            "Saved as Zarr: ./zarr_files/2015.01.17_ETP_1h-1h_G_Pos001_S001_17_C3.zarr\n",
            "Z_dask shape: (99, 512, 512)\n"
          ]
        },
        {
          "name": "stderr",
          "output_type": "stream",
          "text": [
            "\u001b[32m2025-07-30 09:20:19.768\u001b[0m | \u001b[1mINFO    \u001b[0m | \u001b[36mbioimageio.spec._internal.io_utils\u001b[0m:\u001b[36mopen_bioimageio_yaml\u001b[0m:\u001b[36m112\u001b[0m - \u001b[1mloading affable-shark from https://uk1s3.embassy.ebi.ac.uk/public-datasets/bioimage.io/affable-shark/1.2/files/rdf.yaml\u001b[0m\n",
            "\u001b[32m2025-07-30 09:20:19.788\u001b[0m | \u001b[1mINFO    \u001b[0m | \u001b[36mbioimageio.spec._internal.io_utils\u001b[0m:\u001b[36mopen_bioimageio_yaml\u001b[0m:\u001b[36m112\u001b[0m - \u001b[1mloading affable-shark from https://uk1s3.embassy.ebi.ac.uk/public-datasets/bioimage.io/affable-shark/1.2/files/rdf.yaml\u001b[0m\n"
          ]
        },
        {
          "name": "stdout",
          "output_type": "stream",
          "text": [
            "Wed Jul 30 09:20:19 2025\n"
          ]
        },
        {
          "ename": "ComposerError",
          "evalue": "expected a single document in the stream\n  in \"/root/.cache/bioimageio/a9089c4a932954227e300606fff4c424-rdf.yaml\", line 16, column 5\nbut found another document\n  in \"/root/.cache/bioimageio/a9089c4a932954227e300606fff4c424-rdf.yaml\", line 17, column 5",
          "output_type": "error",
          "traceback": [
            "\u001b[0;31m---------------------------------------------------------------------------\u001b[0m",
            "\u001b[0;31mComposerError\u001b[0m                             Traceback (most recent call last)",
            "\u001b[0;32m/tmp/ipython-input-19-831357519.py\u001b[0m in \u001b[0;36m<cell line: 0>\u001b[0;34m()\u001b[0m\n\u001b[1;32m      1\u001b[0m \u001b[0;31m#to call the function, you need:\u001b[0m\u001b[0;34m\u001b[0m\u001b[0;34m\u001b[0m\u001b[0m\n\u001b[0;32m----> 2\u001b[0;31m \u001b[0mprocess_images\u001b[0m\u001b[0;34m(\u001b[0m\u001b[0mdict\u001b[0m\u001b[0;34m[\u001b[0m\u001b[0;34m\"G\"\u001b[0m\u001b[0;34m]\u001b[0m\u001b[0;34m[\u001b[0m\u001b[0;36m0\u001b[0m\u001b[0;34m]\u001b[0m\u001b[0;34m)\u001b[0m\u001b[0;34m\u001b[0m\u001b[0;34m\u001b[0m\u001b[0m\n\u001b[0m\u001b[1;32m      3\u001b[0m \u001b[0;31m#print(shape)\u001b[0m\u001b[0;34m\u001b[0m\u001b[0;34m\u001b[0m\u001b[0m\n",
            "\u001b[0;32m/tmp/ipython-input-18-167876731.py\u001b[0m in \u001b[0;36mprocess_images\u001b[0;34m(image_data)\u001b[0m\n\u001b[1;32m     26\u001b[0m \u001b[0;34m\u001b[0m\u001b[0m\n\u001b[1;32m     27\u001b[0m         \u001b[0mprint\u001b[0m\u001b[0;34m(\u001b[0m\u001b[0mtime\u001b[0m\u001b[0;34m.\u001b[0m\u001b[0mctime\u001b[0m\u001b[0;34m(\u001b[0m\u001b[0;34m)\u001b[0m\u001b[0;34m)\u001b[0m\u001b[0;34m\u001b[0m\u001b[0;34m\u001b[0m\u001b[0m\n\u001b[0;32m---> 28\u001b[0;31m         \u001b[0mresults\u001b[0m \u001b[0;34m=\u001b[0m \u001b[0mdask\u001b[0m\u001b[0;34m.\u001b[0m\u001b[0mcompute\u001b[0m\u001b[0;34m(\u001b[0m\u001b[0;34m*\u001b[0m\u001b[0mlazy_results\u001b[0m\u001b[0;34m)\u001b[0m\u001b[0;34m\u001b[0m\u001b[0;34m\u001b[0m\u001b[0m\n\u001b[0m\u001b[1;32m     29\u001b[0m         \u001b[0mprint\u001b[0m\u001b[0;34m(\u001b[0m\u001b[0mtime\u001b[0m\u001b[0;34m.\u001b[0m\u001b[0mctime\u001b[0m\u001b[0;34m(\u001b[0m\u001b[0;34m)\u001b[0m\u001b[0;34m)\u001b[0m\u001b[0;34m\u001b[0m\u001b[0;34m\u001b[0m\u001b[0m\n\u001b[1;32m     30\u001b[0m \u001b[0;34m\u001b[0m\u001b[0m\n",
            "\u001b[0;32m/usr/local/lib/python3.11/dist-packages/dask/base.py\u001b[0m in \u001b[0;36mcompute\u001b[0;34m(traverse, optimize_graph, scheduler, get, *args, **kwargs)\u001b[0m\n\u001b[1;32m    679\u001b[0m         \u001b[0mkeys\u001b[0m \u001b[0;34m=\u001b[0m \u001b[0mlist\u001b[0m\u001b[0;34m(\u001b[0m\u001b[0mflatten\u001b[0m\u001b[0;34m(\u001b[0m\u001b[0mexpr\u001b[0m\u001b[0;34m.\u001b[0m\u001b[0m__dask_keys__\u001b[0m\u001b[0;34m(\u001b[0m\u001b[0;34m)\u001b[0m\u001b[0;34m)\u001b[0m\u001b[0;34m)\u001b[0m\u001b[0;34m\u001b[0m\u001b[0;34m\u001b[0m\u001b[0m\n\u001b[1;32m    680\u001b[0m \u001b[0;34m\u001b[0m\u001b[0m\n\u001b[0;32m--> 681\u001b[0;31m         \u001b[0mresults\u001b[0m \u001b[0;34m=\u001b[0m \u001b[0mschedule\u001b[0m\u001b[0;34m(\u001b[0m\u001b[0mexpr\u001b[0m\u001b[0;34m,\u001b[0m \u001b[0mkeys\u001b[0m\u001b[0;34m,\u001b[0m \u001b[0;34m**\u001b[0m\u001b[0mkwargs\u001b[0m\u001b[0;34m)\u001b[0m\u001b[0;34m\u001b[0m\u001b[0;34m\u001b[0m\u001b[0m\n\u001b[0m\u001b[1;32m    682\u001b[0m \u001b[0;34m\u001b[0m\u001b[0m\n\u001b[1;32m    683\u001b[0m     \u001b[0;32mreturn\u001b[0m \u001b[0mrepack\u001b[0m\u001b[0;34m(\u001b[0m\u001b[0mresults\u001b[0m\u001b[0;34m)\u001b[0m\u001b[0;34m\u001b[0m\u001b[0;34m\u001b[0m\u001b[0m\n",
            "\u001b[0;32m/tmp/ipython-input-5-1236101561.py\u001b[0m in \u001b[0;36mcreate_a_mask\u001b[0;34m(image, z)\u001b[0m\n\u001b[1;32m      1\u001b[0m \u001b[0;32mdef\u001b[0m \u001b[0mcreate_a_mask\u001b[0m\u001b[0;34m(\u001b[0m\u001b[0mimage\u001b[0m\u001b[0;34m,\u001b[0m \u001b[0mz\u001b[0m\u001b[0;34m)\u001b[0m\u001b[0;34m:\u001b[0m\u001b[0;34m\u001b[0m\u001b[0;34m\u001b[0m\u001b[0m\n\u001b[1;32m      2\u001b[0m     \u001b[0;31m#plane = image_3D[z, :, :].compute() # convert the Dask array into a Numpy array\u001b[0m\u001b[0;34m\u001b[0m\u001b[0;34m\u001b[0m\u001b[0m\n\u001b[0;32m----> 3\u001b[0;31m     \u001b[0mprediction\u001b[0m\u001b[0;34m,\u001b[0m \u001b[0msample\u001b[0m\u001b[0;34m,\u001b[0m \u001b[0minp_id\u001b[0m\u001b[0;34m,\u001b[0m \u001b[0moutp_id\u001b[0m \u001b[0;34m=\u001b[0m \u001b[0mrun_model_inference\u001b[0m\u001b[0;34m(\u001b[0m\u001b[0mbmz_model_id\u001b[0m\u001b[0;34m,\u001b[0m \u001b[0mimage\u001b[0m\u001b[0;34m)\u001b[0m\u001b[0;34m\u001b[0m\u001b[0;34m\u001b[0m\u001b[0m\n\u001b[0m\u001b[1;32m      4\u001b[0m     \u001b[0mname\u001b[0m \u001b[0;34m=\u001b[0m \u001b[0;34m\"z:%s\"\u001b[0m \u001b[0;34m%\u001b[0m \u001b[0;34m(\u001b[0m\u001b[0mz\u001b[0m\u001b[0;34m)\u001b[0m\u001b[0;34m\u001b[0m\u001b[0;34m\u001b[0m\u001b[0m\n\u001b[1;32m      5\u001b[0m     \u001b[0;32mreturn\u001b[0m \u001b[0mprediction\u001b[0m\u001b[0;34m,\u001b[0m \u001b[0msample\u001b[0m\u001b[0;34m,\u001b[0m \u001b[0minp_id\u001b[0m\u001b[0;34m,\u001b[0m \u001b[0moutp_id\u001b[0m\u001b[0;34m,\u001b[0m \u001b[0mname\u001b[0m\u001b[0;34m\u001b[0m\u001b[0;34m\u001b[0m\u001b[0m\n",
            "\u001b[0;32m/tmp/ipython-input-4-1264669663.py\u001b[0m in \u001b[0;36mrun_model_inference\u001b[0;34m(bmz_model, arr)\u001b[0m\n\u001b[1;32m      2\u001b[0m \u001b[0;32mdef\u001b[0m \u001b[0mrun_model_inference\u001b[0m\u001b[0;34m(\u001b[0m\u001b[0mbmz_model\u001b[0m\u001b[0;34m,\u001b[0m \u001b[0marr\u001b[0m\u001b[0;34m)\u001b[0m\u001b[0;34m:\u001b[0m\u001b[0;34m\u001b[0m\u001b[0;34m\u001b[0m\u001b[0m\n\u001b[1;32m      3\u001b[0m     \u001b[0;31m# load model\u001b[0m\u001b[0;34m\u001b[0m\u001b[0;34m\u001b[0m\u001b[0m\n\u001b[0;32m----> 4\u001b[0;31m     \u001b[0mmodel_resource\u001b[0m \u001b[0;34m=\u001b[0m \u001b[0mbioimageio\u001b[0m\u001b[0;34m.\u001b[0m\u001b[0mcore\u001b[0m\u001b[0;34m.\u001b[0m\u001b[0mload_description\u001b[0m\u001b[0;34m(\u001b[0m\u001b[0mbmz_model\u001b[0m\u001b[0;34m)\u001b[0m\u001b[0;34m\u001b[0m\u001b[0;34m\u001b[0m\u001b[0m\n\u001b[0m\u001b[1;32m      5\u001b[0m \u001b[0;34m\u001b[0m\u001b[0m\n\u001b[1;32m      6\u001b[0m     \u001b[0;31m# load model's test input image\u001b[0m\u001b[0;34m\u001b[0m\u001b[0;34m\u001b[0m\u001b[0m\n",
            "\u001b[0;32m/usr/local/lib/python3.11/dist-packages/bioimageio/spec/_io.py\u001b[0m in \u001b[0;36mload_description\u001b[0;34m(source, format_version, perform_io_checks, known_files)\u001b[0m\n\u001b[1;32m     56\u001b[0m         \u001b[0;32mreturn\u001b[0m \u001b[0msource\u001b[0m  \u001b[0;31m# pyright: ignore[reportReturnType]\u001b[0m\u001b[0;34m\u001b[0m\u001b[0;34m\u001b[0m\u001b[0m\n\u001b[1;32m     57\u001b[0m \u001b[0;34m\u001b[0m\u001b[0m\n\u001b[0;32m---> 58\u001b[0;31m     \u001b[0mopened\u001b[0m \u001b[0;34m=\u001b[0m \u001b[0mopen_bioimageio_yaml\u001b[0m\u001b[0;34m(\u001b[0m\u001b[0msource\u001b[0m\u001b[0;34m)\u001b[0m\u001b[0;34m\u001b[0m\u001b[0;34m\u001b[0m\u001b[0m\n\u001b[0m\u001b[1;32m     59\u001b[0m \u001b[0;34m\u001b[0m\u001b[0m\n\u001b[1;32m     60\u001b[0m     context = validation_context_var.get().replace(\n",
            "\u001b[0;32m/usr/local/lib/python3.11/dist-packages/bioimageio/spec/_internal/io_utils.py\u001b[0m in \u001b[0;36mopen_bioimageio_yaml\u001b[0;34m(source, **kwargs)\u001b[0m\n\u001b[1;32m    123\u001b[0m         \u001b[0mlocal_source\u001b[0m \u001b[0;34m=\u001b[0m \u001b[0mlocal_source\u001b[0m \u001b[0;34m/\u001b[0m \u001b[0mfind_bioimageio_yaml_file_name\u001b[0m\u001b[0;34m(\u001b[0m\u001b[0mlocal_source\u001b[0m\u001b[0;34m)\u001b[0m\u001b[0;34m\u001b[0m\u001b[0;34m\u001b[0m\u001b[0m\n\u001b[1;32m    124\u001b[0m \u001b[0;34m\u001b[0m\u001b[0m\n\u001b[0;32m--> 125\u001b[0;31m     \u001b[0mcontent\u001b[0m \u001b[0;34m=\u001b[0m \u001b[0m_sanitize_bioimageio_yaml\u001b[0m\u001b[0;34m(\u001b[0m\u001b[0mread_yaml\u001b[0m\u001b[0;34m(\u001b[0m\u001b[0mlocal_source\u001b[0m\u001b[0;34m)\u001b[0m\u001b[0;34m)\u001b[0m\u001b[0;34m\u001b[0m\u001b[0;34m\u001b[0m\u001b[0m\n\u001b[0m\u001b[1;32m    126\u001b[0m \u001b[0;34m\u001b[0m\u001b[0m\n\u001b[1;32m    127\u001b[0m     \u001b[0;32mreturn\u001b[0m \u001b[0mOpenedBioimageioYaml\u001b[0m\u001b[0;34m(\u001b[0m\u001b[0mcontent\u001b[0m\u001b[0;34m,\u001b[0m \u001b[0mroot\u001b[0m\u001b[0;34m,\u001b[0m \u001b[0mdownloaded\u001b[0m\u001b[0;34m.\u001b[0m\u001b[0moriginal_file_name\u001b[0m\u001b[0;34m)\u001b[0m\u001b[0;34m\u001b[0m\u001b[0;34m\u001b[0m\u001b[0m\n",
            "\u001b[0;32m/usr/local/lib/python3.11/dist-packages/bioimageio/spec/_internal/io_utils.py\u001b[0m in \u001b[0;36mread_yaml\u001b[0;34m(file)\u001b[0m\n\u001b[1;32m     51\u001b[0m \u001b[0;34m\u001b[0m\u001b[0m\n\u001b[1;32m     52\u001b[0m     \u001b[0;32mwith\u001b[0m \u001b[0mcm\u001b[0m \u001b[0;32mas\u001b[0m \u001b[0mf\u001b[0m\u001b[0;34m:\u001b[0m\u001b[0;34m\u001b[0m\u001b[0;34m\u001b[0m\u001b[0m\n\u001b[0;32m---> 53\u001b[0;31m         \u001b[0mcontent\u001b[0m\u001b[0;34m:\u001b[0m \u001b[0mYamlValue\u001b[0m \u001b[0;34m=\u001b[0m \u001b[0myaml\u001b[0m\u001b[0;34m.\u001b[0m\u001b[0mload\u001b[0m\u001b[0;34m(\u001b[0m\u001b[0mf\u001b[0m\u001b[0;34m)\u001b[0m\u001b[0;34m\u001b[0m\u001b[0;34m\u001b[0m\u001b[0m\n\u001b[0m\u001b[1;32m     54\u001b[0m \u001b[0;34m\u001b[0m\u001b[0m\n\u001b[1;32m     55\u001b[0m     \u001b[0;32mreturn\u001b[0m \u001b[0mcontent\u001b[0m\u001b[0;34m\u001b[0m\u001b[0;34m\u001b[0m\u001b[0m\n",
            "\u001b[0;32m/usr/local/lib/python3.11/dist-packages/ruyaml/main.py\u001b[0m in \u001b[0;36mload\u001b[0;34m(self, stream)\u001b[0m\n\u001b[1;32m    449\u001b[0m         \u001b[0mconstructor\u001b[0m\u001b[0;34m,\u001b[0m \u001b[0mparser\u001b[0m \u001b[0;34m=\u001b[0m \u001b[0mself\u001b[0m\u001b[0;34m.\u001b[0m\u001b[0mget_constructor_parser\u001b[0m\u001b[0;34m(\u001b[0m\u001b[0mstream\u001b[0m\u001b[0;34m)\u001b[0m\u001b[0;34m\u001b[0m\u001b[0;34m\u001b[0m\u001b[0m\n\u001b[1;32m    450\u001b[0m         \u001b[0;32mtry\u001b[0m\u001b[0;34m:\u001b[0m\u001b[0;34m\u001b[0m\u001b[0;34m\u001b[0m\u001b[0m\n\u001b[0;32m--> 451\u001b[0;31m             \u001b[0;32mreturn\u001b[0m \u001b[0mconstructor\u001b[0m\u001b[0;34m.\u001b[0m\u001b[0mget_single_data\u001b[0m\u001b[0;34m(\u001b[0m\u001b[0;34m)\u001b[0m\u001b[0;34m\u001b[0m\u001b[0;34m\u001b[0m\u001b[0m\n\u001b[0m\u001b[1;32m    452\u001b[0m         \u001b[0;32mfinally\u001b[0m\u001b[0;34m:\u001b[0m\u001b[0;34m\u001b[0m\u001b[0;34m\u001b[0m\u001b[0m\n\u001b[1;32m    453\u001b[0m             \u001b[0mparser\u001b[0m\u001b[0;34m.\u001b[0m\u001b[0mdispose\u001b[0m\u001b[0;34m(\u001b[0m\u001b[0;34m)\u001b[0m\u001b[0;34m\u001b[0m\u001b[0;34m\u001b[0m\u001b[0m\n",
            "\u001b[0;32m/usr/local/lib/python3.11/dist-packages/ruyaml/constructor.py\u001b[0m in \u001b[0;36mget_single_data\u001b[0;34m(self)\u001b[0m\n\u001b[1;32m    137\u001b[0m         \u001b[0;31m# type: () -> Any\u001b[0m\u001b[0;34m\u001b[0m\u001b[0;34m\u001b[0m\u001b[0m\n\u001b[1;32m    138\u001b[0m         \u001b[0;31m# Ensure that the stream contains a single document and construct it.\u001b[0m\u001b[0;34m\u001b[0m\u001b[0;34m\u001b[0m\u001b[0m\n\u001b[0;32m--> 139\u001b[0;31m         \u001b[0mnode\u001b[0m \u001b[0;34m=\u001b[0m \u001b[0mself\u001b[0m\u001b[0;34m.\u001b[0m\u001b[0mcomposer\u001b[0m\u001b[0;34m.\u001b[0m\u001b[0mget_single_node\u001b[0m\u001b[0;34m(\u001b[0m\u001b[0;34m)\u001b[0m\u001b[0;34m\u001b[0m\u001b[0;34m\u001b[0m\u001b[0m\n\u001b[0m\u001b[1;32m    140\u001b[0m         \u001b[0;32mif\u001b[0m \u001b[0mnode\u001b[0m \u001b[0;32mis\u001b[0m \u001b[0;32mnot\u001b[0m \u001b[0;32mNone\u001b[0m\u001b[0;34m:\u001b[0m\u001b[0;34m\u001b[0m\u001b[0;34m\u001b[0m\u001b[0m\n\u001b[1;32m    141\u001b[0m             \u001b[0;32mreturn\u001b[0m \u001b[0mself\u001b[0m\u001b[0;34m.\u001b[0m\u001b[0mconstruct_document\u001b[0m\u001b[0;34m(\u001b[0m\u001b[0mnode\u001b[0m\u001b[0;34m)\u001b[0m\u001b[0;34m\u001b[0m\u001b[0;34m\u001b[0m\u001b[0m\n",
            "\u001b[0;32m/usr/local/lib/python3.11/dist-packages/ruyaml/composer.py\u001b[0m in \u001b[0;36mget_single_node\u001b[0;34m(self)\u001b[0m\n\u001b[1;32m     76\u001b[0m         \u001b[0;32mif\u001b[0m \u001b[0;32mnot\u001b[0m \u001b[0mself\u001b[0m\u001b[0;34m.\u001b[0m\u001b[0mparser\u001b[0m\u001b[0;34m.\u001b[0m\u001b[0mcheck_event\u001b[0m\u001b[0;34m(\u001b[0m\u001b[0mStreamEndEvent\u001b[0m\u001b[0;34m)\u001b[0m\u001b[0;34m:\u001b[0m\u001b[0;34m\u001b[0m\u001b[0;34m\u001b[0m\u001b[0m\n\u001b[1;32m     77\u001b[0m             \u001b[0mevent\u001b[0m \u001b[0;34m=\u001b[0m \u001b[0mself\u001b[0m\u001b[0;34m.\u001b[0m\u001b[0mparser\u001b[0m\u001b[0;34m.\u001b[0m\u001b[0mget_event\u001b[0m\u001b[0;34m(\u001b[0m\u001b[0;34m)\u001b[0m\u001b[0;34m\u001b[0m\u001b[0;34m\u001b[0m\u001b[0m\n\u001b[0;32m---> 78\u001b[0;31m             raise ComposerError(\n\u001b[0m\u001b[1;32m     79\u001b[0m                 \u001b[0;34m'expected a single document in the stream'\u001b[0m\u001b[0;34m,\u001b[0m\u001b[0;34m\u001b[0m\u001b[0;34m\u001b[0m\u001b[0m\n\u001b[1;32m     80\u001b[0m                 \u001b[0mdocument\u001b[0m\u001b[0;34m.\u001b[0m\u001b[0mstart_mark\u001b[0m\u001b[0;34m,\u001b[0m\u001b[0;34m\u001b[0m\u001b[0;34m\u001b[0m\u001b[0m\n",
            "\u001b[0;31mComposerError\u001b[0m: expected a single document in the stream\n  in \"/root/.cache/bioimageio/a9089c4a932954227e300606fff4c424-rdf.yaml\", line 16, column 5\nbut found another document\n  in \"/root/.cache/bioimageio/a9089c4a932954227e300606fff4c424-rdf.yaml\", line 17, column 5"
          ]
        }
      ],
      "source": [
        "#to call the function, you need:\n",
        "process_images(dict[\"G\"][0])\n",
        "#print(shape)\n"
      ]
    },
    {
      "cell_type": "markdown",
      "metadata": {
        "id": "oNEMOeZ1cPKp"
      },
      "source": [
        "Петля для опрацювання усіх зображень в папці (може зайти до кількох годин):"
      ]
    },
    {
      "cell_type": "code",
      "execution_count": null,
      "metadata": {
        "id": "3Wr2nulIbadm"
      },
      "outputs": [],
      "source": [
        "for phase in phases:\n",
        "  process_images(dict[phase][0])\n",
        "  print(f\"Processing of phase {phase} completed\")\n",
        "print(f\"Completed all.\")"
      ]
    },
    {
      "cell_type": "markdown",
      "metadata": {
        "id": "Xswx1h2CWxfj"
      },
      "source": [
        "# Джерела"
      ]
    },
    {
      "cell_type": "markdown",
      "metadata": {
        "id": "ECqZ1OMHR6Rk"
      },
      "source": [
        "* Microscopy data analysis: machine learning and the BioImage Archive Course, 2025\n",
        "* https://matplotlib.org/stable/api/pyplot_summary.html\n",
        "* https://pypi.org/project/zarr/#:~:text=Zarr%20is%20a%20Python%20package%20providing%20an%20implementation,any%20NumPy%20dtype.%20Chunk%20arrays%20along%20any%20dimension.\n",
        "* https://docs.dask.org/en/stable/index.html\n",
        "* https://pypi.org/project/numpy/\n",
        "* https://pypi.org/project/bioimageio.core/\n",
        "* https://pypi.org/project/imageio/#:~:text=Imageio%20is%20a%20Python%20library%20that%20provides%20an,and%20is%20easy%20to%20install.%20Main%20website%3A%20https%3A%2F%2Fimageio.readthedocs.io%2F\n",
        "* https://pypi.org/project/tifffile/\n"
      ]
    }
  ],
  "metadata": {
    "colab": {
      "provenance": [],
      "include_colab_link": true
    },
    "kernelspec": {
      "display_name": "Python 3",
      "name": "python3"
    },
    "language_info": {
      "name": "python"
    }
  },
  "nbformat": 4,
  "nbformat_minor": 0
}